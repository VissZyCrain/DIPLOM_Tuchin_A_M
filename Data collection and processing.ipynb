{
 "cells": [
  {
   "cell_type": "markdown",
   "metadata": {},
   "source": [
    "#### Сбор и обработка данных\n",
    "#### Изучение возможности расширения торгового направления в нишах медицинской, производственной и металлической мебели (на примере анализа ассортимента конкурентов, с целью дальнейшего составления рекомендаций собственникам бизнеса). \n",
    "\n"
   ]
  },
  {
   "cell_type": "markdown",
   "metadata": {},
   "source": [
    "Все данные, которые были получены для исследования, были получены при помощи парсинга официальных сайтов компаний, занимающихся продажей медицинской, производственной и металлической мебели на местном рынке города V, было исследовано 5 сайтов предполагаемых конкурентов.\n",
    "В результате парсинга было получено пять уникальных наборов данных, нуждающихся в дополнительной очистке и обработке. Для данных которые касались конкурентов были присвоены порядковые номера от 1 до 5.\n"
   ]
  },
  {
   "cell_type": "markdown",
   "metadata": {},
   "source": [
    "#### Библиотеки"
   ]
  },
  {
   "cell_type": "code",
   "execution_count": 4,
   "metadata": {},
   "outputs": [],
   "source": [
    "#подключаем библиотеки\n",
    "import pandas as pd\n",
    "import time\n",
    "import requests\n",
    "from bs4 import BeautifulSoup\n",
    "import re\n",
    "     "
   ]
  },
  {
   "cell_type": "markdown",
   "metadata": {},
   "source": [
    "#### Парсинг по конкуренту 1"
   ]
  },
  {
   "cell_type": "markdown",
   "metadata": {},
   "source": [
    "[Официальный сайт конкурента 1](https://ижевск.железная-мебель.рф/)\n",
    "\n",
    "Интересующие категории:\n",
    "* Медицинская мебель\n",
    "* Металлическая мебель (Стеллажи)\n",
    "* Металлическая мебель (Шкафы)\n",
    "* Производственная мебель (Верстаки, столы, тумбы)\n",
    "\n",
    "Данные для сбора:\n",
    "* Название\n",
    "* Подкатегория\n",
    "* Габаритные размеры\n",
    "* Описание\n",
    "* Наличие\n",
    "* Продажная цена"
   ]
  },
  {
   "cell_type": "markdown",
   "metadata": {},
   "source": [
    "#### [Медицинская мебель](https://xn--b1afchn5b.xn----7sbenacbbl2bhik1tlb.xn--p1ai/catalog/meditsinskaya-mebel/ \"Ссылка на категорию\")"
   ]
  },
  {
   "cell_type": "code",
   "execution_count": 5,
   "metadata": {},
   "outputs": [],
   "source": [
    "# Категория медицинская мебель all pages\n",
    "def get_medecinskaya_mebel():\n",
    "  get_medecinskaya_mebel = pd.DataFrame()\n",
    "  i = 1\n",
    "  while i <= 66:\n",
    "    url = 'https://xn--b1afchn5b.xn----7sbenacbbl2bhik1tlb.xn--p1ai/catalog/meditsinskaya-mebel/?page'+'='+f'{str(i)}'\n",
    "    req = requests.get(url).text\n",
    "    time.sleep(0.3)\n",
    "    soup = BeautifulSoup(req)\n",
    "\n",
    "    medecinskaya_mebel = soup.find_all('div', class_='item-cart__content-wrap')\n",
    "\n",
    "    for el in medecinskaya_mebel:\n",
    "      title = el.find('a', 'item-cart__title').text\n",
    "      description = el.find('div', class_='props-list').text\n",
    "      size = re.findall(r'\\d*х\\d*х\\d*|\\d*x\\d*x\\d*', description)\n",
    "      availability = el.find('div', class_='item-cart__in-stock')\n",
    "      if (availability is None): # нужно добавить условие, так как наличие 2х типов - 2 разных класса в разметке\n",
    "        availability = el.find('div', class_='item-cart__not-in-stock').text\n",
    "      else:\n",
    "        availability = el.find('div', class_='item-cart__in-stock').text\n",
    "      price = el.find('div', class_='price')\n",
    "      if (price is None): # добавляем условие, так как не везде есть цена и падает с ошибкой\n",
    "        price = 'По запросу'\n",
    "      else:\n",
    "        price = el.find('div', class_='price').text\n",
    "      row = {'title': title, 'description': description, 'size': size, 'availability': availability, 'price': price}\n",
    "      get_medecinskaya_mebel = pd.concat([get_medecinskaya_mebel, pd.DataFrame([row])])\n",
    "          \n",
    "    i +=1\n",
    "  return get_medecinskaya_mebel.reset_index(drop=True)\n",
    "\n",
    "res_full = get_medecinskaya_mebel() #записываем медицинскую мебель в переменную"
   ]
  },
  {
   "cell_type": "code",
   "execution_count": 12,
   "metadata": {},
   "outputs": [
    {
     "name": "stdout",
     "output_type": "stream",
     "text": [
      "<class 'pandas.core.frame.DataFrame'>\n",
      "RangeIndex: 1320 entries, 0 to 1319\n",
      "Data columns (total 5 columns):\n",
      " #   Column        Non-Null Count  Dtype \n",
      "---  ------        --------------  ----- \n",
      " 0   title         1320 non-null   object\n",
      " 1   description   1320 non-null   object\n",
      " 2   size          1320 non-null   object\n",
      " 3   availability  1320 non-null   object\n",
      " 4   price         1320 non-null   object\n",
      "dtypes: object(5)\n",
      "memory usage: 51.7+ KB\n"
     ]
    }
   ],
   "source": [
    "res_full.info()"
   ]
  },
  {
   "cell_type": "code",
   "execution_count": 13,
   "metadata": {},
   "outputs": [],
   "source": [
    "res_full.to_csv('medecinskaya_mebel-2024-09-22.csv', index=False) #записываем в файл"
   ]
  },
  {
   "cell_type": "markdown",
   "metadata": {},
   "source": [
    "#### [Металлическая мебель (Стеллажи)](https://ижевск.железная-мебель.рф/catalog/stellazhi-metallicheskie/ \"Ссылка на категорию\")"
   ]
  },
  {
   "cell_type": "code",
   "execution_count": 14,
   "metadata": {},
   "outputs": [],
   "source": [
    "# Категория стеллажи all pages\n",
    "def get_metallicheskaya_mebel_stellazhi():\n",
    "  metallicheskaya_mebel_stellazhi = pd.DataFrame()\n",
    "  i = 1\n",
    "  while i <= 303:\n",
    "    url = 'https://ижевск.железная-мебель.рф/catalog/stellazhi-metallicheskie/?page'+'='+f'{str(i)}'\n",
    "    req = requests.get(url).text\n",
    "    time.sleep(0.3)\n",
    "    soup = BeautifulSoup(req)\n",
    "\n",
    "    stellazhi = soup.find_all('div', class_='item-cart__content-wrap')\n",
    "\n",
    "    for el in stellazhi:\n",
    "      title = el.find('a', 'item-cart__title').text\n",
    "      description = el.find('div', class_='props-list').text\n",
    "      size = re.findall(r'\\d*х\\d*х\\d*|\\d*x\\d*x\\d*', description)\n",
    "      availability = el.find('div', class_='item-cart__in-stock')\n",
    "      if (availability is None): # нужно добавить условие, так как наличие 2х типов - 2 разных класса в разметке\n",
    "        availability = el.find('div', class_='item-cart__not-in-stock').text\n",
    "      else:\n",
    "        availability = el.find('div', class_='item-cart__in-stock').text\n",
    "      price = el.find('div', class_='price')\n",
    "      if (price is None): # добавляем условие, так как не везде есть цена и падает с ошибкой\n",
    "        price = 'По запросу'\n",
    "      else:\n",
    "        price = el.find('div', class_='price').text\n",
    "      row = {'title': title, 'description': description, 'size': size, 'availability': availability, 'price': price}\n",
    "      metallicheskaya_mebel_stellazhi = pd.concat([metallicheskaya_mebel_stellazhi, pd.DataFrame([row])])\n",
    "          \n",
    "    i +=1\n",
    "  return metallicheskaya_mebel_stellazhi.reset_index(drop=True)\n",
    "\n",
    "res_full_stellazhi = get_metallicheskaya_mebel_stellazhi() #записываем сейфы в переменную"
   ]
  },
  {
   "cell_type": "code",
   "execution_count": null,
   "metadata": {},
   "outputs": [],
   "source": [
    "res_full_stellazhi.info()"
   ]
  },
  {
   "cell_type": "code",
   "execution_count": null,
   "metadata": {},
   "outputs": [],
   "source": [
    "res_full_stellazhi.to_csv('metallicheskaya_mebel-stellazhi-2024-09-22.csv', index=False) #записываем в файл"
   ]
  },
  {
   "cell_type": "markdown",
   "metadata": {},
   "source": [
    "#### [Металлическая мебель (Шкафы)](https://ижевск.железная-мебель.рф/catalog/metallicheskie-shkafy/ \"Ссылка на категорию\")"
   ]
  },
  {
   "cell_type": "code",
   "execution_count": null,
   "metadata": {},
   "outputs": [],
   "source": [
    "# Категория металлические шкафы all pages\n",
    "def get_metallicheskaya_mebel_shkafy():\n",
    "  metallicheskaya_mebel_shkafy = pd.DataFrame()\n",
    "  i = 1\n",
    "  while i <= 70:\n",
    "    url = 'https://ижевск.железная-мебель.рф/catalog/metallicheskie-shkafy/?page'+'='+f'{str(i)}'\n",
    "    req = requests.get(url).text\n",
    "    time.sleep(0.3)\n",
    "    soup = BeautifulSoup(req)\n",
    "\n",
    "    shkafy = soup.find_all('div', class_='item-cart__content-wrap')\n",
    "\n",
    "    for el in shkafy:\n",
    "      title = el.find('a', 'item-cart__title').text\n",
    "      description = el.find('div', class_='props-list').text\n",
    "      size = re.findall(r'\\d*х\\d*х\\d*|\\d*x\\d*x\\d*', description)\n",
    "      availability = el.find('div', class_='item-cart__in-stock')\n",
    "      if (availability is None): # нужно добавить условие, так как наличие 2х типов - 2 разных класса в разметке\n",
    "        availability = el.find('div', class_='item-cart__not-in-stock').text\n",
    "      else:\n",
    "        availability = el.find('div', class_='item-cart__in-stock').text\n",
    "      price = el.find('div', class_='price')\n",
    "      if (price is None): # добавляем условие, так как не везде есть цена и падает с ошибкой\n",
    "        price = 'По запросу'\n",
    "      else:\n",
    "        price = el.find('div', class_='price').text\n",
    "      row = {'title': title, 'description': description, 'size': size, 'availability': availability, 'price': price}\n",
    "      metallicheskaya_mebel_shkafy = pd.concat([metallicheskaya_mebel_shkafy, pd.DataFrame([row])])\n",
    "          \n",
    "    i +=1\n",
    "  return metallicheskaya_mebel_shkafy.reset_index(drop=True)\n",
    "\n",
    "res_full_shkafy = get_metallicheskaya_mebel_shkafy() #записываем сейфы в переменную"
   ]
  },
  {
   "cell_type": "code",
   "execution_count": null,
   "metadata": {},
   "outputs": [],
   "source": [
    "res_full_shkafy.info()"
   ]
  },
  {
   "cell_type": "code",
   "execution_count": null,
   "metadata": {},
   "outputs": [],
   "source": [
    "res_full_shkafy.to_csv('metallicheskaya_mebel-shkafy-2024-09-22.csv', index=False) #записываем в файл"
   ]
  },
  {
   "cell_type": "markdown",
   "metadata": {},
   "source": [
    "#### [Производственная мебель (Верстаки, столы, тумбы)](https://ижевск.железная-мебель.рф/catalog/verstaki/ \"Ссылка на категорию\")"
   ]
  },
  {
   "cell_type": "code",
   "execution_count": null,
   "metadata": {},
   "outputs": [],
   "source": [
    "# Категория производственная мебель all pages\n",
    "def get_metallicheskaya_mebel_verstaki():\n",
    "  metallicheskaya_mebel_verstaki = pd.DataFrame()\n",
    "  i = 1\n",
    "  while i <= 110:\n",
    "    url = 'https://ижевск.железная-мебель.рф/catalog/verstaki/?page'+'='+f'{str(i)}'\n",
    "    req = requests.get(url).text\n",
    "    time.sleep(0.3)\n",
    "    soup = BeautifulSoup(req)\n",
    "\n",
    "    verstaki = soup.find_all('div', class_='item-cart__content-wrap')\n",
    "\n",
    "    for el in verstaki:\n",
    "      title = el.find('a', 'item-cart__title').text\n",
    "      description = el.find('div', class_='props-list').text\n",
    "      size = re.findall(r'\\d*х\\d*х\\d*|\\d*x\\d*x\\d*', description)\n",
    "      availability = el.find('div', class_='item-cart__in-stock')\n",
    "      if (availability is None): #добавляем условие, тк наличие 2х типов - 2 разных класса в разметке\n",
    "        availability = el.find('div', class_='item-cart__not-in-stock').text\n",
    "      else:\n",
    "        availability = el.find('div', class_='item-cart__in-stock').text\n",
    "      price = el.find('div', class_='price')\n",
    "      if (price is None): #добавляем условие, тк не везде есть цена и падает с ошибкой\n",
    "        price = 'По запросу'\n",
    "      else:\n",
    "        price = el.find('div', class_='price').text\n",
    "      row = {'title': title, 'description': description, 'size': size, 'availability': availability, 'price': price}\n",
    "      metallicheskaya_mebel_verstaki = pd.concat([metallicheskaya_mebel_verstaki, pd.DataFrame([row])])\n",
    "          \n",
    "    i +=1\n",
    "  return metallicheskaya_mebel_verstaki.reset_index(drop=True)\n",
    "\n",
    "res_full_verstaki = get_metallicheskaya_mebel_verstaki() #записываем сейфы в переменную"
   ]
  },
  {
   "cell_type": "code",
   "execution_count": null,
   "metadata": {},
   "outputs": [],
   "source": [
    "res_full_verstaki.head()"
   ]
  },
  {
   "cell_type": "code",
   "execution_count": null,
   "metadata": {},
   "outputs": [],
   "source": [
    "res_full_verstaki.to_csv('metallicheskaya_mebel-verstaki-2024-09-22.csv', index=False) #записываем в файл"
   ]
  },
  {
   "cell_type": "markdown",
   "metadata": {},
   "source": [
    "#### Первичная обработка данных по конкуренту 1"
   ]
  },
  {
   "cell_type": "markdown",
   "metadata": {},
   "source": [
    "#### Медицинская мебель"
   ]
  },
  {
   "cell_type": "code",
   "execution_count": null,
   "metadata": {},
   "outputs": [],
   "source": [
    "df_medecinskaya_mebel = pd.read_csv('medecinskaya_mebel-2024-09-22.csv')\n",
    "df_medecinskaya_mebel.head()"
   ]
  },
  {
   "cell_type": "code",
   "execution_count": null,
   "metadata": {},
   "outputs": [],
   "source": [
    "#add category 'Медицинская мебель'\n",
    "df_medecinskaya_mebel['category'] = 'Медицинская мебель'"
   ]
  },
  {
   "cell_type": "code",
   "execution_count": null,
   "metadata": {},
   "outputs": [],
   "source": [
    "#add shop \n",
    "df_medecinskaya_mebel['shop'] = 'Железная мебель'"
   ]
  },
  {
   "cell_type": "code",
   "execution_count": null,
   "metadata": {},
   "outputs": [],
   "source": [
    "#убираем пробелы из цены, а потом переводим в float (если не записано 'По запросу') - иначе NaN\n",
    "def price_to_float(param):\n",
    "    if param != 'По запросу':\n",
    "        param = float(param.replace(' ', '').replace('руб.', ''))\n",
    "    else:\n",
    "        param = np.nan\n",
    "    return param"
   ]
  },
  {
   "cell_type": "code",
   "execution_count": null,
   "metadata": {},
   "outputs": [],
   "source": [
    "df_medecinskaya_mebel['price'] = df_medecinskaya_mebel['price'].apply(price_to_float)\n",
    "df_medecinskaya_mebel.head()"
   ]
  },
  {
   "cell_type": "code",
   "execution_count": null,
   "metadata": {},
   "outputs": [],
   "source": [
    "#смотрим тип данных колонки size\n",
    "c = df_medecinskaya_mebel['size'][0]\n",
    "type(c)"
   ]
  },
  {
   "cell_type": "code",
   "execution_count": null,
   "metadata": {},
   "outputs": [],
   "source": [
    "#height\n",
    "def height(param):\n",
    "    if param != '[]':\n",
    "        param = param.replace('[', '').replace(']', '').replace('\\'', '') #убираем символы []' в исходной строке\n",
    "        h_w_d = re.split('х|x', param) # русская \"х\" или икс\n",
    "        height = h_w_d[0]\n",
    "    else:\n",
    "        height = np.nan\n",
    "    return height"
   ]
  },
  {
   "cell_type": "code",
   "execution_count": null,
   "metadata": {},
   "outputs": [],
   "source": [
    "df_medecinskaya_mebel['height'] = df_medecinskaya_mebel['size'].apply(height)\n",
    "df_medecinskaya_mebel.head()"
   ]
  },
  {
   "cell_type": "code",
   "execution_count": null,
   "metadata": {},
   "outputs": [],
   "source": [
    "#width\n",
    "def width(param):\n",
    "    if param != '[]':\n",
    "        param = param.replace('[', '').replace(']', '').replace('\\'', '') #убираем символы []' в исходной строке\n",
    "        h_w_d = re.split('х|x', param) # русская \"х\" или икс\n",
    "        width = h_w_d[1]\n",
    "    else:\n",
    "        width = np.nan\n",
    "    return width"
   ]
  },
  {
   "cell_type": "code",
   "execution_count": null,
   "metadata": {},
   "outputs": [],
   "source": [
    "df_medecinskaya_mebel['width'] = df_medecinskaya_mebel['size'].apply(width)\n",
    "df_medecinskaya_mebel.head()"
   ]
  },
  {
   "cell_type": "code",
   "execution_count": null,
   "metadata": {},
   "outputs": [],
   "source": [
    "#depth\n",
    "def depth(param):\n",
    "    if param != '[]':\n",
    "        param = param.replace('[', '').replace(']', '').replace('\\'', '') #убираем символы []' в исходной строке\n",
    "        h_w_d = re.split('х|x', param) # русская \"х\" или икс\n",
    "        depth = h_w_d[2]\n",
    "    else:\n",
    "        depth = np.nan\n",
    "    return depth"
   ]
  },
  {
   "cell_type": "code",
   "execution_count": null,
   "metadata": {},
   "outputs": [],
   "source": [
    "df_medecinskaya_mebel['depth'] = df_medecinskaya_mebel['size'].apply(depth)\n",
    "df_medecinskaya_mebel.head()"
   ]
  },
  {
   "cell_type": "code",
   "execution_count": null,
   "metadata": {},
   "outputs": [],
   "source": [
    "df_medecinskaya_mebel['description'][0]"
   ]
  },
  {
   "cell_type": "code",
   "execution_count": null,
   "metadata": {},
   "outputs": [],
   "source": [
    "# Weight\n",
    "#re_weight = r'(?<=кг:)([\\s\\S]+?)(?=[\\n])'\n",
    "\n",
    "def weight(param):\n",
    "    weight = re.findall(r'(?<=кг: )([\\s\\S]+?)(?=[\\n])', param)\n",
    "    return weight"
   ]
  },
  {
   "cell_type": "code",
   "execution_count": null,
   "metadata": {},
   "outputs": [],
   "source": [
    "df_medecinskaya_mebel['weight'] = df_medecinskaya_mebel['description'].apply(weight)\n",
    "df_medecinskaya_mebel.head()"
   ]
  },
  {
   "cell_type": "code",
   "execution_count": null,
   "metadata": {},
   "outputs": [],
   "source": [
    "#смотрим тип данных колонки вес\n",
    "type(df_medecinskaya_mebel['weight'][0])"
   ]
  },
  {
   "cell_type": "code",
   "execution_count": null,
   "metadata": {},
   "outputs": [],
   "source": [
    "#переводим в строки знаечния колонки weight\n",
    "def list_weight_to_float(param):\n",
    "    if param != []:\n",
    "        float_param = float(param[0])\n",
    "    else:\n",
    "        float_param = np.nan\n",
    "    return float_param"
   ]
  },
  {
   "cell_type": "code",
   "execution_count": null,
   "metadata": {},
   "outputs": [],
   "source": [
    "df_medecinskaya_mebel['weight'] = df_medecinskaya_mebel['weight'].apply(list_weight_to_float)\n",
    "df_medecinskaya_mebel.head()"
   ]
  },
  {
   "cell_type": "code",
   "execution_count": null,
   "metadata": {},
   "outputs": [],
   "source": [
    "#смотрим тип данных колонки вес после преобр\n",
    "type(df_medecinskaya_mebel['weight'][0])"
   ]
  },
  {
   "cell_type": "code",
   "execution_count": null,
   "metadata": {},
   "outputs": [],
   "source": [
    "#удаляем ненужные колонки\n",
    "df_medecinskaya_mebel = df_medecinskaya_mebel.drop(['description', 'size'], axis=1)\n",
    "df_medecinskaya_mebel"
   ]
  },
  {
   "cell_type": "code",
   "execution_count": null,
   "metadata": {},
   "outputs": [],
   "source": [
    "df_medecinskaya_mebel['availability'].unique()"
   ]
  },
  {
   "cell_type": "code",
   "execution_count": null,
   "metadata": {},
   "outputs": [],
   "source": [
    "#заменить наличие на 0(нет в наличии) и 1(есть в наличии)\n",
    "def availability_0_1(param):\n",
    "    if param == 'Нет в наличии':\n",
    "        new_param = 0\n",
    "    else:\n",
    "        new_param = 1\n",
    "    return new_param"
   ]
  },
  {
   "cell_type": "code",
   "execution_count": null,
   "metadata": {},
   "outputs": [],
   "source": [
    "df_medecinskaya_mebel['availability'] = df_medecinskaya_mebel['availability'].apply(availability_0_1)\n",
    "df_medecinskaya_mebel.head()"
   ]
  },
  {
   "cell_type": "code",
   "execution_count": null,
   "metadata": {},
   "outputs": [],
   "source": [
    "#перевести height, width, depth to float\n",
    "df_medecinskaya_mebel['height'] = df_medecinskaya_mebel['height'].astype(float)"
   ]
  },
  {
   "cell_type": "code",
   "execution_count": null,
   "metadata": {},
   "outputs": [],
   "source": [
    "df_medecinskaya_mebel['width'] = df_medecinskaya_mebel['width'].astype(float)"
   ]
  },
  {
   "cell_type": "code",
   "execution_count": null,
   "metadata": {},
   "outputs": [],
   "source": [
    "df_medecinskaya_mebel['depth'] = df_medecinskaya_mebel['depth'].astype(float)"
   ]
  },
  {
   "cell_type": "code",
   "execution_count": null,
   "metadata": {},
   "outputs": [],
   "source": [
    "#проверяем\n",
    "df_medecinskaya_mebel.tail(1000)"
   ]
  },
  {
   "cell_type": "code",
   "execution_count": null,
   "metadata": {},
   "outputs": [],
   "source": [
    "df_medecinskaya_mebel.info()"
   ]
  },
  {
   "cell_type": "markdown",
   "metadata": {},
   "source": [
    "#### Металлическая мебель (Стеллажи)"
   ]
  },
  {
   "cell_type": "code",
   "execution_count": null,
   "metadata": {},
   "outputs": [],
   "source": [
    "df_metallicheskaya_mebel_st = pd.read_csv('metallicheskaya_mebel-stellazhi-2024-09-22.csv')\n",
    "df_metallicheskaya_mebel_st.head()"
   ]
  },
  {
   "cell_type": "code",
   "execution_count": null,
   "metadata": {},
   "outputs": [],
   "source": [
    "#add category 'Металлическая мебель (Стеллажи)' \n",
    "df_metallicheskaya_mebel_st['category'] = 'Металлическая мебель (Стеллажи)'"
   ]
  },
  {
   "cell_type": "code",
   "execution_count": null,
   "metadata": {},
   "outputs": [],
   "source": [
    "#add shop \n",
    "df_metallicheskaya_mebel_st['shop'] = 'Железная мебель'"
   ]
  },
  {
   "cell_type": "code",
   "execution_count": null,
   "metadata": {},
   "outputs": [],
   "source": [
    "df_metallicheskaya_mebel_st['price'] = df_metallicheskaya_mebel_st['price'].apply(price_to_float)\n",
    "df_metallicheskaya_mebel_st.head()"
   ]
  },
  {
   "cell_type": "code",
   "execution_count": null,
   "metadata": {},
   "outputs": [],
   "source": [
    "df_metallicheskaya_mebel_st['height'] = df_metallicheskaya_mebel_st['size'].apply(height)\n",
    "df_metallicheskaya_mebel_st.head()"
   ]
  },
  {
   "cell_type": "code",
   "execution_count": null,
   "metadata": {},
   "outputs": [],
   "source": [
    "df_metallicheskaya_mebel_st['width'] = df_metallicheskaya_mebel_st['size'].apply(width)\n",
    "df_metallicheskaya_mebel_st.head()"
   ]
  },
  {
   "cell_type": "code",
   "execution_count": null,
   "metadata": {},
   "outputs": [],
   "source": [
    "df_metallicheskaya_mebel_st['width'] = df_metallicheskaya_mebel_st['size'].apply(width)\n",
    "df_metallicheskaya_mebel_st.head()"
   ]
  },
  {
   "cell_type": "code",
   "execution_count": null,
   "metadata": {},
   "outputs": [],
   "source": [
    "df_metallicheskaya_mebel_st['weight'] = df_metallicheskaya_mebel_st['description'].apply(weight)\n",
    "df_metallicheskaya_mebel_st.head()"
   ]
  },
  {
   "cell_type": "code",
   "execution_count": null,
   "metadata": {},
   "outputs": [],
   "source": [
    "df_metallicheskaya_mebel_st['weight'] = df_metallicheskaya_mebel_st['weight'].apply(list_weight_to_float)\n",
    "df_metallicheskaya_mebel_st.head()"
   ]
  },
  {
   "cell_type": "code",
   "execution_count": null,
   "metadata": {},
   "outputs": [],
   "source": [
    "#удаляем ненужные колонки\n",
    "df_metallicheskaya_mebel_st = df_metallicheskaya_mebel_st.drop(['description', 'size'], axis=1)\n",
    "df_metallicheskaya_mebel_st"
   ]
  },
  {
   "cell_type": "code",
   "execution_count": null,
   "metadata": {},
   "outputs": [],
   "source": [
    "df_metallicheskaya_mebel_st['availability'] = df_metallicheskaya_mebel_st['availability'].apply(availability_0_1)\n",
    "df_metallicheskaya_mebel_st.head()"
   ]
  },
  {
   "cell_type": "code",
   "execution_count": null,
   "metadata": {},
   "outputs": [],
   "source": [
    "#перевести height, width, depth to float\n",
    "df_metallicheskaya_mebel_st['height'] = df_metallicheskaya_mebel_st['height'].astype(float)\n",
    "df_metallicheskaya_mebel_st['width'] = df_metallicheskaya_mebel_st['width'].astype(float)\n",
    "df_metallicheskaya_mebel_st['depth'] = df_metallicheskaya_mebel_st['depth'].astype(float)"
   ]
  },
  {
   "cell_type": "code",
   "execution_count": null,
   "metadata": {},
   "outputs": [],
   "source": [
    "#проверяем\n",
    "df_metallicheskaya_mebel_st.tail(1000)"
   ]
  },
  {
   "cell_type": "code",
   "execution_count": null,
   "metadata": {},
   "outputs": [],
   "source": [
    "df_metallicheskaya_mebel_st.info()"
   ]
  },
  {
   "cell_type": "markdown",
   "metadata": {},
   "source": [
    "#### Металлическая мебель (Шкафы)"
   ]
  },
  {
   "cell_type": "code",
   "execution_count": null,
   "metadata": {},
   "outputs": [],
   "source": [
    "df_metallicheskaya_mebel_shkafy = pd.read_csv('metallicheskaya_mebel-shkafy-2024-09-22.csv')\n",
    "df_metallicheskaya_mebel_shkafy.head()"
   ]
  },
  {
   "cell_type": "code",
   "execution_count": null,
   "metadata": {},
   "outputs": [],
   "source": [
    "#add category 'Металлическая мебель (Шкафы)' \n",
    "df_metallicheskaya_mebel_shkafy['category'] = 'Металлическая мебель (Шкафы)'"
   ]
  },
  {
   "cell_type": "code",
   "execution_count": null,
   "metadata": {},
   "outputs": [],
   "source": [
    "#add shop \n",
    "df_metallicheskaya_mebel_shkafy['shop'] = 'Железная мебель'"
   ]
  },
  {
   "cell_type": "code",
   "execution_count": null,
   "metadata": {},
   "outputs": [],
   "source": [
    "df_metallicheskaya_mebel_shkafy['price'] = df_metallicheskaya_mebel_shkafy['price'].apply(price_to_float)\n",
    "df_metallicheskaya_mebel_shkafy.head()"
   ]
  },
  {
   "cell_type": "code",
   "execution_count": null,
   "metadata": {},
   "outputs": [],
   "source": [
    "df_metallicheskaya_mebel_shkafy['height'] = df_metallicheskaya_mebel_shkafy['size'].apply(height)\n",
    "df_metallicheskaya_mebel_shkafy.head()"
   ]
  },
  {
   "cell_type": "code",
   "execution_count": null,
   "metadata": {},
   "outputs": [],
   "source": [
    "df_metallicheskaya_mebel_shkafy['width'] = df_metallicheskaya_mebel_shkafy['size'].apply(width)\n",
    "df_metallicheskaya_mebel_shkafy.head()"
   ]
  },
  {
   "cell_type": "code",
   "execution_count": null,
   "metadata": {},
   "outputs": [],
   "source": [
    "df_metallicheskaya_mebel_shkafy['depth'] = df_metallicheskaya_mebel_shkafy['size'].apply(depth)\n",
    "df_metallicheskaya_mebel_shkafy.head()"
   ]
  },
  {
   "cell_type": "code",
   "execution_count": null,
   "metadata": {},
   "outputs": [],
   "source": [
    "df_metallicheskaya_mebel_shkafy['weight'] = df_metallicheskaya_mebel_shkafy['description'].apply(weight)\n",
    "df_metallicheskaya_mebel_shkafy.head()"
   ]
  },
  {
   "cell_type": "code",
   "execution_count": null,
   "metadata": {},
   "outputs": [],
   "source": [
    "df_metallicheskaya_mebel_shkafy['weight'] = df_metallicheskaya_mebel_shkafy['weight'].apply(list_weight_to_float)\n",
    "df_metallicheskaya_mebel.head()"
   ]
  },
  {
   "cell_type": "code",
   "execution_count": null,
   "metadata": {},
   "outputs": [],
   "source": [
    "#удаляем ненужные колонки\n",
    "df_metallicheskaya_mebel_shkafy = df_metallicheskaya_mebel_shkafy.drop(['description', 'size'], axis=1)\n",
    "df_metallicheskaya_mebel_shkafy"
   ]
  },
  {
   "cell_type": "code",
   "execution_count": null,
   "metadata": {},
   "outputs": [],
   "source": [
    "df_metallicheskaya_mebel_shkafy['availability'] = df_metallicheskaya_mebel_shkafy['availability'].apply(availability_0_1)\n",
    "df_metallicheskaya_mebel_shkafy.head()"
   ]
  },
  {
   "cell_type": "code",
   "execution_count": null,
   "metadata": {},
   "outputs": [],
   "source": [
    "#перевести height, width, depth to float\n",
    "df_metallicheskaya_mebel_shkafy['height'] = df_metallicheskaya_mebel_shkafy['height'].astype(float)\n",
    "df_metallicheskaya_mebel_shkafy['width'] = df_metallicheskaya_mebel_shkafy['width'].astype(float)\n",
    "df_metallicheskaya_mebel_shkafy['depth'] = df_metallicheskaya_mebel_shkafy['depth'].astype(float)"
   ]
  },
  {
   "cell_type": "code",
   "execution_count": 1,
   "metadata": {},
   "outputs": [
    {
     "ename": "NameError",
     "evalue": "name 'df_metallicheskaya_mebel_shkafy' is not defined",
     "output_type": "error",
     "traceback": [
      "\u001b[1;31m---------------------------------------------------------------------------\u001b[0m",
      "\u001b[1;31mNameError\u001b[0m                                 Traceback (most recent call last)",
      "\u001b[1;32m~\\AppData\\Local\\Temp\\ipykernel_4008\\955026138.py\u001b[0m in \u001b[0;36m<module>\u001b[1;34m\u001b[0m\n\u001b[0;32m      1\u001b[0m \u001b[1;31m#проверяем\u001b[0m\u001b[1;33m\u001b[0m\u001b[1;33m\u001b[0m\u001b[0m\n\u001b[1;32m----> 2\u001b[1;33m \u001b[0mdf_metallicheskaya_mebel_shkafy\u001b[0m\u001b[1;33m.\u001b[0m\u001b[0mtail\u001b[0m\u001b[1;33m(\u001b[0m\u001b[1;36m1000\u001b[0m\u001b[1;33m)\u001b[0m\u001b[1;33m\u001b[0m\u001b[1;33m\u001b[0m\u001b[0m\n\u001b[0m",
      "\u001b[1;31mNameError\u001b[0m: name 'df_metallicheskaya_mebel_shkafy' is not defined"
     ]
    }
   ],
   "source": [
    "#проверяем\n",
    "df_metallicheskaya_mebel_shkafy.tail(1000)"
   ]
  },
  {
   "cell_type": "code",
   "execution_count": null,
   "metadata": {},
   "outputs": [],
   "source": [
    "df_metallicheskaya_mebel_shkafy.info()"
   ]
  },
  {
   "cell_type": "markdown",
   "metadata": {},
   "source": [
    "#### Производственная мебель (Верстаки, столы, тумбы)"
   ]
  },
  {
   "cell_type": "code",
   "execution_count": null,
   "metadata": {},
   "outputs": [],
   "source": [
    "df_metallicheskaya_mebel_verstaki = pd.read_csv('metallicheskaya_mebel-verstaki-2024-09-22.csv')\n",
    "df_metallicheskaya_mebel_verstaki.head()"
   ]
  },
  {
   "cell_type": "code",
   "execution_count": null,
   "metadata": {},
   "outputs": [],
   "source": [
    "#add category 'Производственная мебель (Верстаки, столы, тумбы)' \n",
    "df_metallicheskaya_mebel_verstaki['category'] = 'Производственная мебель (Верстаки, столы, тумбы)'"
   ]
  },
  {
   "cell_type": "code",
   "execution_count": null,
   "metadata": {},
   "outputs": [],
   "source": [
    "#add shop \n",
    "df_metallicheskaya_mebel_verstaki['shop'] = 'Железная мебель'"
   ]
  },
  {
   "cell_type": "code",
   "execution_count": null,
   "metadata": {},
   "outputs": [],
   "source": [
    "df_metallicheskaya_mebel_verstaki['price'] = df_metallicheskaya_mebel_verstaki['price'].apply(price_to_float)\n",
    "df_metallicheskaya_mebel_verstaki.head()"
   ]
  },
  {
   "cell_type": "code",
   "execution_count": null,
   "metadata": {},
   "outputs": [],
   "source": [
    "df_metallicheskaya_mebel_verstaki['height'] = df_metallicheskaya_mebel_verstaki['size'].apply(height)\n",
    "df_metallicheskaya_mebel_verstaki.head()"
   ]
  },
  {
   "cell_type": "code",
   "execution_count": null,
   "metadata": {},
   "outputs": [],
   "source": [
    "df_metallicheskaya_mebel_verstaki['width'] = df_metallicheskaya_mebel_verstaki['size'].apply(width)\n",
    "df_metallicheskaya_mebel_verstaki.head()"
   ]
  },
  {
   "cell_type": "code",
   "execution_count": null,
   "metadata": {},
   "outputs": [],
   "source": [
    "df_metallicheskaya_mebel_verstaki['depth'] = df_metallicheskaya_mebel_verstaki['size'].apply(depth)\n",
    "df_metallicheskaya_mebel_verstaki.head()"
   ]
  },
  {
   "cell_type": "code",
   "execution_count": null,
   "metadata": {},
   "outputs": [],
   "source": [
    "df_metallicheskaya_mebel_verstaki['weight'] = df_metallicheskaya_mebel_verstaki['description'].apply(weight)\n",
    "df_metallicheskaya_mebel_verstaki.head()"
   ]
  },
  {
   "cell_type": "code",
   "execution_count": null,
   "metadata": {},
   "outputs": [],
   "source": [
    "df_metallicheskaya_mebel_verstaki['weight'] = df_metallicheskaya_mebel_verstaki['weight'].apply(list_weight_to_float)\n",
    "df_metallicheskaya_mebel_verstaki.head()"
   ]
  },
  {
   "cell_type": "code",
   "execution_count": null,
   "metadata": {},
   "outputs": [],
   "source": [
    "#удаляем ненужные колонки\n",
    "df_metallicheskaya_mebel_verstaki = df_metallicheskaya_mebel_verstaki.drop(['description', 'size'], axis=1)\n",
    "df_metallicheskaya_mebel_verstaki"
   ]
  },
  {
   "cell_type": "code",
   "execution_count": null,
   "metadata": {},
   "outputs": [],
   "source": [
    "df_metallicheskaya_mebel_verstaki['availability'] = df_metallicheskaya_mebel_verstaki['availability'].apply(availability_0_1)\n",
    "df_metallicheskaya_mebel_verstaki.head()"
   ]
  },
  {
   "cell_type": "code",
   "execution_count": null,
   "metadata": {},
   "outputs": [],
   "source": [
    "#перевести height, width, depth to float\n",
    "df_metallicheskaya_mebel_verstaki['height'] = df_metallicheskaya_mebel_verstaki['height'].astype(float)\n",
    "df_metallicheskaya_mebel_verstaki['width'] = df_metallicheskaya_mebel_verstaki['width'].astype(float)\n",
    "df_metallicheskaya_mebel_verstaki['depth'] = df_metallicheskaya_mebel_verstaki['depth'].astype(float)"
   ]
  },
  {
   "cell_type": "code",
   "execution_count": null,
   "metadata": {},
   "outputs": [],
   "source": [
    "#проверяем\n",
    "df_metallicheskaya_mebel_verstaki.tail(1000)"
   ]
  },
  {
   "cell_type": "code",
   "execution_count": null,
   "metadata": {},
   "outputs": [],
   "source": [
    "df_metallicheskaya_mebel_verstaki.info()"
   ]
  },
  {
   "cell_type": "markdown",
   "metadata": {},
   "source": [
    "#### Итоговый DF по конкуренту 1"
   ]
  },
  {
   "cell_type": "code",
   "execution_count": null,
   "metadata": {},
   "outputs": [],
   "source": [
    "metallicheskaya_mebel_all_df = pd.DataFrame() #создаём пустой df"
   ]
  },
  {
   "cell_type": "code",
   "execution_count": null,
   "metadata": {},
   "outputs": [],
   "source": [
    "metallicheskaya_mebel_all_df = pd.concat([metallicheskaya_mebel_all_df, df_medecinskaya_mebel]) #добавляем Медицинскую мебель"
   ]
  },
  {
   "cell_type": "code",
   "execution_count": null,
   "metadata": {},
   "outputs": [],
   "source": [
    "metallicheskaya_mebel_all_df = pd.concat([metallicheskaya_mebel_all_df, df_metallicheskaya_mebel_st]) #добавляем Металлическая мебель (Стеллажи)"
   ]
  },
  {
   "cell_type": "code",
   "execution_count": null,
   "metadata": {},
   "outputs": [],
   "source": [
    "metallicheskaya_mebel_all_df = pd.concat([metallicheskaya_mebel_all_df, df_metallicheskaya_mebel_shkafy]) #добавляем Металлическая мебель (Шкафы)"
   ]
  },
  {
   "cell_type": "code",
   "execution_count": null,
   "metadata": {},
   "outputs": [],
   "source": [
    "metallicheskaya_mebel_all_df = pd.concat([metallicheskaya_mebel_all_df, df_metallicheskaya_mebel_verstaki]) #добавляем Производственная мебель (Верстаки, столы, тумбы)"
   ]
  },
  {
   "cell_type": "code",
   "execution_count": null,
   "metadata": {},
   "outputs": [],
   "source": [
    "metallicheskaya_mebel_all_df.info()"
   ]
  },
  {
   "cell_type": "code",
   "execution_count": null,
   "metadata": {},
   "outputs": [],
   "source": [
    "metallicheskaya_mebel_all_df.head()"
   ]
  },
  {
   "cell_type": "code",
   "execution_count": null,
   "metadata": {},
   "outputs": [],
   "source": [
    "metallicheskaya_mebel_all_df.to_csv('metallicheskaya_mebel_all.csv', index=False) #записываем в файл"
   ]
  },
  {
   "cell_type": "markdown",
   "metadata": {},
   "source": [
    "#### Парсинг по конкуренту 2"
   ]
  },
  {
   "cell_type": "markdown",
   "metadata": {},
   "source": [
    "[Официальный сайт конкурента 2](http://safe-izh.ru/)\n",
    "\n",
    "Интересующие категории:\n",
    "* Медицинская мебель\n",
    "* Металлическая мебель (Стеллажи)\n",
    "* Металлическая мебель (Шкафы)\n",
    "* Производственная мебель (Верстаки, столы, тумбы)\n",
    "\n",
    "Данные для сбора:\n",
    "* Название\n",
    "* Подкатегория\n",
    "* Габаритные размеры\n",
    "* Описание\n",
    "* Наличие\n",
    "* Продажная цена"
   ]
  },
  {
   "cell_type": "markdown",
   "metadata": {},
   "source": [
    "#### [Медицинская мебель](https://safe-izh.ru/catalog/meditsinskaya-mebel-i-izdeliya/ \"Ссылка на категорию\") "
   ]
  },
  {
   "cell_type": "code",
   "execution_count": null,
   "metadata": {},
   "outputs": [],
   "source": [
    "# Категория медицинская мебель all pages\n",
    "def get_medecinskaya_mebel_izh():\n",
    "  medecinskaya_mebel_izh = pd.DataFrame()\n",
    "  i = 1\n",
    "  while i <= 41:\n",
    "    url = 'https://safe-izh.ru/catalog/meditsinskaya-mebel-i-izdeliya/?page=2&PAGEN_1'+'='+f'{str(i)}'\n",
    "    req = requests.get(url).text\n",
    "    time.sleep(0.3)\n",
    "    soup = BeautifulSoup(req)\n",
    "\n",
    "    medecinskaya_mebel = soup.find_all('div', class_='catalog-item-card')\n",
    "\n",
    "    for el in medecinskaya_mebel:\n",
    "      title = el.find('span', itemprop='name').text\n",
    "      description = el.find('div', class_='properties').text\n",
    "      size = re.findall(r'\\d*х\\d*х\\d*|\\d*x\\d*x\\d*', description)\n",
    "      price = el.find('span', class_='catalog-item-price')\n",
    "      if (price is None): # добавляем условие, так как не везде есть цена и падает с ошибкой\n",
    "        price = 'По запросу'\n",
    "      else:\n",
    "        price = el.find('span', class_='catalog-item-price').text\n",
    "      row = {'title': title, 'description': description, 'size': size, 'price': price}\n",
    "      medecinskaya_mebel_izh = pd.concat([medecinskaya_mebel_izh, pd.DataFrame([row])])\n",
    "          \n",
    "    i +=1\n",
    "  return medecinskaya_mebel_izh.reset_index(drop=True)\n",
    "\n",
    "res_full = get_medecinskaya_mebel_izh() #записываем сейфы в переменную"
   ]
  },
  {
   "cell_type": "code",
   "execution_count": null,
   "metadata": {},
   "outputs": [],
   "source": [
    "res_full.info()"
   ]
  },
  {
   "cell_type": "code",
   "execution_count": null,
   "metadata": {},
   "outputs": [],
   "source": [
    "res_full.to_csv('medecinskaya_mebel_izh-2024-09-22.csv', index=False) #записываем в файл"
   ]
  },
  {
   "cell_type": "markdown",
   "metadata": {},
   "source": [
    "#### [Металлическая мебель (Стеллажи)](https://safe-izh.ru/catalog/metallicheskie-stellazhi/ \"Ссылка на категорию\")"
   ]
  },
  {
   "cell_type": "code",
   "execution_count": null,
   "metadata": {},
   "outputs": [],
   "source": [
    "# Категория стеллажи all pages\n",
    "def get_metallicheskaya_mebel_stellazhi_izh():\n",
    "  metallicheskaya_mebel_stellazhi_izh = pd.DataFrame()\n",
    "  i = 1\n",
    "  while i <= 10:\n",
    "    url = 'http://safe-izh.ru/catalog/metallicheskie-stellazhi/?page=2&PAGEN_1'+'='+f'{str(i)}'\n",
    "    req = requests.get(url).text\n",
    "    time.sleep(0.3)\n",
    "    soup = BeautifulSoup(req)\n",
    "\n",
    "    stellazhi = soup.find_all('div', class_='catalog-item-card')\n",
    "\n",
    "    for el in stellazhi:\n",
    "      title = el.find('span', itemprop='name').text\n",
    "      description = el.find('div', class_='properties').text\n",
    "      size = re.findall(r'\\d*х\\d*х\\d*|\\d*x\\d*x\\d*', description)\n",
    "      price = el.find('span', class_='catalog-item-price')\n",
    "      if (price is None): # добавляем условие, так как не везде есть цена и падает с ошибкой\n",
    "        price = 'По запросу'\n",
    "      else:\n",
    "        price = el.find('span', class_='catalog-item-price').text\n",
    "      row = {'title': title, 'description': description, 'size': size, 'price': price}\n",
    "      metallicheskaya_mebel_stellazhi_izh = pd.concat([metallicheskaya_mebel_stellazhi_izh, pd.DataFrame([row])])\n",
    "          \n",
    "    i +=1\n",
    "  return metallicheskaya_mebel_stellazhi_izh.reset_index(drop=True)\n",
    "\n",
    "res_full_stellazhi = get_metallicheskaya_mebel_stellazhi_izh() #записываем сейфы в переменную"
   ]
  },
  {
   "cell_type": "code",
   "execution_count": null,
   "metadata": {},
   "outputs": [],
   "source": [
    "res_full_stellazhi.info()"
   ]
  },
  {
   "cell_type": "code",
   "execution_count": null,
   "metadata": {},
   "outputs": [],
   "source": [
    "res_full_stellazhi.head(10)"
   ]
  },
  {
   "cell_type": "code",
   "execution_count": null,
   "metadata": {},
   "outputs": [],
   "source": [
    "res_full_stellazhi.to_csv('metallicheskaya_mebel_stellazhi_izh-2024-09-22.csv', index=False) #записываем в файл"
   ]
  },
  {
   "cell_type": "markdown",
   "metadata": {},
   "source": [
    "#### [Металлическая мебель (Шкафы)](https://safe-izh.ru/catalog/metallicheskaya-mebel/ \"Ссылка на категорию\")"
   ]
  },
  {
   "cell_type": "code",
   "execution_count": null,
   "metadata": {},
   "outputs": [],
   "source": [
    "# Категория мет мебель all pages\n",
    "def get_metallicheskaya_mebel_shkafy_izh():\n",
    "  metallicheskaya_mebel_shkafy_izh = pd.DataFrame()\n",
    "  i = 1\n",
    "  while i <= 13:\n",
    "    url = 'http://safe-izh.ru/catalog/metallicheskaya-mebel/?page=2&PAGEN_1'+'='+f'{str(i)}'\n",
    "    req = requests.get(url).text\n",
    "    time.sleep(0.3)\n",
    "    soup = BeautifulSoup(req)\n",
    "\n",
    "    met_mebel = soup.find_all('div', class_='catalog-item-card')\n",
    "\n",
    "    for el in met_mebel:\n",
    "      title = el.find('span', itemprop='name').text\n",
    "      description = el.find('div', class_='properties').text\n",
    "      size = re.findall(r'\\d*х\\d*х\\d*|\\d*x\\d*x\\d*', description)\n",
    "      price = el.find('span', class_='catalog-item-price')\n",
    "      if (price is None): #добавляем условие, тк не везде есть цена и падает с ошибкой\n",
    "        price = 'По запросу'\n",
    "      else:\n",
    "        price = el.find('span', class_='catalog-item-price').text\n",
    "      row = {'title': title, 'description': description, 'size': size, 'price': price}\n",
    "      metallicheskaya_mebel_shkafy_izh = pd.concat([metallicheskaya_mebel_shkafy_izh, pd.DataFrame([row])])\n",
    "          \n",
    "    i +=1\n",
    "  return metallicheskaya_mebel_shkafy_izh.reset_index(drop=True)\n",
    "\n",
    "res_full_met_mebel = get_metallicheskaya_mebel_shkafy_izh() #записываем сейфы в переменную"
   ]
  },
  {
   "cell_type": "code",
   "execution_count": null,
   "metadata": {},
   "outputs": [],
   "source": [
    "res_full_met_mebel.info()"
   ]
  },
  {
   "cell_type": "code",
   "execution_count": null,
   "metadata": {},
   "outputs": [],
   "source": [
    "res_full_met_mebel.to_csv('metallicheskaya_mebel_shkafy_izh-2024-09-22.csv', index=False) #записываем в файл"
   ]
  },
  {
   "cell_type": "markdown",
   "metadata": {},
   "source": [
    "#### [Производственная мебель (Верстаки, столы, тумбы)](https://safe-izh.ru/catalog/proizvodstvennaya-mebel/ \"Ссылка на категорию\")"
   ]
  },
  {
   "cell_type": "code",
   "execution_count": null,
   "metadata": {},
   "outputs": [],
   "source": [
    "# Категория произв мебель all pages\n",
    "def get_metallicheskaya_mebel_verstaki_izh():\n",
    "  metallicheskaya_mebel_verstaki_izh = pd.DataFrame()\n",
    "  i = 1\n",
    "  while i <= 20:\n",
    "    url = 'http://safe-izh.ru/catalog/proizvodstvennaya-mebel/?page=2&PAGEN_1'+'='+f'{str(i)}'\n",
    "    req = requests.get(url).text\n",
    "    time.sleep(0.3)\n",
    "    soup = BeautifulSoup(req)\n",
    "\n",
    "    verstaki = soup.find_all('div', class_='catalog-item-card')\n",
    "\n",
    "    for el in verstaki:\n",
    "      title = el.find('span', itemprop='name').text\n",
    "      description = el.find('div', class_='properties').text\n",
    "      size = re.findall(r'\\d*х\\d*х\\d*|\\d*x\\d*x\\d*', description)\n",
    "      price = el.find('span', class_='catalog-item-price')\n",
    "      if (price is None): #добавляем условие, тк не везде есть цена и падает с ошибкой\n",
    "        price = 'По запросу'\n",
    "      else:\n",
    "        price = el.find('span', class_='catalog-item-price').text\n",
    "      row = {'title': title, 'description': description, 'size': size, 'price': price}\n",
    "      metallicheskaya_mebel_verstaki_izh = pd.concat([metallicheskaya_mebel_verstaki_izh, pd.DataFrame([row])])\n",
    "          \n",
    "    i +=1\n",
    "  return metallicheskaya_mebel_verstaki_izh.reset_index(drop=True)\n",
    "\n",
    "res_full_verstaki = get_metallicheskaya_mebel_verstaki_izh() #записываем сейфы в переменную"
   ]
  },
  {
   "cell_type": "code",
   "execution_count": null,
   "metadata": {},
   "outputs": [],
   "source": [
    "res_full_verstaki.head()"
   ]
  },
  {
   "cell_type": "code",
   "execution_count": null,
   "metadata": {},
   "outputs": [],
   "source": [
    "res_full_verstaki.info()"
   ]
  },
  {
   "cell_type": "code",
   "execution_count": null,
   "metadata": {},
   "outputs": [],
   "source": [
    "res_full_verstaki.to_csv('metallicheskaya_mebel_verstaki_izh-2024-09-22.csv', index=False) #записываем в файл"
   ]
  },
  {
   "cell_type": "markdown",
   "metadata": {},
   "source": [
    "#### Первичная обработка данных по конкуренту 2"
   ]
  },
  {
   "cell_type": "markdown",
   "metadata": {},
   "source": [
    "#### Медицинская мебель"
   ]
  },
  {
   "cell_type": "code",
   "execution_count": null,
   "metadata": {},
   "outputs": [],
   "source": [
    "df_medecinskaya_mebel_izh = pd.read_csv('medecinskaya_mebel_izh-2024-09-22.csv')\n",
    "df_medecinskaya_mebel_izh.head()"
   ]
  },
  {
   "cell_type": "code",
   "execution_count": null,
   "metadata": {},
   "outputs": [],
   "source": [
    "df_medecinskaya_mebel_izh['description'][0]"
   ]
  },
  {
   "cell_type": "code",
   "execution_count": null,
   "metadata": {},
   "outputs": [],
   "source": [
    "df_medecinskaya_mebel_izh['price'][3]"
   ]
  },
  {
   "cell_type": "code",
   "execution_count": null,
   "metadata": {},
   "outputs": [],
   "source": [
    "#add category 'Медицинская мебель'\n",
    "df_medecinskaya_mebel_izh['category'] = 'Медицинская мебель'"
   ]
  },
  {
   "cell_type": "code",
   "execution_count": null,
   "metadata": {},
   "outputs": [],
   "source": [
    "#add shop \n",
    "df_medecinskaya_mebel_izh['shop'] = 'Настоящие сейфы'"
   ]
  },
  {
   "cell_type": "code",
   "execution_count": null,
   "metadata": {},
   "outputs": [],
   "source": [
    "type(df_medecinskaya_mebel_izh['price'][3])"
   ]
  },
  {
   "cell_type": "code",
   "execution_count": null,
   "metadata": {},
   "outputs": [],
   "source": [
    "#убираем пробелы и лишние символы из цены, а потом переводим в float\n",
    "#re_price = r'(?<=\\t)([0-9]* [0-9]*)(?=[\\t])'\n",
    "\n",
    "def price_to_float(param):\n",
    "    param = param.replace('\\r', '').replace('\\n', '').replace('\\t', '').replace(' руб.за 1 шт', '').replace(' ', '')\n",
    "    if param != 'Позапросу':\n",
    "        param = float(param)\n",
    "    else:\n",
    "        param = np.nan\n",
    "    return param"
   ]
  },
  {
   "cell_type": "code",
   "execution_count": null,
   "metadata": {},
   "outputs": [],
   "source": [
    "df_medecinskaya_mebel_izh['price'] = df_medecinskaya_mebel_izh['price'].apply(price_to_float)\n",
    "df_medecinskaya_mebel_izh.head()"
   ]
  },
  {
   "cell_type": "code",
   "execution_count": null,
   "metadata": {},
   "outputs": [],
   "source": [
    "#смотрим тип данных колонки size\n",
    "type(df_medecinskaya_mebel_izh['size'][0])"
   ]
  },
  {
   "cell_type": "code",
   "execution_count": null,
   "metadata": {},
   "outputs": [],
   "source": [
    "#height\n",
    "def height(param):\n",
    "    if param != '[]':\n",
    "        param = param.replace('[', '').replace(']', '').replace('\\'', '') #убираем символы []' в исходной строке\n",
    "        h_w_d = re.split('х|x', param) # русская \"х\" или икс\n",
    "        height = h_w_d[0]\n",
    "    else:\n",
    "        height = np.nan\n",
    "    return height"
   ]
  },
  {
   "cell_type": "code",
   "execution_count": null,
   "metadata": {},
   "outputs": [],
   "source": [
    "df_medecinskaya_mebel_izh['height'] = df_medecinskaya_mebel_izh['size'].apply(height)\n",
    "df_medecinskaya_mebel_izh.head()"
   ]
  },
  {
   "cell_type": "code",
   "execution_count": null,
   "metadata": {},
   "outputs": [],
   "source": [
    "#width\n",
    "def width(param):\n",
    "    if param != '[]':\n",
    "        param = param.replace('[', '').replace(']', '').replace('\\'', '') #убираем символы []' в исходной строке\n",
    "        h_w_d = re.split('х|x', param) # русская \"х\" или икс\n",
    "        width = h_w_d[1]\n",
    "    else:\n",
    "        width = np.nan\n",
    "    return width"
   ]
  },
  {
   "cell_type": "code",
   "execution_count": null,
   "metadata": {},
   "outputs": [],
   "source": [
    "df_medecinskaya_mebel_izh['width'] = df_medecinskaya_mebel_izh['size'].apply(width)\n",
    "df_medecinskaya_mebel_izh.head()"
   ]
  },
  {
   "cell_type": "code",
   "execution_count": null,
   "metadata": {},
   "outputs": [],
   "source": [
    "#depth\n",
    "def depth(param):\n",
    "    if param != '[]':\n",
    "        param = param.replace('[', '').replace(']', '').replace('\\'', '') #убираем символы []' в исходной строке\n",
    "        h_w_d = re.split('х|x', param) # русская \"х\" или икс\n",
    "        depth = h_w_d[2]\n",
    "    else:\n",
    "        depth = np.nan\n",
    "    return depth"
   ]
  },
  {
   "cell_type": "code",
   "execution_count": null,
   "metadata": {},
   "outputs": [],
   "source": [
    "df_medecinskaya_mebel_izh['depth'] = df_medecinskaya_mebel_izh['size'].apply(depth)\n",
    "df_medecinskaya_mebel_izh.head()"
   ]
  },
  {
   "cell_type": "code",
   "execution_count": null,
   "metadata": {},
   "outputs": [],
   "source": [
    "df_medecinskaya_mebel_izh['description'][100]"
   ]
  },
  {
   "cell_type": "code",
   "execution_count": null,
   "metadata": {},
   "outputs": [],
   "source": [
    "# Weight\n",
    "#re_weight = r'(?<=\\n\\nВес, кг\\n\\r\\n\\t\\t\\t\\t\\t\\t)([0-9]*)(?=[\\t\\t\\t\\t\\t])'\n",
    "\n",
    "def weight(param):\n",
    "    weight = re.findall(r'(?<=\\n\\nВес, кг\\n\\r\\n\\t\\t\\t\\t\\t\\t)([0-9]*)(?=[\\t\\t\\t\\t\\t])', param)\n",
    "    if weight != []: #не везде есть \n",
    "        weight = float(weight[0])\n",
    "    else:\n",
    "        weight = np.nan\n",
    "    return weight"
   ]
  },
  {
   "cell_type": "code",
   "execution_count": null,
   "metadata": {},
   "outputs": [],
   "source": [
    "df_medecinskaya_mebel_izh['weight'] = df_medecinskaya_mebel_izh['description'].apply(weight)\n",
    "df_medecinskaya_mebel_izh.head()"
   ]
  },
  {
   "cell_type": "code",
   "execution_count": null,
   "metadata": {},
   "outputs": [],
   "source": [
    "#удаляем ненужные колонки\n",
    "df_medecinskaya_mebel_izh = df_medecinskaya_mebel_izh.drop(['description', 'size'], axis=1)\n",
    "df_medecinskaya_mebel_izh"
   ]
  },
  {
   "cell_type": "code",
   "execution_count": null,
   "metadata": {},
   "outputs": [],
   "source": [
    "#перевести height, width, depth to float\n",
    "df_medecinskaya_mebel_izh['height'] = df_medecinskaya_mebel_izh['height'].astype(float)\n",
    "df_medecinskaya_mebel_izh['width'] = df_medecinskaya_mebel_izh['width'].astype(float)\n",
    "df_medecinskaya_mebel_izh['depth'] = df_medecinskaya_mebel_izh['depth'].astype(float)"
   ]
  },
  {
   "cell_type": "code",
   "execution_count": null,
   "metadata": {},
   "outputs": [],
   "source": [
    "#проверяем\n",
    "df_medecinskaya_mebel_izh.tail(100)"
   ]
  },
  {
   "cell_type": "code",
   "execution_count": null,
   "metadata": {},
   "outputs": [],
   "source": [
    "df_medecinskaya_mebel_izh.info()"
   ]
  },
  {
   "cell_type": "markdown",
   "metadata": {},
   "source": [
    "#### Металлическая мебель (Стеллажи)"
   ]
  },
  {
   "cell_type": "code",
   "execution_count": null,
   "metadata": {},
   "outputs": [],
   "source": [
    "df_metallicheskaya_mebel_stellazhi_izh = pd.read_csv('metallicheskaya_mebel_stellazhi_izh-2024-09-22.csv')\n",
    "df_metallicheskaya_mebel_stellazhi_izh.head()"
   ]
  },
  {
   "cell_type": "code",
   "execution_count": null,
   "metadata": {},
   "outputs": [],
   "source": [
    "#add category 'Металлическая мебель (Стеллажи)'\n",
    "df_metallicheskaya_mebel_stellazhi_izh['category'] = 'Металлическая мебель (Стеллажи)'"
   ]
  },
  {
   "cell_type": "code",
   "execution_count": null,
   "metadata": {},
   "outputs": [],
   "source": [
    "\n",
    "df_metallicheskaya_mebel_stellazhi_izh['shop'] = 'Настоящие сейфы'"
   ]
  },
  {
   "cell_type": "code",
   "execution_count": null,
   "metadata": {},
   "outputs": [],
   "source": [
    "df_metallicheskaya_mebel_stellazhi_izh['price'] = df_metallicheskaya_mebel_stellazhi_izh['price'].apply(price_to_float)"
   ]
  },
  {
   "cell_type": "code",
   "execution_count": null,
   "metadata": {},
   "outputs": [],
   "source": [
    "df_metallicheskaya_mebel_stellazhi_izh['height'] = df_metallicheskaya_mebel_stellazhi_izh['size'].apply(height)"
   ]
  },
  {
   "cell_type": "code",
   "execution_count": null,
   "metadata": {},
   "outputs": [],
   "source": [
    "df_metallicheskaya_mebel_stellazhi_izh['width'] = df_metallicheskaya_mebel_stellazhi_izh['size'].apply(width)"
   ]
  },
  {
   "cell_type": "code",
   "execution_count": null,
   "metadata": {},
   "outputs": [],
   "source": [
    "df_metallicheskaya_mebel_stellazhi_izh['depth'] = df_metallicheskaya_mebel_stellazhi_izh['size'].apply(depth)"
   ]
  },
  {
   "cell_type": "code",
   "execution_count": null,
   "metadata": {},
   "outputs": [],
   "source": [
    "df_metallicheskaya_mebel_stellazhi_izh['weight'] = df_metallicheskaya_mebel_stellazhi_izh['description'].apply(weight)"
   ]
  },
  {
   "cell_type": "code",
   "execution_count": null,
   "metadata": {},
   "outputs": [],
   "source": [
    "#удаляем ненужные колонки\n",
    "df_metallicheskaya_mebel_stellazhi_izh = df_metallicheskaya_mebel_stellazhi_izh.drop(['description', 'size'], axis=1)"
   ]
  },
  {
   "cell_type": "code",
   "execution_count": null,
   "metadata": {},
   "outputs": [],
   "source": [
    "df_metallicheskaya_mebel_stellazhi_izh['height'] = df_metallicheskaya_mebel_stellazhi_izh['height'].replace('', np.nan)"
   ]
  },
  {
   "cell_type": "code",
   "execution_count": null,
   "metadata": {},
   "outputs": [],
   "source": [
    "df_metallicheskaya_mebel_stellazhi_izh['depth'] = df_metallicheskaya_mebel_stellazhi_izh['depth'].replace('', np.nan)"
   ]
  },
  {
   "cell_type": "code",
   "execution_count": null,
   "metadata": {},
   "outputs": [],
   "source": [
    "#перевести height, width, depth to float\n",
    "df_metallicheskaya_mebel_stellazhi_izh['height'] = df_metallicheskaya_mebel_stellazhi_izh['height'].astype(float)\n",
    "df_metallicheskaya_mebel_stellazhi_izh['width'] = df_metallicheskaya_mebel_stellazhi_izh['width'].astype(float)\n",
    "df_metallicheskaya_mebel_stellazhi_izh['depth'] = df_metallicheskaya_mebel_stellazhi_izh['depth'].astype(float)"
   ]
  },
  {
   "cell_type": "code",
   "execution_count": null,
   "metadata": {},
   "outputs": [],
   "source": [
    "#проверяем\n",
    "df_metallicheskaya_mebel_stellazhi_izh.head(100)"
   ]
  },
  {
   "cell_type": "code",
   "execution_count": null,
   "metadata": {},
   "outputs": [],
   "source": [
    "df_metallicheskaya_mebel_stellazhi_izh.info()"
   ]
  },
  {
   "cell_type": "markdown",
   "metadata": {},
   "source": [
    "#### Металлическая мебель (Шкафы)"
   ]
  },
  {
   "cell_type": "code",
   "execution_count": null,
   "metadata": {},
   "outputs": [],
   "source": [
    "df_metallicheskaya_mebel_shkafy_izh = pd.read_csv('metallicheskaya_mebel_shkafy_izh-2024-09-22.csv')\n",
    "df_metallicheskaya_mebel_shkafy_izh.head()"
   ]
  },
  {
   "cell_type": "code",
   "execution_count": null,
   "metadata": {},
   "outputs": [],
   "source": [
    "#add category 'Металлическая мебель (Шкафы)'\n",
    "df_metallicheskaya_mebel_shkafy_izh['category'] = 'Металлическая мебель (Шкафы)'"
   ]
  },
  {
   "cell_type": "code",
   "execution_count": null,
   "metadata": {},
   "outputs": [],
   "source": [
    "df_metallicheskaya_mebel_shkafy_izh['price'] = df_metallicheskaya_mebel_shkafy_izh['price'].apply(price_to_float)"
   ]
  },
  {
   "cell_type": "code",
   "execution_count": null,
   "metadata": {},
   "outputs": [],
   "source": [
    "df_metallicheskaya_mebel_shkafy_izh['height'] = df_metallicheskaya_mebel_shkafy_izh['size'].apply(height)"
   ]
  },
  {
   "cell_type": "code",
   "execution_count": null,
   "metadata": {},
   "outputs": [],
   "source": [
    "df_metallicheskaya_mebel_shkafy_izh['width'] = df_metallicheskaya_mebel_shkafy_izh['size'].apply(width)"
   ]
  },
  {
   "cell_type": "code",
   "execution_count": null,
   "metadata": {},
   "outputs": [],
   "source": [
    "df_metallicheskaya_mebel_shkafy_izh['depth'] = df_metallicheskaya_mebel_shkafy_izh['size'].apply(depth)"
   ]
  },
  {
   "cell_type": "code",
   "execution_count": null,
   "metadata": {},
   "outputs": [],
   "source": [
    "df_metallicheskaya_mebel_shkafy_izh['weight'] = df_metallicheskaya_mebel_shkafy_izh['description'].apply(weight)"
   ]
  },
  {
   "cell_type": "code",
   "execution_count": null,
   "metadata": {},
   "outputs": [],
   "source": [
    "#удаляем ненужные колонки\n",
    "df_metallicheskaya_mebel_shkafy_izh = df_metallicheskaya_mebel_shkafy_izh.drop(['description', 'size'], axis=1)"
   ]
  },
  {
   "cell_type": "code",
   "execution_count": null,
   "metadata": {},
   "outputs": [],
   "source": [
    "df_metallicheskaya_mebel_shkafy_izh['height'] = df_metallicheskaya_mebel_shkafy_izh['height'].replace('', np.nan)"
   ]
  },
  {
   "cell_type": "code",
   "execution_count": null,
   "metadata": {},
   "outputs": [],
   "source": [
    "df_metallicheskaya_mebel_shkafy_izh['depth'] = df_metallicheskaya_mebel_shkafy_izh['depth'].replace('', np.nan)"
   ]
  },
  {
   "cell_type": "code",
   "execution_count": null,
   "metadata": {},
   "outputs": [],
   "source": [
    "#перевести height, width, depth to float\n",
    "df_metallicheskaya_mebel_shkafy_izh['height'] = df_metallicheskaya_mebel_shkafy_izh['height'].astype(float)\n",
    "df_metallicheskaya_mebel_shkafy_izh['width'] = df_metallicheskaya_mebel_shkafy_izh['width'].astype(float)\n",
    "df_metallicheskaya_mebel_shkafy_izh['depth'] = df_metallicheskaya_mebel_shkafy_izh['depth'].astype(float)"
   ]
  },
  {
   "cell_type": "code",
   "execution_count": null,
   "metadata": {},
   "outputs": [],
   "source": [
    "#проверяем\n",
    "df_metallicheskaya_mebel_shkafy_izh.head(100)"
   ]
  },
  {
   "cell_type": "code",
   "execution_count": null,
   "metadata": {},
   "outputs": [],
   "source": [
    "df_metallicheskaya_mebel_shkafy_izh.info()"
   ]
  },
  {
   "cell_type": "markdown",
   "metadata": {},
   "source": [
    "#### Производственная мебель (Верстаки, столы, тумбы)"
   ]
  },
  {
   "cell_type": "code",
   "execution_count": null,
   "metadata": {},
   "outputs": [],
   "source": [
    "df_metallicheskaya_mebel_verstaki_izh = pd.read_csv('metallicheskaya_mebel_verstaki_izh-2024-09-22.csv')\n",
    "df_metallicheskaya_mebel_verstaki_izh.head()"
   ]
  },
  {
   "cell_type": "code",
   "execution_count": null,
   "metadata": {},
   "outputs": [],
   "source": [
    "#add category 'Производственная мебель (Верстаки, столы, тумбы)'\n",
    "df_metallicheskaya_mebel_verstaki_izh['category'] = 'Производственная мебель (Верстаки, столы, тумбы)'"
   ]
  },
  {
   "cell_type": "code",
   "execution_count": null,
   "metadata": {},
   "outputs": [],
   "source": [
    "#add shop\n",
    "df_metallicheskaya_mebel_verstaki_izh['shop'] = 'Настоящие сейфы'"
   ]
  },
  {
   "cell_type": "code",
   "execution_count": null,
   "metadata": {},
   "outputs": [],
   "source": [
    "df_metallicheskaya_mebel_verstaki_izh['price'] = df_metallicheskaya_mebel_verstaki_izh['price'].apply(price_to_float)"
   ]
  },
  {
   "cell_type": "code",
   "execution_count": null,
   "metadata": {},
   "outputs": [],
   "source": [
    "df_metallicheskaya_mebel_verstaki_izh['height'] = df_metallicheskaya_mebel_verstaki_izh['size'].apply(height)"
   ]
  },
  {
   "cell_type": "code",
   "execution_count": null,
   "metadata": {},
   "outputs": [],
   "source": [
    "df_metallicheskaya_mebel_verstaki_izh['width'] = df_metallicheskaya_mebel_verstaki_izh['size'].apply(width)"
   ]
  },
  {
   "cell_type": "code",
   "execution_count": null,
   "metadata": {},
   "outputs": [],
   "source": [
    "df_metallicheskaya_mebel_verstaki_izh['depth'] = df_metallicheskaya_mebel_verstaki_izh['size'].apply(depth)"
   ]
  },
  {
   "cell_type": "code",
   "execution_count": null,
   "metadata": {},
   "outputs": [],
   "source": [
    "df_metallicheskaya_mebel_verstaki_izh['weight'] = df_metallicheskaya_mebel_verstaki_izh['description'].apply(weight)"
   ]
  },
  {
   "cell_type": "code",
   "execution_count": null,
   "metadata": {},
   "outputs": [],
   "source": [
    "#удаляем ненужные колонки\n",
    "df_metallicheskaya_mebel_verstaki_izh = df_metallicheskaya_mebel_verstaki_izh.drop(['description', 'size'], axis=1)"
   ]
  },
  {
   "cell_type": "code",
   "execution_count": null,
   "metadata": {},
   "outputs": [],
   "source": [
    "df_metallicheskaya_mebel_verstaki_izh['height'] = df_metallicheskaya_mebel_verstaki_izh['height'].replace('', np.nan)"
   ]
  },
  {
   "cell_type": "code",
   "execution_count": null,
   "metadata": {},
   "outputs": [],
   "source": [
    "df_metallicheskaya_mebel_verstaki_izh['depth'] = df_metallicheskaya_mebel_verstaki_izh['depth'].replace('', np.nan)"
   ]
  },
  {
   "cell_type": "code",
   "execution_count": null,
   "metadata": {},
   "outputs": [],
   "source": [
    "#перевести height, width, depth to float\n",
    "df_metallicheskaya_mebel_verstaki_izh['height'] = df_metallicheskaya_mebel_verstaki_izh['height'].astype(float)\n",
    "df_metallicheskaya_mebel_verstaki_izh['width'] = df_metallicheskaya_mebel_verstaki_izh['width'].astype(float)\n",
    "df_metallicheskaya_mebel_verstaki_izh['depth'] = df_metallicheskaya_mebel_verstaki_izh['depth'].astype(float)"
   ]
  },
  {
   "cell_type": "code",
   "execution_count": null,
   "metadata": {},
   "outputs": [],
   "source": [
    "#проверяем\n",
    "df_metallicheskaya_mebel_verstaki_izh.head(100)"
   ]
  },
  {
   "cell_type": "code",
   "execution_count": null,
   "metadata": {},
   "outputs": [],
   "source": [
    "df_metallicheskaya_mebel_verstaki_izh.info()"
   ]
  },
  {
   "cell_type": "markdown",
   "metadata": {},
   "source": [
    "#### Итоговый DF по конкуренту 2"
   ]
  },
  {
   "cell_type": "code",
   "execution_count": null,
   "metadata": {},
   "outputs": [],
   "source": [
    "metallicheskaya_mebel_izh_df = pd.DataFrame() #создаём пустой df"
   ]
  },
  {
   "cell_type": "code",
   "execution_count": null,
   "metadata": {},
   "outputs": [],
   "source": [
    "metallicheskaya_mebel_izh_df = pd.concat([metallicheskaya_mebel_izh_df, df_medecinskaya_mebel_izh]) #добавляем Медицинскую мебель"
   ]
  },
  {
   "cell_type": "code",
   "execution_count": null,
   "metadata": {},
   "outputs": [],
   "source": [
    "metallicheskaya_mebel_izh_df = pd.concat([metallicheskaya_mebel_izh_df, df_metallicheskaya_mebel_stellazhi_izh]) #добавляем Металлическая мебель (Стеллажи)"
   ]
  },
  {
   "cell_type": "code",
   "execution_count": null,
   "metadata": {},
   "outputs": [],
   "source": [
    "metallicheskaya_mebel_izh_df = pd.concat([metallicheskaya_mebel_izh_df, df_metallicheskaya_mebel_shkafy_izh]) #добавляем Металлическая мебель (Шкафы)"
   ]
  },
  {
   "cell_type": "code",
   "execution_count": null,
   "metadata": {},
   "outputs": [],
   "source": [
    "metallicheskaya_mebel_izh_df = pd.concat([metallicheskaya_mebel_izh_df, df_metallicheskaya_mebel_verstaki_izh]) #добавляем Производственная мебель (Верстаки, столы, тумбы)"
   ]
  },
  {
   "cell_type": "code",
   "execution_count": null,
   "metadata": {},
   "outputs": [],
   "source": [
    "metallicheskaya_mebel_izh_df.info()"
   ]
  },
  {
   "cell_type": "code",
   "execution_count": null,
   "metadata": {},
   "outputs": [],
   "source": [
    "metallicheskaya_mebel_izh_df.head()"
   ]
  },
  {
   "cell_type": "code",
   "execution_count": null,
   "metadata": {},
   "outputs": [],
   "source": [
    "metallicheskaya_mebel_izh_df.to_csv('metallicheskaya_mebel_izh.csv', index=False) #записываем в файл"
   ]
  },
  {
   "cell_type": "markdown",
   "metadata": {},
   "source": [
    "#### Парсинг по конкуренту 3"
   ]
  },
  {
   "cell_type": "markdown",
   "metadata": {},
   "source": [
    "[Официальный сайт конкурента 3](http://www.safes18.ru/)\n",
    "\n",
    "Интересующие категории:\n",
    "* Медицинская мебель\n",
    "* Металлическая мебель (Стеллажи)\n",
    "* Металлическая мебель (Шкафы)\n",
    "* Производственная мебель (Верстаки, столы, тумбы)\n",
    "\n",
    "Данные для сбора:\n",
    "* Название\n",
    "* Подкатегория\n",
    "* Габаритные размеры\n",
    "* Описание\n",
    "* Наличие\n",
    "* Продажная цена"
   ]
  },
  {
   "cell_type": "markdown",
   "metadata": {},
   "source": [
    "#### [Медицинская мебель](https://safes18.ru/catalog/meditsinskaya-mebel-i-izdeliya/ \"Ссылка на категорию\")"
   ]
  },
  {
   "cell_type": "code",
   "execution_count": null,
   "metadata": {},
   "outputs": [],
   "source": [
    "# Категория стеллажи all pages\n",
    "def get_medecinskaya_mebel_safes18():\n",
    "  medecinskaya_mebel_safes18 = pd.DataFrame()\n",
    "  i = 1\n",
    "  while i <= 4:\n",
    "    url = 'https://safes18.ru/catalog/meditsinskaya-mebel-i-izdeliya/?view=title&PAGEN_1'+'='+f'{str(i)}'\n",
    "    req = requests.get(url).text\n",
    "    time.sleep(0.3)\n",
    "    soup = BeautifulSoup(req)\n",
    "\n",
    "    medecinskaya_mebel = soup.find_all('div', class_='bxr-element-container')\n",
    "\n",
    "    for el in medecinskaya_mebel:\n",
    "      title = el.find('div', class_='bxr-element-name').text\n",
    "      size = el.find_all('td', class_='bxr-props-table-value')\n",
    "      price = el.find('span', class_='bxr-market-current-price bxr-market-format-price')\n",
    "      if (price is None): #добавляем условие, тк не везде есть цена и падает с ошибкой\n",
    "        price = 'По запросу'\n",
    "      else:\n",
    "        price = el.find('span', class_='bxr-market-current-price bxr-market-format-price').text\n",
    "      row = {'title': title, 'size': size, 'price': price}\n",
    "      medecinskaya_mebel_safes18 = pd.concat([medecinskaya_mebel_safes18, pd.DataFrame([row])])\n",
    "          \n",
    "    i +=1\n",
    "  return medecinskaya_mebel_safes18.reset_index(drop=True)\n",
    "\n",
    "res_full_medecinskaya_mebel = get_medecinskaya_mebel_safes18() #записываем сейфы в переменную"
   ]
  },
  {
   "cell_type": "code",
   "execution_count": null,
   "metadata": {},
   "outputs": [],
   "source": [
    "res_full.info()"
   ]
  },
  {
   "cell_type": "code",
   "execution_count": null,
   "metadata": {},
   "outputs": [],
   "source": [
    "res_full.to_csv('medecinskaya_mebel_safes18-2024-09-22.csv', index=False) #записываем в файл"
   ]
  },
  {
   "cell_type": "markdown",
   "metadata": {},
   "source": [
    "#### [Металлическая мебель (Стеллажи)](https://safes18.ru/catalog/metallicheskie-stellazhi/ \"Ссылка на категорию\")"
   ]
  },
  {
   "cell_type": "code",
   "execution_count": null,
   "metadata": {},
   "outputs": [],
   "source": [
    "# Категория стеллажи all pages\n",
    "def get metallicheskaya_mebel_stellazhi_safes18():\n",
    "  metallicheskaya_mebel_stellazhi_safes18 = pd.DataFrame()\n",
    "  i = 1\n",
    "  while i <= 4:\n",
    "    url = 'https://safes18.ru/catalog/metallicheskie-stellazhi/?view=title&PAGEN_1'+'='+f'{str(i)}'\n",
    "    req = requests.get(url).text\n",
    "    time.sleep(0.3)\n",
    "    soup = BeautifulSoup(req)\n",
    "\n",
    "    stellazhi = soup.find_all('div', class_='bxr-element-container')\n",
    "\n",
    "    for el in stellazhi:\n",
    "      title = el.find('div', class_='bxr-element-name').text\n",
    "      size = el.find_all('td', class_='bxr-props-table-value')\n",
    "      price = el.find('span', class_='bxr-market-current-price bxr-market-format-price')\n",
    "      if (price is None): #добавляем условие, тк не везде есть цена и падает с ошибкой\n",
    "        price = 'По запросу'\n",
    "      else:\n",
    "        price = el.find('span', class_='bxr-market-current-price bxr-market-format-price').text\n",
    "      row = {'title': title, 'size': size, 'price': price}\n",
    "      metallicheskaya_mebel_stellazhi_safes18 = pd.concat([metallicheskaya_mebel_stellazhi_safes18, pd.DataFrame([row])])\n",
    "          \n",
    "    i +=1\n",
    "  return metallicheskaya_mebel_stellazhi_safes18.reset_index(drop=True)\n",
    "\n",
    "res_full_stellazhi = get_metallicheskaya_mebel_stellazhi_safes18() #записываем сейфы в переменную"
   ]
  },
  {
   "cell_type": "code",
   "execution_count": null,
   "metadata": {},
   "outputs": [],
   "source": [
    "res_full_stellazhi.info()"
   ]
  },
  {
   "cell_type": "code",
   "execution_count": null,
   "metadata": {},
   "outputs": [],
   "source": [
    "res_full_stellazhi.to_csv('metallicheskaya_mebel_stellazhi_safes18-2024-09-22.csv', index=False) #записываем в файл"
   ]
  },
  {
   "cell_type": "markdown",
   "metadata": {},
   "source": [
    "#### [Металлическая мебель (Шкафы)](https://https://safes18.ru/catalog/metallicheskaya-mebel/ \"Ссылка на категорию\")"
   ]
  },
  {
   "cell_type": "code",
   "execution_count": null,
   "metadata": {},
   "outputs": [],
   "source": [
    "# Категория мет мебель all pages\n",
    "def get_metallicheskaya_mebel_shkafy_safes18():\n",
    "  metallicheskaya_mebel_shkafy_safes18 = pd.DataFrame()\n",
    "  i = 1\n",
    "  while i <= 14:\n",
    "    url = 'https://safes18.ru/catalog/metallicheskaya-mebel/?view=title&PAGEN_1'+'='+f'{str(i)}'\n",
    "    req = requests.get(url).text\n",
    "    time.sleep(0.3)\n",
    "    soup = BeautifulSoup(req)\n",
    "\n",
    "    met_mebel = soup.find_all('div', class_='bxr-element-container')\n",
    "\n",
    "    for el in met_mebel:\n",
    "      title = el.find('div', class_='bxr-element-name').text\n",
    "      size = el.find_all('td', class_='bxr-props-table-value')\n",
    "      price = el.find('span', class_='bxr-market-current-price bxr-market-format-price')\n",
    "      if (price is None): #добавляем условие, тк не везде есть цена и падает с ошибкой\n",
    "        price = 'По запросу'\n",
    "      else:\n",
    "        price = el.find('span', class_='bxr-market-current-price bxr-market-format-price').text\n",
    "      row = {'title': title, 'size': size, 'price': price}\n",
    "      metallicheskaya_mebel_shkafy_safes18 = pd.concat([metallicheskaya_mebel_shkafy_safes18, pd.DataFrame([row])])\n",
    "          \n",
    "    i +=1\n",
    "  return metallicheskaya_mebel_shkafy_safes18.reset_index(drop=True)\n",
    "\n",
    "res_full_met_mebel = get_metallicheskaya_mebel_shkafy_safes18() #записываем сейфы в переменную\n"
   ]
  },
  {
   "cell_type": "code",
   "execution_count": null,
   "metadata": {},
   "outputs": [],
   "source": [
    "res_full_met_mebel.info()"
   ]
  },
  {
   "cell_type": "code",
   "execution_count": null,
   "metadata": {},
   "outputs": [],
   "source": [
    "res_full_met_mebel.to_csv('metallicheskaya_mebel_shkafy_safes18-2024-09-22.csv', index=False) #записываем в файл"
   ]
  },
  {
   "cell_type": "markdown",
   "metadata": {},
   "source": [
    "#### [Производственная мебель (Верстаки, столы, тумбы)](https://safes18.ru/catalog/proizvodstvennaya-mebel/ \"Ссылка на категорию\")"
   ]
  },
  {
   "cell_type": "code",
   "execution_count": null,
   "metadata": {},
   "outputs": [],
   "source": [
    "# Категория производственная мебель all pages\n",
    "def get_metallicheskaya_mebel_verstaki_safes18():\n",
    "  metallicheskaya_mebel_verstaki_safes18 = pd.DataFrame()\n",
    "  i = 1\n",
    "  while i <= 18:\n",
    "    url = 'https://safes18.ru/catalog/proizvodstvennaya-mebel/?view=title&PAGEN_1'+'='+f'{str(i)}'\n",
    "    req = requests.get(url).text\n",
    "    time.sleep(0.3)\n",
    "    soup = BeautifulSoup(req)\n",
    "\n",
    "    verstaki = soup.find_all('div', class_='bxr-element-container')\n",
    "\n",
    "    for el in verstaki:\n",
    "      title = el.find('div', class_='bxr-element-name').text\n",
    "      size = el.find_all('td', class_='bxr-props-table-value')\n",
    "      price = el.find('span', class_='bxr-market-current-price bxr-market-format-price')\n",
    "      if (price is None): #добавляем условие, тк не везде есть цена и падает с ошибкой\n",
    "        price = 'По запросу'\n",
    "      else:\n",
    "        price = el.find('span', class_='bxr-market-current-price bxr-market-format-price').text\n",
    "      row = {'title': title, 'size': size, 'price': price}\n",
    "      metallicheskaya_mebel_verstaki_safes18 = pd.concat([metallicheskaya_mebel_verstaki_safes18, pd.DataFrame([row])])\n",
    "          \n",
    "    i +=1\n",
    "  return metallicheskaya_mebel_verstaki_safes18.reset_index(drop=True)\n",
    "\n",
    "res_full_verstaki = get_metallicheskaya_mebel_verstaki_safes18() #записываем сейфы в переменную"
   ]
  },
  {
   "cell_type": "code",
   "execution_count": null,
   "metadata": {},
   "outputs": [],
   "source": [
    "res_full_verstaki.head()"
   ]
  },
  {
   "cell_type": "code",
   "execution_count": null,
   "metadata": {},
   "outputs": [],
   "source": [
    "res_full_verstaki.info()"
   ]
  },
  {
   "cell_type": "code",
   "execution_count": null,
   "metadata": {},
   "outputs": [],
   "source": [
    "res_full_verstaki.to_csv('metallicheskaya_mebel_verstaki_safes18-2024-09-22.csv', index=False) #записываем в файл"
   ]
  },
  {
   "cell_type": "markdown",
   "metadata": {},
   "source": [
    "#### Первичная обработка данных по конкуренту 3"
   ]
  },
  {
   "cell_type": "markdown",
   "metadata": {},
   "source": [
    "#### Медицинская мебель"
   ]
  },
  {
   "cell_type": "code",
   "execution_count": null,
   "metadata": {},
   "outputs": [],
   "source": [
    "df_medecinskaya_mebel_safes18 = pd.read_csv('medecinskaya_mebel_izh-2024-09-22.csv.csv')\n",
    "df_medecinskaya_mebel_safes18.head()"
   ]
  },
  {
   "cell_type": "code",
   "execution_count": null,
   "metadata": {},
   "outputs": [],
   "source": [
    "#add category 'Медицинская мебель'\n",
    "df_medecinskaya_mebel_safes18['category'] = 'Медицинская мебель'"
   ]
  },
  {
   "cell_type": "code",
   "execution_count": null,
   "metadata": {},
   "outputs": [],
   "source": [
    "#add shop \n",
    "df_medecinskaya_mebel_safes18['shop'] = 'Cейфы Ижевск Практик'"
   ]
  },
  {
   "cell_type": "code",
   "execution_count": null,
   "metadata": {},
   "outputs": [],
   "source": [
    "df_medecinskaya_mebel_safes18['price'][3]"
   ]
  },
  {
   "cell_type": "code",
   "execution_count": null,
   "metadata": {},
   "outputs": [],
   "source": [
    "#убираем пробелы и лишние символы из цены, а потом переводим в float\n",
    "\n",
    "def price_to_float(param):\n",
    "    if(pd.isna(param)): #т.к некоторые значения вовсе отсутствуют и без этого условия вылазит ошибка\n",
    "        param = param\n",
    "    else:\n",
    "        param = param.replace(' руб.', '').replace(' ', '')\n",
    "        if param != 'Позапросу':\n",
    "            param = float(param)\n",
    "        else:\n",
    "            param = np.nan\n",
    "    return param"
   ]
  },
  {
   "cell_type": "code",
   "execution_count": null,
   "metadata": {},
   "outputs": [],
   "source": [
    "df_medecinskaya_mebel_safes18['price'] = df_medecinskaya_mebel_safes18['price'].apply(price_to_float)\n",
    "df_medecinskaya_mebel_safes18.head()"
   ]
  },
  {
   "cell_type": "code",
   "execution_count": null,
   "metadata": {},
   "outputs": [],
   "source": [
    "df_medecinskaya_mebel_safes18['title'][23]"
   ]
  },
  {
   "cell_type": "code",
   "execution_count": null,
   "metadata": {},
   "outputs": [],
   "source": [
    "df_medecinskaya_mebel_safes18['title'][10]"
   ]
  },
  {
   "cell_type": "code",
   "execution_count": null,
   "metadata": {},
   "outputs": [],
   "source": [
    "#Корректируем title v2\n",
    "#re_title = r'(?<=\\n\\n\\n)([0-9]*)(?=[\\n\\n\\n\\n])'\n",
    "def title_new(param):\n",
    "  param = re.sub(r'(?<=\\n\\n\\n)((Высота, мм\\n)[0-9]*(\\n\\n\\nШирина, мм\\n)[0-9]*(\\n\\n\\nГлубина, мм\\n)[0-9]*)(?=\\n\\n\\n\\n)|Высота, мм\\n-\\n\\n\\nШирина, мм\\n-\\n\\n\\nГлубина, мм\\n-\\n\\n\\n\\n', '', param, flags = re.IGNORECASE)\n",
    "  param = param.replace('\\n\\n                                    ', '').replace('                                 ', '').replace('\\n', '')\n",
    "  return param"
   ]
  },
  {
   "cell_type": "code",
   "execution_count": null,
   "metadata": {},
   "outputs": [],
   "source": [
    "df_medecinskaya_mebel_safes18['title'] = df_medecinskaya_mebel_safes18['title'].apply(title_new)\n",
    "df_medecinskaya_mebel_safes18.head()"
   ]
  },
  {
   "cell_type": "code",
   "execution_count": null,
   "metadata": {},
   "outputs": [],
   "source": [
    "df_medecinskaya_mebel_safes18['size'][0]"
   ]
  },
  {
   "cell_type": "code",
   "execution_count": null,
   "metadata": {},
   "outputs": [],
   "source": [
    "#смотрим тип данных колонки size\n",
    "type(df_medecinskaya_mebel_safes18['size'][0])"
   ]
  },
  {
   "cell_type": "code",
   "execution_count": null,
   "metadata": {},
   "outputs": [],
   "source": [
    "#height\n",
    "def height(param):\n",
    "    h_w_d = re.findall(r'(?<=value\">)([0-9]*)(?=</td>)', param)\n",
    "    if len(h_w_d) < 2:\n",
    "      height = np.nan\n",
    "    else:\n",
    "      height = h_w_d[0]\n",
    "    return height"
   ]
  },
  {
   "cell_type": "code",
   "execution_count": null,
   "metadata": {},
   "outputs": [],
   "source": [
    "df_medecinskaya_mebel_safes18['height'] = df_medecinskaya_mebel_safes18['size'].apply(height)\n",
    "df_medecinskaya_mebel_safes18.head()"
   ]
  },
  {
   "cell_type": "code",
   "execution_count": null,
   "metadata": {},
   "outputs": [],
   "source": [
    "#width\n",
    "def width(param):\n",
    "    h_w_d = re.findall(r'(?<=value\">)([0-9]*)(?=</td>)', param)\n",
    "    if len(h_w_d) < 2:\n",
    "      width = np.nan\n",
    "    else:\n",
    "      width = h_w_d[1]\n",
    "    return width"
   ]
  },
  {
   "cell_type": "code",
   "execution_count": null,
   "metadata": {},
   "outputs": [],
   "source": [
    "df_medecinskaya_mebel_safes18['width'] = df_medecinskaya_mebel_safes18['size'].apply(width)\n",
    "df_medecinskaya_mebel_safes18.head()"
   ]
  },
  {
   "cell_type": "code",
   "execution_count": null,
   "metadata": {},
   "outputs": [],
   "source": [
    "#depth v2\n",
    "def depth(param):\n",
    "    h_w_d = re.findall(r'(?<=value\">)([0-9]*)(?=</td>)', param)\n",
    "    if len(h_w_d) < 3:\n",
    "      depth = np.nan\n",
    "    else:\n",
    "      depth = h_w_d[2]\n",
    "    return depth"
   ]
  },
  {
   "cell_type": "code",
   "execution_count": null,
   "metadata": {},
   "outputs": [],
   "source": [
    "df_medecinskaya_mebel_safes18['depth'] = df_medecinskaya_mebel_safes18['size'].apply(depth)\n",
    "df_medecinskaya_mebel_safes18.head()"
   ]
  },
  {
   "cell_type": "code",
   "execution_count": null,
   "metadata": {},
   "outputs": [],
   "source": [
    "#удаляем ненужные колонки\n",
    "df_medecinskaya_mebel_safes18 = df_medecinskaya_mebel_safes18.drop(['size'], axis=1)\n",
    "df_medecinskaya_mebel_safes18"
   ]
  },
  {
   "cell_type": "code",
   "execution_count": null,
   "metadata": {},
   "outputs": [],
   "source": [
    "#перевести height, width, depth to float\n",
    "df_medecinskaya_mebel_safes18['height'] = df_medecinskaya_mebel_safes18['height'].astype(float)\n",
    "df_medecinskaya_mebel_safes18['width'] = df_medecinskaya_mebel_safes18['width'].astype(float)\n",
    "df_medecinskaya_mebel_safes18['depth'] = df_medecinskaya_mebel_safes18['depth'].astype(float)"
   ]
  },
  {
   "cell_type": "code",
   "execution_count": null,
   "metadata": {},
   "outputs": [],
   "source": [
    "#проверяем\n",
    "df_medecinskaya_mebel_safes18.tail(100)"
   ]
  },
  {
   "cell_type": "code",
   "execution_count": null,
   "metadata": {},
   "outputs": [],
   "source": [
    "df_medecinskaya_mebel_safes18.info()"
   ]
  },
  {
   "cell_type": "markdown",
   "metadata": {},
   "source": [
    "#### Металлическая мебель (Стеллажи)"
   ]
  },
  {
   "cell_type": "code",
   "execution_count": null,
   "metadata": {},
   "outputs": [],
   "source": [
    "df_metallicheskaya_mebel_st_safes18 = pd.read_csv('metallicheskaya_mebel_stellazhi_safes18-2024-09-22.csv')\n",
    "df_metallicheskaya_mebel_st_safes18.head()"
   ]
  },
  {
   "cell_type": "code",
   "execution_count": null,
   "metadata": {},
   "outputs": [],
   "source": [
    "#add category 'Металлическая мебель (Стеллажи)' \n",
    "df_metallicheskaya_mebel_st_safes18['category'] = 'Металлическая мебель (Стеллажи)'"
   ]
  },
  {
   "cell_type": "code",
   "execution_count": null,
   "metadata": {},
   "outputs": [],
   "source": [
    "#add shop \n",
    "df_metallicheskaya_mebel_st_safes18['shop'] = 'Cейфы Ижевск Практик'"
   ]
  },
  {
   "cell_type": "code",
   "execution_count": null,
   "metadata": {},
   "outputs": [],
   "source": [
    "#переводим price to float\n",
    "df_metallicheskaya_mebel_st_safes18['price'] = df_metallicheskaya_mebel_st_safes18['price'].apply(price_to_float)"
   ]
  },
  {
   "cell_type": "code",
   "execution_count": null,
   "metadata": {},
   "outputs": [],
   "source": [
    "#correct title\n",
    "df_metallicheskaya_mebel_st_safes18['title'] = df_metallicheskaya_mebel_st_safes18['title'].apply(title_new)"
   ]
  },
  {
   "cell_type": "code",
   "execution_count": null,
   "metadata": {},
   "outputs": [],
   "source": [
    "#add height\n",
    "df_metallicheskaya_mebel_st_safes18['height'] = df_metallicheskaya_mebel_st_safes18['size'].apply(height)"
   ]
  },
  {
   "cell_type": "code",
   "execution_count": null,
   "metadata": {},
   "outputs": [],
   "source": [
    "#add width\n",
    "df_metallicheskaya_mebel_st_safes18['width'] = df_metallicheskaya_mebel_st_safes18['size'].apply(width)"
   ]
  },
  {
   "cell_type": "code",
   "execution_count": null,
   "metadata": {},
   "outputs": [],
   "source": [
    "#add depth\n",
    "df_metallicheskaya_mebel_st_safes18['depth'] = df_metallicheskaya_mebel_st_safes18['size'].apply(depth)"
   ]
  },
  {
   "cell_type": "code",
   "execution_count": null,
   "metadata": {},
   "outputs": [],
   "source": [
    "#удаляем ненужные колонки\n",
    "df_metallicheskaya_mebel_st_safes18 = df_metallicheskaya_mebel_st_safes18.drop(['size'], axis=1)"
   ]
  },
  {
   "cell_type": "code",
   "execution_count": null,
   "metadata": {},
   "outputs": [],
   "source": [
    "#перевести height, width, depth to float\n",
    "df_metallicheskaya_mebel_st_safes18['height'] = df_metallicheskaya_mebel_st_safes18['height'].astype(float)\n",
    "df_metallicheskaya_mebel_st_safes18['width'] = df_metallicheskaya_mebel_st_safes18['width'].astype(float)\n",
    "df_metallicheskaya_mebel_st_safes18['depth'] = df_metallicheskaya_mebel_st_safes18['depth'].astype(float)"
   ]
  },
  {
   "cell_type": "code",
   "execution_count": null,
   "metadata": {},
   "outputs": [],
   "source": [
    "#проверяем\n",
    "df_metallicheskaya_mebel_st_safes18.head(100)"
   ]
  },
  {
   "cell_type": "code",
   "execution_count": null,
   "metadata": {},
   "outputs": [],
   "source": [
    "df_metallicheskaya_mebel_st_safes18.info()"
   ]
  },
  {
   "cell_type": "markdown",
   "metadata": {},
   "source": [
    "#### Металлическая мебель (Шкафы)"
   ]
  },
  {
   "cell_type": "code",
   "execution_count": null,
   "metadata": {},
   "outputs": [],
   "source": [
    "df_metallicheskaya_mebel_shkafy_safes18 = pd.read_csv('metallicheskaya_mebel_shkafy_safes18-2024-09-22.csv')\n",
    "df_metallicheskaya_mebel_shkafy_safes18.head()"
   ]
  },
  {
   "cell_type": "code",
   "execution_count": null,
   "metadata": {},
   "outputs": [],
   "source": [
    "#add category 'Металлическая мебель (Шкафы)'  \n",
    "df_metallicheskaya_mebel_shkafy_safes18['category'] = 'Металлическая мебель (Шкафы)'"
   ]
  },
  {
   "cell_type": "code",
   "execution_count": null,
   "metadata": {},
   "outputs": [],
   "source": [
    "#add shop \n",
    "df_metallicheskaya_mebel_shkafy_safes18['shop'] = 'Cейфы Ижевск Практик'"
   ]
  },
  {
   "cell_type": "code",
   "execution_count": null,
   "metadata": {},
   "outputs": [],
   "source": [
    "df_metallicheskaya_mebel_shkafy_safes18.info()"
   ]
  },
  {
   "cell_type": "code",
   "execution_count": null,
   "metadata": {},
   "outputs": [],
   "source": [
    "type(df_metallicheskaya_mebel_shkafy_safes18['price'][165])"
   ]
  },
  {
   "cell_type": "code",
   "execution_count": null,
   "metadata": {},
   "outputs": [],
   "source": [
    "#переводим price to float\n",
    "df_metallicheskaya_mebel_shkafy_safes18['price'] = df_metallicheskaya_mebel_shkafy_safes18['price'].apply(price_to_float)"
   ]
  },
  {
   "cell_type": "code",
   "execution_count": null,
   "metadata": {},
   "outputs": [],
   "source": [
    "#correct title\n",
    "df_metallicheskaya_mebel_shkafy_safes18['title'] = df_metallicheskaya_mebel_shkafy_safes18['title'].apply(title_new)"
   ]
  },
  {
   "cell_type": "code",
   "execution_count": null,
   "metadata": {},
   "outputs": [],
   "source": [
    "#add height\n",
    "df_metallicheskaya_mebel_shkafy_safes18['height'] = df_metallicheskaya_mebel_shkafy_safes18['size'].apply(height)"
   ]
  },
  {
   "cell_type": "code",
   "execution_count": null,
   "metadata": {},
   "outputs": [],
   "source": [
    "#add width\n",
    "df_metallicheskaya_mebel_shkafy_safes18['width'] = df_metallicheskaya_mebel_shkafy_safes18['size'].apply(width)"
   ]
  },
  {
   "cell_type": "code",
   "execution_count": null,
   "metadata": {},
   "outputs": [],
   "source": [
    "#add depth\n",
    "df_metallicheskaya_mebel_shkafy_safes18['depth'] = df_metallicheskaya_mebel_shkafy_safes18['size'].apply(depth)"
   ]
  },
  {
   "cell_type": "code",
   "execution_count": null,
   "metadata": {},
   "outputs": [],
   "source": [
    "#удаляем ненужные колонки\n",
    "df_metallicheskaya_mebel_shkafy_safes18 = df_metallicheskaya_mebel_shkafy_safes18.drop(['size'], axis=1)"
   ]
  },
  {
   "cell_type": "code",
   "execution_count": null,
   "metadata": {},
   "outputs": [],
   "source": [
    "#перевести height, width, depth to float\n",
    "df_metallicheskaya_mebel_shkafy_safes18['height'] = df_metallicheskaya_mebel_shkafy_safes18['height'].astype(float)\n",
    "df_metallicheskaya_mebel_shkafy_safes18['width'] = df_metallicheskaya_mebel_shkafy_safes18['width'].astype(float)\n",
    "df_metallicheskaya_mebel_shkafy_safes18['depth'] = df_metallicheskaya_mebel_shkafy_safes18['depth'].astype(float)"
   ]
  },
  {
   "cell_type": "code",
   "execution_count": null,
   "metadata": {},
   "outputs": [],
   "source": [
    "#проверяем\n",
    "df_metallicheskaya_mebel_shkafy_safes18.head(100)"
   ]
  },
  {
   "cell_type": "code",
   "execution_count": null,
   "metadata": {},
   "outputs": [],
   "source": [
    "df_metallicheskaya_mebel_shkafy_safes18.info()"
   ]
  },
  {
   "cell_type": "markdown",
   "metadata": {},
   "source": [
    "#### Производственная мебель (Верстаки, столы, тумбы)"
   ]
  },
  {
   "cell_type": "code",
   "execution_count": null,
   "metadata": {},
   "outputs": [],
   "source": [
    "df_metallicheskaya_mebel_verstaki_safes18 = pd.read_csv('metallicheskaya_mebel_verstaki_safes18-2024-09-22.csv')\n",
    "df_metallicheskaya_mebel_verstaki_safes18.head()"
   ]
  },
  {
   "cell_type": "code",
   "execution_count": null,
   "metadata": {},
   "outputs": [],
   "source": [
    "#add category 'Производственная мебель (Верстаки, столы, тумбы)' \n",
    "df_metallicheskaya_mebel_verstaki_safes18['category'] = 'Производственная мебель (Верстаки, столы, тумбы)'"
   ]
  },
  {
   "cell_type": "code",
   "execution_count": null,
   "metadata": {},
   "outputs": [],
   "source": [
    "#add shop \n",
    "df_metallicheskaya_mebel_verstaki_safes18['shop'] = 'Cейфы Ижевск Практик'"
   ]
  },
  {
   "cell_type": "code",
   "execution_count": null,
   "metadata": {},
   "outputs": [],
   "source": [
    "#переводим price to float\n",
    "df_metallicheskaya_mebel_verstaki_safes18['price'] = df_safes18_verstaki['price'].apply(price_to_float)"
   ]
  },
  {
   "cell_type": "code",
   "execution_count": null,
   "metadata": {},
   "outputs": [],
   "source": [
    "#correct title\n",
    "df_metallicheskaya_mebel_verstaki_safes18['title'] = df_metallicheskaya_mebel_verstaki_safes18['title'].apply(title_new)"
   ]
  },
  {
   "cell_type": "code",
   "execution_count": null,
   "metadata": {},
   "outputs": [],
   "source": [
    "#add height\n",
    "df_metallicheskaya_mebel_verstaki_safes18['height'] = df_metallicheskaya_mebel_verstaki_safes18['size'].apply(height)"
   ]
  },
  {
   "cell_type": "code",
   "execution_count": null,
   "metadata": {},
   "outputs": [],
   "source": [
    "#add width\n",
    "df_metallicheskaya_mebel_verstaki_safes18['width'] = df_metallicheskaya_mebel_verstaki_safes18['size'].apply(width)"
   ]
  },
  {
   "cell_type": "code",
   "execution_count": null,
   "metadata": {},
   "outputs": [],
   "source": [
    "#add depth\n",
    "df_metallicheskaya_mebel_verstaki_safes18['depth'] = df_metallicheskaya_mebel_verstaki_safes18['size'].apply(depth)"
   ]
  },
  {
   "cell_type": "code",
   "execution_count": null,
   "metadata": {},
   "outputs": [],
   "source": [
    "#удаляем ненужные колонки\n",
    "df_metallicheskaya_mebel_verstaki_safes18 = df_metallicheskaya_mebel_verstaki_safes18.drop(['size'], axis=1)"
   ]
  },
  {
   "cell_type": "code",
   "execution_count": null,
   "metadata": {},
   "outputs": [],
   "source": [
    "#перевести height, width, depth to float\n",
    "df_metallicheskaya_mebel_verstaki_safes18['height'] = df_metallicheskaya_mebel_verstaki_safes18['height'].astype(float)\n",
    "df_metallicheskaya_mebel_verstaki_safes18['width'] = df_metallicheskaya_mebel_verstaki_safes18['width'].astype(float)\n",
    "df_metallicheskaya_mebel_verstaki_safes18['depth'] = df_metallicheskaya_mebel_verstaki_safes18['depth'].astype(float)"
   ]
  },
  {
   "cell_type": "code",
   "execution_count": null,
   "metadata": {},
   "outputs": [],
   "source": [
    "#проверяем\n",
    "df_metallicheskaya_mebel_verstaki_safes18.head(100)"
   ]
  },
  {
   "cell_type": "code",
   "execution_count": null,
   "metadata": {},
   "outputs": [],
   "source": [
    "df_metallicheskaya_mebel_verstaki_safes18.info()"
   ]
  },
  {
   "cell_type": "markdown",
   "metadata": {},
   "source": [
    "#### Итоговый DF по конкуренту 3"
   ]
  },
  {
   "cell_type": "code",
   "execution_count": null,
   "metadata": {},
   "outputs": [],
   "source": [
    "metallicheskaya_mebel_safes18_df = pd.DataFrame() #создаём пустой df"
   ]
  },
  {
   "cell_type": "code",
   "execution_count": null,
   "metadata": {},
   "outputs": [],
   "source": [
    "metallicheskaya_mebel_safes18_df = pd.concat([metallicheskaya_mebel_safes18_df, df_medecinskaya_mebel_safes18]) #добавляем Медицинскую мебель"
   ]
  },
  {
   "cell_type": "code",
   "execution_count": null,
   "metadata": {},
   "outputs": [],
   "source": [
    "metallicheskaya_mebel_safes18_df = pd.concat([metallicheskaya_mebel_safes18_df, df_metallicheskaya_mebel_st_safes18]) #добавляем Металлическая мебель (Стеллажи)"
   ]
  },
  {
   "cell_type": "code",
   "execution_count": null,
   "metadata": {},
   "outputs": [],
   "source": [
    "metallicheskaya_mebel_safes18_df = pd.concat([metallicheskaya_mebel_safes18_df, df_metallicheskaya_mebel_shkafy_safes18]) #добавляем Металлическая мебель (Шкафы)"
   ]
  },
  {
   "cell_type": "code",
   "execution_count": null,
   "metadata": {},
   "outputs": [],
   "source": [
    "metallicheskaya_mebel_safes18_df = pd.concat([metallicheskaya_mebel_safes18_df, df_metallicheskaya_mebel_verstaki_safes18]) #добавляем Производственная мебель (Верстаки, столы, тумбы)"
   ]
  },
  {
   "cell_type": "code",
   "execution_count": null,
   "metadata": {},
   "outputs": [],
   "source": [
    "metallicheskaya_mebel_safes18_df.info()"
   ]
  },
  {
   "cell_type": "code",
   "execution_count": null,
   "metadata": {},
   "outputs": [],
   "source": [
    "metallicheskaya_mebel_safes18_df.head()"
   ]
  },
  {
   "cell_type": "code",
   "execution_count": null,
   "metadata": {},
   "outputs": [],
   "source": [
    "metallicheskaya_mebel_safes18_df.to_csv('metallicheskaya_mebel_safes18.csv', index=False) #записываем в файл"
   ]
  },
  {
   "cell_type": "markdown",
   "metadata": {},
   "source": [
    "#### Парсинг по конкуренту 4"
   ]
  },
  {
   "cell_type": "markdown",
   "metadata": {},
   "source": [
    "[Официальный сайт конкурента 4](https://sekretservis.ru/)\n",
    "\n",
    "Интересующие категории:\n",
    "* Медицинская мебель\n",
    "* Металлическая мебель (Стеллажи)\n",
    "* Металлическая мебель (Шкафы)\n",
    "* Производственная мебель (Верстаки, столы, тумбы)\n",
    "\n",
    "Данные для сбора:\n",
    "* Название\n",
    "* Подкатегория\n",
    "* Габаритные размеры\n",
    "* Описание\n",
    "* Наличие\n",
    "* Продажная цена"
   ]
  },
  {
   "cell_type": "markdown",
   "metadata": {},
   "source": [
    "#### [Медицинская мебель](https://sekretservis.ru/catalog/mebel-meditsinskaya/ \"Ссылка на категорию\")"
   ]
  },
  {
   "cell_type": "code",
   "execution_count": null,
   "metadata": {},
   "outputs": [],
   "source": [
    "# Категории медицинской мебели <title><link>\n",
    "url = 'https://sekretservis.ru/catalog/mebel-meditsinskaya/'\n",
    "req = requests.get(url).text\n",
    "soup = BeautifulSoup(req)\n",
    "\n",
    "medecinskaya_mebel = soup.find_all('div', class_='item')\n",
    "\n",
    "for el in medecinskaya_mebel_cat:\n",
    "  title = el.find('div', class_='category-title').text\n",
    "  link = el.find('a', class_='').get('href')\n",
    "  per_link = re.findall(r'[a-z]*-[a-z]*|[a-z]*-[a-z]*-[a-z]*', link)\n",
    "  print(title)\n",
    "  print(per_link)\n",
    "  print(link)"
   ]
  },
  {
   "cell_type": "code",
   "execution_count": null,
   "metadata": {},
   "outputs": [],
   "source": [
    "# подкатегории с подссылками в список\n",
    "podcat_list = []\n",
    "\n",
    "url = 'https://sekretservis.ru/catalog/mebel-meditsinskaya/'\n",
    "req = requests.get(url).text\n",
    "soup = BeautifulSoup(req)\n",
    "\n",
    "medecinskaya_mebel = soup.find_all('div', class_='item')\n",
    "\n",
    "for el in medecinskaya_mebel:\n",
    "  per_link = re.findall(r'[a-z]*-[a-z]*|[a-z]*-[a-z]*-[a-z]*', el.find('a', class_='').get('href'))\n",
    "  podcat_list.append(per_link[0])\n",
    "\n",
    "podcat_list"
   ]
  },
  {
   "cell_type": "code",
   "execution_count": null,
   "metadata": {},
   "outputs": [],
   "source": [
    "#добавляем подкатегорию столики процедурные\n",
    "url = 'https://sekretservis.ru/catalog/stoliki-protsedurnye/'\n",
    "req = requests.get(url).text\n",
    "soup = BeautifulSoup(req)\n",
    "\n",
    "medecinskaya_mebel_stoliki = soup.find_all('div', class_='item')\n",
    "\n",
    "for el in medecinskaya_mebel_stoliki:\n",
    "  per_link = re.findall(r'\\d*-[a-z]*', el.find('a', class_='').get('href'))\n",
    "  podcat_list.append(per_link[0])\n",
    "\n",
    "podcat_list"
   ]
  },
  {
   "cell_type": "code",
   "execution_count": null,
   "metadata": {},
   "outputs": [],
   "source": [
    "# Категория сейфы all pages \n",
    "\n",
    "def get_medecinskaya_mebel_sekret():\n",
    "  medecinskaya_mebel_sekret = pd.DataFrame()\n",
    "  \n",
    "  for podcat in podcat_list:\n",
    "    if podcat == 'krovati-meditsinskie' or podcat == 'stoliki-protsedurnye':\n",
    "      i = 1\n",
    "      while i <= 2: #т.к не более 2х страниц на подкатегорию\n",
    "        url = 'https://sekretservis.ru/catalog/' + f'{podcat}' + '/?PAGEN_1' + '=' + f'{str(i)}'\n",
    "        req = requests.get(url).text\n",
    "        time.sleep(0.3)\n",
    "        soup = BeautifulSoup(req)\n",
    "\n",
    "        medecinskaya_mebel = soup.find_all('div', class_='bx_catalog_item double goods-list-item')\n",
    "\n",
    "        for el in medecinskaya_mebel:\n",
    "          title = el.find('div', class_='bx_catalog_item_title').text\n",
    "          size = el.find_all('a', class_='spec')\n",
    "          price = el.find('div', class_='goods-price')\n",
    "          if (price is None): #добавляем условие, тк не везде есть цена и падает с ошибкой\n",
    "            price = 'По запросу'\n",
    "          else:\n",
    "            price = el.find('div', class_='goods-price').text\n",
    "          row = {'title': title, 'size': size, 'price': price}\n",
    "          medecinskaya_mebel_sekret = pd.concat([medecinskaya_mebel_sekret, pd.DataFrame([row])])\n",
    "\n",
    "        i += 1\n",
    "    else:\n",
    "      url = 'https://sekretservis.ru/catalog/'+f'{podcat}'+'/'\n",
    "      req = requests.get(url).text\n",
    "      time.sleep(0.3)\n",
    "      soup = BeautifulSoup(req)\n",
    "\n",
    "      medecinskaya_mebel = soup.find_all('div', class_='bx_catalog_item double goods-list-item')\n",
    "\n",
    "      for el in medecinskaya_mebel:\n",
    "        title = el.find('div', class_='bx_catalog_item_title').text\n",
    "        size = el.find_all('a', class_='spec')\n",
    "        price = el.find('div', class_='goods-price')\n",
    "        if (price is None): #добавляем условие, тк не везде есть цена и падает с ошибкой\n",
    "          price = 'По запросу'\n",
    "        else:\n",
    "          price = el.find('div', class_='goods-price').text\n",
    "        row = {'title': title, 'size': size, 'price': price}\n",
    "        medecinskaya_mebel_sekret = pd.concat([medecinskaya_mebel_sekret, pd.DataFrame([row])])\n",
    "\n",
    "  return medecinskaya_mebel_sekret.reset_index(drop=True)\n",
    "\n",
    "res_full = get_medecinskaya_mebel_sekret() #записываем сейфы в переменную"
   ]
  },
  {
   "cell_type": "code",
   "execution_count": null,
   "metadata": {},
   "outputs": [],
   "source": [
    "res_full.head()"
   ]
  },
  {
   "cell_type": "code",
   "execution_count": null,
   "metadata": {},
   "outputs": [],
   "source": [
    "res_full.info()"
   ]
  },
  {
   "cell_type": "code",
   "execution_count": null,
   "metadata": {},
   "outputs": [],
   "source": [
    "res_full.to_csv('medecinskaya_mebel_sekret-2024-09-22.csv', index=False) #записываем в файл"
   ]
  },
  {
   "cell_type": "markdown",
   "metadata": {},
   "source": [
    "#### [Металлическая мебель (Стеллажи)](https://sekretservis.ru/catalog/stellazhi/ \"Ссылка на категорию\")"
   ]
  },
  {
   "cell_type": "code",
   "execution_count": null,
   "metadata": {},
   "outputs": [],
   "source": [
    "# Категории стеллажей <title><link>\n",
    "url = 'https://sekretservis.ru/catalog/stellazhi/'\n",
    "req = requests.get(url).text\n",
    "soup = BeautifulSoup(req)\n",
    "\n",
    "stellazhi_cat = soup.find_all('div', class_='item')\n",
    "\n",
    "for el in stellazhi_cat:\n",
    "  title = el.find('div', class_='category-title').text\n",
    "  link = el.find('a', class_='').get('href')\n",
    "  per_link = re.findall(r'[a-z]*-[a-z]*|[a-z]*-[a-z]*-[a-z]*', link)\n",
    "  print(title)\n",
    "  print(per_link)\n",
    "  print(link)"
   ]
  },
  {
   "cell_type": "code",
   "execution_count": null,
   "metadata": {},
   "outputs": [],
   "source": [
    "# подкатегории с подссылками в список\n",
    "podcat_list = []\n",
    "\n",
    "url = 'https://sekretservis.ru/catalog/stellazhi/'\n",
    "req = requests.get(url).text\n",
    "soup = BeautifulSoup(req)\n",
    "\n",
    "stellazhi_cat = soup.find_all('div', class_='item')\n",
    "\n",
    "for el in stellazhi_cat:\n",
    "  link = el.find('a', class_='').get('href')\n",
    "  per_link = link.replace('/catalog/', '').replace('/', '')\n",
    "  podcat_list.append(per_link)\n",
    "\n",
    "podcat_list"
   ]
  },
  {
   "cell_type": "code",
   "execution_count": null,
   "metadata": {},
   "outputs": [],
   "source": [
    "#добавляем подкатегории складских стеллажей\n",
    "url = 'https://sekretservis.ru/catalog/skladskie-stellazhi/'\n",
    "req = requests.get(url).text\n",
    "soup = BeautifulSoup(req)\n",
    "\n",
    "skl_stellazhi_cat = soup.find_all('div', class_='item')\n",
    "\n",
    "for el in skl_stellazhi_cat:\n",
    "  link = el.find('a', class_='').get('href')\n",
    "  per_link = link.replace('/catalog/', '').replace('/', '')\n",
    "  podcat_list.append(per_link)\n",
    "\n",
    "podcat_list"
   ]
  },
  {
   "cell_type": "code",
   "execution_count": null,
   "metadata": {},
   "outputs": [],
   "source": [
    "# Категория стеллажи all pages\n",
    "\n",
    "def get_sekretservis_stellazhi():\n",
    "  sekretservis_stellazhi = pd.DataFrame()\n",
    "  \n",
    "  for podcat in podcat_list:\n",
    "    url = 'https://sekretservis.ru/catalog/'+f'{podcat}'+'/'\n",
    "    req = requests.get(url).text\n",
    "    time.sleep(0.3)\n",
    "    soup = BeautifulSoup(req)\n",
    "\n",
    "    stellazhi = soup.find_all('div', class_='bx_catalog_item double goods-list-item')\n",
    "\n",
    "    for el in stellazhi:\n",
    "      title = el.find('div', class_='bx_catalog_item_title').text\n",
    "      size = el.find_all('a', class_='spec')\n",
    "      price = el.find('div', class_='goods-price')\n",
    "      if (price is None): #добавляем условие, тк не везде есть цена и падает с ошибкой\n",
    "        price = 'По запросу'\n",
    "      else:\n",
    "        price = el.find('div', class_='goods-price').text\n",
    "      row = {'title': title, 'size': size, 'price': price}\n",
    "      sekretservis_stellazhi = pd.concat([sekretservis_stellazhi, pd.DataFrame([row])])\n",
    "\n",
    "  return sekretservis_stellazhi.reset_index(drop=True)\n",
    "\n",
    "res_full_stellazhi = get_sekretservis_stellazhi() #записываем сейфы в переменную"
   ]
  },
  {
   "cell_type": "code",
   "execution_count": null,
   "metadata": {},
   "outputs": [],
   "source": [
    "res_full_stellazhi.head()"
   ]
  },
  {
   "cell_type": "code",
   "execution_count": null,
   "metadata": {},
   "outputs": [],
   "source": [
    "res_full_stellazhi.info()"
   ]
  },
  {
   "cell_type": "code",
   "execution_count": null,
   "metadata": {},
   "outputs": [],
   "source": [
    "res_full_stellazhi.to_csv('sekretservis-stellazhi-2024-09-22.csv', index=False) #записываем в файл"
   ]
  },
  {
   "cell_type": "markdown",
   "metadata": {},
   "source": [
    "#### [Металлическая мебель (Шкафы)](https://ижевск.железная-мебель.рф/catalog/metallicheskie-shkafy \"Ссылка на категорию\")"
   ]
  },
  {
   "cell_type": "code",
   "execution_count": null,
   "metadata": {},
   "outputs": [],
   "source": [
    "# Категории мет шкафов <title><link>\n",
    "url = 'https://sekretservis.ru/catalog/shkafy-metallicheskie/'\n",
    "req = requests.get(url).text\n",
    "soup = BeautifulSoup(req)\n",
    "\n",
    "met_shkafy = soup.find_all('div', class_='item')\n",
    "\n",
    "for el in met_shkafy:\n",
    "  title = el.find('div', class_='category-title').text\n",
    "  link = el.find('a', class_='').get('href')\n",
    "  print(title)\n",
    "  print(link)"
   ]
  },
  {
   "cell_type": "code",
   "execution_count": null,
   "metadata": {},
   "outputs": [],
   "source": [
    "# подкатегории с подссылками в список\n",
    "podcat_list = []\n",
    "\n",
    "url = 'https://sekretservis.ru/catalog/shkafy-metallicheskie/'\n",
    "req = requests.get(url).text\n",
    "soup = BeautifulSoup(req)\n",
    "\n",
    "met_shkafy = soup.find_all('div', class_='item')\n",
    "\n",
    "for el in met_shkafy:\n",
    "  link = el.find('a', class_='').get('href')\n",
    "  per_link = link.replace('/catalog/', '').replace('/', '')\n",
    "  podcat_list.append(per_link)\n",
    "\n",
    "podcat_list"
   ]
  },
  {
   "cell_type": "code",
   "execution_count": null,
   "metadata": {},
   "outputs": [],
   "source": [
    "# Категория мет шкафы all pages\n",
    "\n",
    "def get_sekretservis_shkafy():\n",
    "  sekretservis_shkafy = pd.DataFrame()\n",
    "  \n",
    "  for podcat in podcat_list:\n",
    "    if podcat == 'shkafy-dlya-instrumentov':\n",
    "      i = 1\n",
    "      while i <= 2: #т.к 2 стр\n",
    "        url = 'https://sekretservis.ru/catalog/' + f'{podcat}' + '/?PAGEN_1' + '=' + f'{str(i)}'\n",
    "        req = requests.get(url).text\n",
    "        time.sleep(0.3)\n",
    "        soup = BeautifulSoup(req)\n",
    "\n",
    "        shkafy = soup.find_all('div', class_='bx_catalog_item double goods-list-item')\n",
    "\n",
    "        for el in shkafy:\n",
    "          title = el.find('div', class_='bx_catalog_item_title').text\n",
    "          size = el.find_all('a', class_='spec')\n",
    "          price = el.find('div', class_='goods-price')\n",
    "          if (price is None): #добавляем условие, тк не везде есть цена и падает с ошибкой\n",
    "            price = 'По запросу'\n",
    "          else:\n",
    "            price = el.find('div', class_='goods-price').text\n",
    "          row = {'title': title, 'size': size, 'price': price}\n",
    "          sekretservis_shkafy = pd.concat([sekretservis_shkafy, pd.DataFrame([row])])\n",
    "\n",
    "        i += 1\n",
    "    else:\n",
    "      url = 'https://sekretservis.ru/catalog/'+f'{podcat}'+'/'\n",
    "      req = requests.get(url).text\n",
    "      time.sleep(0.3)\n",
    "      soup = BeautifulSoup(req)\n",
    "\n",
    "      shkafy = soup.find_all('div', class_='bx_catalog_item double goods-list-item')\n",
    "\n",
    "      for el in shkafy:\n",
    "        title = el.find('div', class_='bx_catalog_item_title').text\n",
    "        size = el.find_all('a', class_='spec')\n",
    "        price = el.find('div', class_='goods-price')\n",
    "        if (price is None): #добавляем условие, тк не везде есть цена и падает с ошибкой\n",
    "          price = 'По запросу'\n",
    "        else:\n",
    "          price = el.find('div', class_='goods-price').text\n",
    "        row = {'title': title, 'size': size, 'price': price}\n",
    "        sekretservis_shkafy = pd.concat([sekretservis_shkafy, pd.DataFrame([row])])\n",
    "\n",
    "  return sekretservis_shkafy.reset_index(drop=True)\n",
    "\n",
    "res_full_shkafy = get_sekretservis_shkafy() #записываем сейфы в переменную"
   ]
  },
  {
   "cell_type": "code",
   "execution_count": null,
   "metadata": {},
   "outputs": [],
   "source": [
    "res_full_shkafy.info()"
   ]
  },
  {
   "cell_type": "code",
   "execution_count": null,
   "metadata": {},
   "outputs": [],
   "source": [
    "res_full_shkafy.head()"
   ]
  },
  {
   "cell_type": "code",
   "execution_count": null,
   "metadata": {},
   "outputs": [],
   "source": [
    "res_full_shkafy.to_csv('sekretservis-shkafy-2024-09-22.csv', index=False) #записываем в файл"
   ]
  },
  {
   "cell_type": "markdown",
   "metadata": {},
   "source": [
    "#### [Производственная мебель (Верстаки, столы, тумбы)](https://sekretservis.ru/catalog/mebel-proizvodstvennaya/ \"Ссылка на категорию\")"
   ]
  },
  {
   "cell_type": "code",
   "execution_count": null,
   "metadata": {},
   "outputs": [],
   "source": [
    "# Категории произв мебели <title><link>\n",
    "url = 'https://sekretservis.ru/catalog/mebel-proizvodstvennaya/'\n",
    "req = requests.get(url).text\n",
    "soup = BeautifulSoup(req)\n",
    "\n",
    "verstaki = soup.find_all('div', class_='item')\n",
    "\n",
    "for el in verstaki:\n",
    "  title = el.find('div', class_='category-title').text\n",
    "  link = el.find('a', class_='').get('href')\n",
    "  print(title)\n",
    "  print(link)"
   ]
  },
  {
   "cell_type": "code",
   "execution_count": null,
   "metadata": {},
   "outputs": [],
   "source": [
    "# подкатегории с подссылками в список\n",
    "podcat_list = []\n",
    "\n",
    "url = 'https://sekretservis.ru/catalog/mebel-proizvodstvennaya/'\n",
    "req = requests.get(url).text\n",
    "soup = BeautifulSoup(req)\n",
    "\n",
    "verstaki = soup.find_all('div', class_='item')\n",
    "\n",
    "for el in verstaki:\n",
    "  link = el.find('a', class_='').get('href')\n",
    "  per_link = link.replace('/catalog/', '').replace('/', '')\n",
    "  podcat_list.append(per_link)\n",
    "\n",
    "podcat_list"
   ]
  },
  {
   "cell_type": "code",
   "execution_count": null,
   "metadata": {},
   "outputs": [],
   "source": [
    "#добавляем подкатегории шкафов инструментальных\n",
    "url = 'https://sekretservis.ru/catalog/shkafy-instrumentalnye/'\n",
    "req = requests.get(url).text\n",
    "soup = BeautifulSoup(req)\n",
    "\n",
    "shk_instr_cat = soup.find_all('div', class_='item')\n",
    "\n",
    "for el in shk_instr_cat:\n",
    "  link = el.find('a', class_='').get('href')\n",
    "  per_link = link.replace('/catalog/', '').replace('/', '')\n",
    "  podcat_list.append(per_link)\n",
    "\n",
    "podcat_list"
   ]
  },
  {
   "cell_type": "code",
   "execution_count": null,
   "metadata": {},
   "outputs": [],
   "source": [
    "# Категория произв мебели all pages\n",
    "\n",
    "def get_sekretservis_verstaki():\n",
    "  sekretservis_verstaki = pd.DataFrame()\n",
    "  \n",
    "  for podcat in podcat_list:\n",
    "    if podcat == 'verstaki-slesarnye':\n",
    "      i = 1\n",
    "      while i <= 2: #т.к 2 стр\n",
    "        url = 'https://sekretservis.ru/catalog/' + f'{podcat}' + '/?PAGEN_1' + '=' + f'{str(i)}'\n",
    "        req = requests.get(url).text\n",
    "        time.sleep(0.3)\n",
    "        soup = BeautifulSoup(req)\n",
    "\n",
    "        verstaki = soup.find_all('div', class_='bx_catalog_item double goods-list-item')\n",
    "\n",
    "        for el in verstaki:\n",
    "          title = el.find('div', class_='bx_catalog_item_title').text\n",
    "          size = el.find_all('a', class_='spec')\n",
    "          price = el.find('div', class_='goods-price')\n",
    "          if (price is None): #добавляем условие, тк не везде есть цена и падает с ошибкой\n",
    "            price = 'По запросу'\n",
    "          else:\n",
    "            price = el.find('div', class_='goods-price').text\n",
    "          row = {'title': title, 'size': size, 'price': price}\n",
    "          sekretservis_verstaki = pd.concat([sekretservis_verstaki, pd.DataFrame([row])])\n",
    "\n",
    "        i += 1\n",
    "    else:\n",
    "      url = 'https://sekretservis.ru/catalog/'+f'{podcat}'+'/'\n",
    "      req = requests.get(url).text\n",
    "      time.sleep(0.3)\n",
    "      soup = BeautifulSoup(req)\n",
    "\n",
    "      verstaki = soup.find_all('div', class_='bx_catalog_item double goods-list-item')\n",
    "\n",
    "      for el in verstaki:\n",
    "        title = el.find('div', class_='bx_catalog_item_title').text\n",
    "        size = el.find_all('a', class_='spec')\n",
    "        price = el.find('div', class_='goods-price')\n",
    "        if (price is None): #добавляем условие, тк не везде есть цена и падает с ошибкой\n",
    "          price = 'По запросу'\n",
    "        else:\n",
    "          price = el.find('div', class_='goods-price').text\n",
    "        row = {'title': title, 'size': size, 'price': price}\n",
    "        sekretservis_verstaki = pd.concat([sekretservis_verstaki, pd.DataFrame([row])])\n",
    "\n",
    "  return sekretservis_verstaki.reset_index(drop=True)\n",
    "\n",
    "res_full_verstaki = get_sekretservis_verstaki() #записываем сейфы в переменную"
   ]
  },
  {
   "cell_type": "code",
   "execution_count": null,
   "metadata": {},
   "outputs": [],
   "source": [
    "res_full_verstaki.info()"
   ]
  },
  {
   "cell_type": "code",
   "execution_count": null,
   "metadata": {},
   "outputs": [],
   "source": [
    "res_full_verstaki.head()"
   ]
  },
  {
   "cell_type": "code",
   "execution_count": null,
   "metadata": {},
   "outputs": [],
   "source": [
    "res_full_verstaki.to_csv('sekretservis-verstaki-2024-09-22.csv', index=False) #записываем в файл"
   ]
  },
  {
   "cell_type": "markdown",
   "metadata": {},
   "source": [
    "#### Первичная обработка данных по конкуренту 4"
   ]
  },
  {
   "cell_type": "markdown",
   "metadata": {},
   "source": [
    "#### Медицинская мебель"
   ]
  },
  {
   "cell_type": "code",
   "execution_count": null,
   "metadata": {},
   "outputs": [],
   "source": [
    "df_medecinskaya_mebel_sekret = pd.read_csv('medecinskaya_mebel_sekret-2024-09-22.csv')\n",
    "df_medecinskaya_mebel_sekret.head()"
   ]
  },
  {
   "cell_type": "code",
   "execution_count": null,
   "metadata": {},
   "outputs": [],
   "source": [
    "#add category 'Медицинская мебель'\n",
    "df_medecinskaya_mebel_sekret['category'] = 'Медицинская мебель'"
   ]
  },
  {
   "cell_type": "code",
   "execution_count": null,
   "metadata": {},
   "outputs": [],
   "source": [
    "#add shop \n",
    "df_medecinskaya_mebel_sekret['shop'] = 'Секретсервис'"
   ]
  },
  {
   "cell_type": "code",
   "execution_count": null,
   "metadata": {},
   "outputs": [],
   "source": [
    "df_medecinskaya_mebel_sekret['price'][3]"
   ]
  },
  {
   "cell_type": "code",
   "execution_count": null,
   "metadata": {},
   "outputs": [],
   "source": [
    "#убираем пробелы и лишние символы из цены, а потом переводим в float\n",
    "\n",
    "def price_to_float(param):\n",
    "    if(pd.isna(param)): #т.к некоторые значения вовсе отсутствуют и без этого условия вылазит ошибка\n",
    "        param = param\n",
    "    else:\n",
    "        param = param.replace(' руб.', '').replace(' ', '').replace('\\n', '')\n",
    "        if param != 'Подзаказ':\n",
    "            param = float(param)\n",
    "        else:\n",
    "            param = np.nan\n",
    "    return param"
   ]
  },
  {
   "cell_type": "code",
   "execution_count": null,
   "metadata": {},
   "outputs": [],
   "source": [
    "df_medecinskaya_mebel_sekret['price'] = df_medecinskaya_mebel_sekret['price'].apply(price_to_float)\n",
    "df_medecinskaya_mebel_sekret.head(15)"
   ]
  },
  {
   "cell_type": "code",
   "execution_count": null,
   "metadata": {},
   "outputs": [],
   "source": [
    "df_medecinskaya_mebel_sekret['title'][23]"
   ]
  },
  {
   "cell_type": "code",
   "execution_count": null,
   "metadata": {},
   "outputs": [],
   "source": [
    "df_medecinskaya_mebel_sekret['title'][10]"
   ]
  },
  {
   "cell_type": "code",
   "execution_count": null,
   "metadata": {},
   "outputs": [],
   "source": [
    "#Корректируем title \n",
    "def title_new(param):\n",
    "    param = param.replace('\\n', '')\n",
    "    return param"
   ]
  },
  {
   "cell_type": "code",
   "execution_count": null,
   "metadata": {},
   "outputs": [],
   "source": [
    "df_medecinskaya_mebel_sekret['title'] = df_medecinskaya_mebel_sekret['title'].apply(title_new)\n",
    "df_medecinskaya_mebel_sekret.head()"
   ]
  },
  {
   "cell_type": "code",
   "execution_count": null,
   "metadata": {},
   "outputs": [],
   "source": [
    "df_medecinskaya_mebel_sekret['size'][0]"
   ]
  },
  {
   "cell_type": "code",
   "execution_count": null,
   "metadata": {},
   "outputs": [],
   "source": [
    "#смотрим тип данных колонки size\n",
    "type(df_medecinskaya_mebel_sekret['size'][0])"
   ]
  },
  {
   "cell_type": "code",
   "execution_count": null,
   "metadata": {},
   "outputs": [],
   "source": [
    "#height\n",
    "def height(param):\n",
    "    h_w_d = param.replace('[<a class=\"spec\">Вес(кг): <span>','').replace('</span></a>, <a class=\"spec\">', '').replace(\n",
    "'<span>', '').replace('</span></a>]', '')\n",
    "    h_w_d = re.sub(r'[0-9]*Габариты: ', '', h_w_d)\n",
    "    h_w_d = re.split('х|x', h_w_d) # русская \"х\" или икс\n",
    "    if len(h_w_d) < 2:\n",
    "        height = np.nan\n",
    "    else:\n",
    "        height = h_w_d[0]\n",
    "    return height"
   ]
  },
  {
   "cell_type": "code",
   "execution_count": null,
   "metadata": {},
   "outputs": [],
   "source": [
    "df_medecinskaya_mebel_sekret['height'] = df_medecinskaya_mebel_sekret['size'].apply(height)\n",
    "df_medecinskaya_mebel_sekret.head()"
   ]
  },
  {
   "cell_type": "code",
   "execution_count": null,
   "metadata": {},
   "outputs": [],
   "source": [
    "#width\n",
    "def width(param):\n",
    "    h_w_d = param.replace('[<a class=\"spec\">Вес(кг): <span>','').replace('</span></a>, <a class=\"spec\">', '').replace(\n",
    "'<span>', '').replace('</span></a>]', '')\n",
    "    h_w_d = re.sub(r'[0-9]*Габариты: ', '', h_w_d)\n",
    "    h_w_d = re.split('х|x', h_w_d) # русская \"х\" или икс\n",
    "    if len(h_w_d) < 2:\n",
    "        width = np.nan\n",
    "    else:\n",
    "        width = h_w_d[1]\n",
    "    return width"
   ]
  },
  {
   "cell_type": "code",
   "execution_count": null,
   "metadata": {},
   "outputs": [],
   "source": [
    "df_medecinskaya_mebel_sekret['width'] = df_medecinskaya_mebel_sekret['size'].apply(width)\n",
    "df_medecinskaya_mebel_sekret.head()"
   ]
  },
  {
   "cell_type": "code",
   "execution_count": null,
   "metadata": {},
   "outputs": [],
   "source": [
    "#depth\n",
    "def depth(param):\n",
    "    h_w_d = param.replace('[<a class=\"spec\">Вес(кг): <span>','').replace('</span></a>, <a class=\"spec\">', '').replace(\n",
    "'<span>', '').replace('</span></a>]', '')\n",
    "    h_w_d = re.sub(r'[0-9]*Габариты: ', '', h_w_d)\n",
    "    h_w_d = re.split('х|x', h_w_d) # русская \"х\" или икс\n",
    "    if len(h_w_d) < 2:\n",
    "        depth = np.nan\n",
    "    else:\n",
    "        depth = h_w_d[2]\n",
    "    return depth"
   ]
  },
  {
   "cell_type": "code",
   "execution_count": null,
   "metadata": {},
   "outputs": [],
   "source": [
    "df_medecinskaya_mebel_sekret['depth'] = df_medecinskaya_mebel_sekret['size'].apply(depth)\n",
    "df_medecinskaya_mebel_sekret[.head()"
   ]
  },
  {
   "cell_type": "code",
   "execution_count": null,
   "metadata": {},
   "outputs": [],
   "source": [
    "#удаляем ненужные колонки\n",
    "df_medecinskaya_mebel_sekret = df_medecinskaya_mebel_sekret.drop(['size'], axis=1)\n",
    "df_medecinskaya_mebel_sekret"
   ]
  },
  {
   "cell_type": "code",
   "execution_count": null,
   "metadata": {},
   "outputs": [],
   "source": [
    "df_medecinskaya_mebel_sekret['height'] = df_medecinskaya_mebel_sekret['height'].replace('1 1320', np.nan)"
   ]
  },
  {
   "cell_type": "code",
   "execution_count": null,
   "metadata": {},
   "outputs": [],
   "source": [
    "#перевести height, width, depth to float\n",
    "df_medecinskaya_mebel_sekret['height'] = df_medecinskaya_mebel_sekret['height'].astype(float)\n",
    "df_medecinskaya_mebel_sekret['width'] = df_medecinskaya_mebel_sekret['width'].astype(float)\n",
    "df_medecinskaya_mebel_sekret['depth'] = df_medecinskaya_mebel_sekret['depth'].astype(float)"
   ]
  },
  {
   "cell_type": "code",
   "execution_count": null,
   "metadata": {},
   "outputs": [],
   "source": [
    "#проверяем\n",
    "df_medecinskaya_mebel_sekret.tail(100)"
   ]
  },
  {
   "cell_type": "code",
   "execution_count": null,
   "metadata": {},
   "outputs": [],
   "source": [
    "df_medecinskaya_mebel_sekret.info()"
   ]
  },
  {
   "cell_type": "markdown",
   "metadata": {},
   "source": [
    "#### Металлическая мебель (Стеллажи)"
   ]
  },
  {
   "cell_type": "code",
   "execution_count": null,
   "metadata": {},
   "outputs": [],
   "source": [
    "df_sekretservis_st = pd.read_csv('sekretservis-stellazhi-2024-09-22.csv')\n",
    "df_sekretservis_st.head()"
   ]
  },
  {
   "cell_type": "code",
   "execution_count": null,
   "metadata": {},
   "outputs": [],
   "source": [
    "#add category 'Металлическая мебель (Стеллажи)' \n",
    "df_sekretservis_st['category'] = 'Металлическая мебель (Стеллажи)'"
   ]
  },
  {
   "cell_type": "code",
   "execution_count": null,
   "metadata": {},
   "outputs": [],
   "source": [
    "#add shop \n",
    "df_sekretservis_st['shop'] = 'Секретсервис'"
   ]
  },
  {
   "cell_type": "code",
   "execution_count": null,
   "metadata": {},
   "outputs": [],
   "source": [
    "#переводим price to float\n",
    "df_sekretservis_st['price'] = df_sekretservis_st['price'].apply(price_to_float)"
   ]
  },
  {
   "cell_type": "code",
   "execution_count": null,
   "metadata": {},
   "outputs": [],
   "source": [
    "#correct title\n",
    "df_sekretservis_st['title'] = df_sekretservis_st['title'].apply(title_new)"
   ]
  },
  {
   "cell_type": "code",
   "execution_count": null,
   "metadata": {},
   "outputs": [],
   "source": [
    "#add height\n",
    "df_sekretservis_st['height'] = df_sekretservis_st['size'].apply(height)"
   ]
  },
  {
   "cell_type": "code",
   "execution_count": null,
   "metadata": {},
   "outputs": [],
   "source": [
    "#add width\n",
    "df_sekretservis_st['width'] = df_sekretservis_st['size'].apply(width)"
   ]
  },
  {
   "cell_type": "code",
   "execution_count": null,
   "metadata": {},
   "outputs": [],
   "source": [
    "#add depth\n",
    "df_sekretservis_st['depth'] = df_sekretservis_st['size'].apply(depth)"
   ]
  },
  {
   "cell_type": "code",
   "execution_count": null,
   "metadata": {},
   "outputs": [],
   "source": [
    "#удаляем ненужные колонки\n",
    "df_sekretservis_st = df_sekretservis_st.drop(['size'], axis=1)"
   ]
  },
  {
   "cell_type": "code",
   "execution_count": null,
   "metadata": {},
   "outputs": [],
   "source": [
    "df_sekretservis_st['height'] = df_sekretservis_st['height'].replace('', np.nan)\n",
    "df_sekretservis_st['depth'] = df_sekretservis_st['depth'].replace('', np.nan)"
   ]
  },
  {
   "cell_type": "code",
   "execution_count": null,
   "metadata": {},
   "outputs": [],
   "source": [
    "#перевести height, width, depth to float\n",
    "df_sekretservis_st['height'] = df_sekretservis_st['height'].astype(float)\n",
    "df_sekretservis_st['width'] = df_sekretservis_st['width'].astype(float)\n",
    "df_sekretservis_st['depth'] = df_sekretservis_st['depth'].astype(float)"
   ]
  },
  {
   "cell_type": "code",
   "execution_count": null,
   "metadata": {},
   "outputs": [],
   "source": [
    "#проверяем\n",
    "df_sekretservis_st.head(100)"
   ]
  },
  {
   "cell_type": "code",
   "execution_count": null,
   "metadata": {},
   "outputs": [],
   "source": [
    "df_sekretservis_st.info()"
   ]
  },
  {
   "cell_type": "markdown",
   "metadata": {},
   "source": [
    "#### Металлическая мебель (Шкафы)"
   ]
  },
  {
   "cell_type": "code",
   "execution_count": null,
   "metadata": {},
   "outputs": [],
   "source": [
    "df_sekretservis_met_meb = pd.read_csv('sekretservis-shkafy-2024-09-22.csv')\n",
    "df_sekretservis_met_meb.head()"
   ]
  },
  {
   "cell_type": "code",
   "execution_count": null,
   "metadata": {},
   "outputs": [],
   "source": [
    "#add category 'Металлическая мебель (Шкафы)' \n",
    "df_sekretservis_met_meb['category'] = 'Металлическая мебель (Шкафы)'"
   ]
  },
  {
   "cell_type": "code",
   "execution_count": null,
   "metadata": {},
   "outputs": [],
   "source": [
    "#add shop \n",
    "df_sekretservis_met_meb['shop'] = 'Секретсервис'"
   ]
  },
  {
   "cell_type": "code",
   "execution_count": null,
   "metadata": {},
   "outputs": [],
   "source": [
    "df_sekretservis_met_meb.info()"
   ]
  },
  {
   "cell_type": "code",
   "execution_count": null,
   "metadata": {},
   "outputs": [],
   "source": [
    "#переводим price to float\n",
    "df_sekretservis_met_meb['price'] = df_sekretservis_met_meb['price'].apply(price_to_float)"
   ]
  },
  {
   "cell_type": "code",
   "execution_count": null,
   "metadata": {},
   "outputs": [],
   "source": [
    "#correct title\n",
    "df_sekretservis_met_meb['title'] = df_sekretservis_met_meb['title'].apply(title_new)"
   ]
  },
  {
   "cell_type": "code",
   "execution_count": null,
   "metadata": {},
   "outputs": [],
   "source": [
    "#add height\n",
    "df_sekretservis_met_meb['height'] = df_sekretservis_met_meb['size'].apply(height)"
   ]
  },
  {
   "cell_type": "code",
   "execution_count": null,
   "metadata": {},
   "outputs": [],
   "source": [
    "#add width\n",
    "df_sekretservis_met_meb['width'] = df_sekretservis_met_meb['size'].apply(width)"
   ]
  },
  {
   "cell_type": "code",
   "execution_count": null,
   "metadata": {},
   "outputs": [],
   "source": [
    "#add depth\n",
    "df_sekretservis_met_meb['depth'] = df_sekretservis_met_meb['size'].apply(depth)"
   ]
  },
  {
   "cell_type": "code",
   "execution_count": null,
   "metadata": {},
   "outputs": [],
   "source": [
    "#удаляем ненужные колонки\n",
    "df_sekretservis_met_meb = df_sekretservis_met_meb.drop(['size'], axis=1)"
   ]
  },
  {
   "cell_type": "code",
   "execution_count": null,
   "metadata": {},
   "outputs": [],
   "source": [
    "#перевести height, width, depth to float\n",
    "df_sekretservis_met_meb['height'] = df_sekretservis_met_meb['height'].astype(float)\n",
    "df_sekretservis_met_meb['width'] = df_sekretservis_met_meb['width'].astype(float)\n",
    "df_sekretservis_met_meb['depth'] = df_sekretservis_met_meb['depth'].astype(float)"
   ]
  },
  {
   "cell_type": "code",
   "execution_count": null,
   "metadata": {},
   "outputs": [],
   "source": [
    "#проверяем\n",
    "df_sekretservis_met_meb.head(100)"
   ]
  },
  {
   "cell_type": "code",
   "execution_count": null,
   "metadata": {},
   "outputs": [],
   "source": [
    "df_sekretservis_met_meb.info()"
   ]
  },
  {
   "cell_type": "markdown",
   "metadata": {},
   "source": [
    "#### Производственная мебель (Верстаки, столы, тумбы)"
   ]
  },
  {
   "cell_type": "code",
   "execution_count": null,
   "metadata": {},
   "outputs": [],
   "source": [
    "df_sekretservis_verstaki = pd.read_csv('sekretservis-verstaki-2024-09-22.csv')\n",
    "df_sekretservis_verstaki.head()"
   ]
  },
  {
   "cell_type": "code",
   "execution_count": null,
   "metadata": {},
   "outputs": [],
   "source": [
    "#add category 'Производственная мебель' \n",
    "df_sekretservis_verstaki['category'] = 'Производственная мебель'"
   ]
  },
  {
   "cell_type": "code",
   "execution_count": null,
   "metadata": {},
   "outputs": [],
   "source": [
    "#add shop \n",
    "df_sekretservis_verstaki['shop'] = 'Секретсервис'"
   ]
  },
  {
   "cell_type": "code",
   "execution_count": null,
   "metadata": {},
   "outputs": [],
   "source": [
    "#переводим price to float\n",
    "df_sekretservis_verstaki['price'] = df_sekretservis_verstaki['price'].apply(price_to_float)"
   ]
  },
  {
   "cell_type": "code",
   "execution_count": null,
   "metadata": {},
   "outputs": [],
   "source": [
    "#correct title\n",
    "df_sekretservis_verstaki['title'] = df_sekretservis_verstaki['title'].apply(title_new)"
   ]
  },
  {
   "cell_type": "code",
   "execution_count": null,
   "metadata": {},
   "outputs": [],
   "source": [
    "#add height\n",
    "df_sekretservis_verstaki['height'] = df_sekretservis_verstaki['size'].apply(height)"
   ]
  },
  {
   "cell_type": "code",
   "execution_count": null,
   "metadata": {},
   "outputs": [],
   "source": [
    "#add width\n",
    "df_sekretservis_verstaki['width'] = df_sekretservis_verstaki['size'].apply(width)"
   ]
  },
  {
   "cell_type": "code",
   "execution_count": null,
   "metadata": {},
   "outputs": [],
   "source": [
    "#add depth\n",
    "df_sekretservis_verstaki['depth'] = df_sekretservis_verstaki['size'].apply(depth)"
   ]
  },
  {
   "cell_type": "code",
   "execution_count": null,
   "metadata": {},
   "outputs": [],
   "source": [
    "#удаляем ненужные колонки\n",
    "df_sekretservis_verstaki = df_sekretservis_verstaki.drop(['size'], axis=1)"
   ]
  },
  {
   "cell_type": "code",
   "execution_count": null,
   "metadata": {},
   "outputs": [],
   "source": [
    "df_sekretservis_verstaki['height'] = df_sekretservis_verstaki['height'].replace('400-530', np.nan).replace(\n",
    "    '910-1190', np.nan).replace('', np.nan)\n",
    "df_sekretservis_verstaki['width'] = df_sekretservis_verstaki['width'].replace('', np.nan)\n",
    "df_sekretservis_verstaki['depth'] = df_sekretservis_verstaki['depth'].replace('', np.nan)"
   ]
  },
  {
   "cell_type": "code",
   "execution_count": null,
   "metadata": {},
   "outputs": [],
   "source": [
    "#перевести height, width, depth to float\n",
    "df_sekretservis_verstaki['height'] = df_sekretservis_verstaki['height'].astype(float)\n",
    "df_sekretservis_verstaki['width'] = df_sekretservis_verstaki['width'].astype(float)\n",
    "df_sekretservis_verstaki['depth'] = df_sekretservis_verstaki['depth'].astype(float)"
   ]
  },
  {
   "cell_type": "code",
   "execution_count": null,
   "metadata": {},
   "outputs": [],
   "source": [
    "#проверяем\n",
    "df_sekretservis_verstaki.head(100)"
   ]
  },
  {
   "cell_type": "code",
   "execution_count": null,
   "metadata": {},
   "outputs": [],
   "source": [
    "df_sekretservis_verstaki.info()"
   ]
  },
  {
   "cell_type": "markdown",
   "metadata": {},
   "source": [
    "#### Итоговый DF по конкуренту 4"
   ]
  },
  {
   "cell_type": "code",
   "execution_count": null,
   "metadata": {},
   "outputs": [],
   "source": [
    "sekretservis_df = pd.DataFrame() #создаём пустой df"
   ]
  },
  {
   "cell_type": "code",
   "execution_count": null,
   "metadata": {},
   "outputs": [],
   "source": [
    "sekretservis_df = pd.concat([sekretservis_df, df_medecinskaya_mebel_sekret]) #добавляем Медицинскую мебель"
   ]
  },
  {
   "cell_type": "code",
   "execution_count": null,
   "metadata": {},
   "outputs": [],
   "source": [
    "sekretservis_df = pd.concat([sekretservis_df, df_sekretservis_st]) #добавляем Металлическая мебель (Стеллажи)"
   ]
  },
  {
   "cell_type": "code",
   "execution_count": null,
   "metadata": {},
   "outputs": [],
   "source": [
    "sekretservis_df = pd.concat([sekretservis_df, df_sekretservis_met_meb]) #добавляем Металлическая мебель (Шкафы)"
   ]
  },
  {
   "cell_type": "code",
   "execution_count": null,
   "metadata": {},
   "outputs": [],
   "source": [
    "sekretservis_df = pd.concat([sekretservis_df, df_sekretservis_verstaki]) #добавляем Производственная мебель (Верстаки, столы, тумбы)"
   ]
  },
  {
   "cell_type": "code",
   "execution_count": null,
   "metadata": {},
   "outputs": [],
   "source": [
    "sekretservis_df.info()"
   ]
  },
  {
   "cell_type": "code",
   "execution_count": null,
   "metadata": {},
   "outputs": [],
   "source": [
    "sekretservis_df.head()"
   ]
  },
  {
   "cell_type": "code",
   "execution_count": null,
   "metadata": {},
   "outputs": [],
   "source": [
    "sekretservis_df.to_csv('sekretservis.csv', index=False) #записываем в файл"
   ]
  },
  {
   "cell_type": "markdown",
   "metadata": {},
   "source": [
    "#### Парсинг по конкуренту 5"
   ]
  },
  {
   "cell_type": "markdown",
   "metadata": {},
   "source": [
    "[Официальный сайт конкурента 5](https://izhevsk.safeburg.ru/)\n",
    "\n",
    "Интересующие категории:\n",
    "* Медицинская мебель\n",
    "* Металлическая мебель (Стеллажи)\n",
    "* Металлическая мебель (Шкафы)\n",
    "* Производственная мебель (Верстаки, столы, тумбы)\n",
    "\n",
    "Данные для сбора:\n",
    "* Название\n",
    "* Подкатегория\n",
    "* Габаритные размеры\n",
    "* Описание\n",
    "* Наличие\n",
    "* Продажная цена"
   ]
  },
  {
   "cell_type": "markdown",
   "metadata": {},
   "source": [
    "#### [Медицинская мебель](https://izhevsk.safeburg.ru/catalog/metallicheskaya-mebel/medicynskaya/ \"Ссылка на категорию\")"
   ]
  },
  {
   "cell_type": "code",
   "execution_count": null,
   "metadata": {},
   "outputs": [],
   "source": [
    "# Категория сейфы all pages\n",
    "def get_medecinskaya_mebel_safeburg():\n",
    "  medecinskaya_mebel_safeburg = pd.DataFrame()\n",
    "  i = 1\n",
    "  while i <= 153:\n",
    "    url = 'https://izhevsk.safeburg.ru/catalog/metallicheskaya-mebel/medicynskaya/?display=list&PAGEN_1'+'='+f'{str(i)}'\n",
    "    req = requests.get(url).text\n",
    "    time.sleep(0.3)\n",
    "    soup = BeautifulSoup(req)\n",
    "\n",
    "    medecinskaya_mebel = soup.find_all('div', class_='list_item_wrapp item_wrap item')\n",
    "\n",
    "    for el in medecinskaya_mebel:\n",
    "      title = el.find('a', 'dark_link').text\n",
    "      description = el.find('div', class_='main-text').text\n",
    "      size = re.findall(r'\\d*х\\d*х\\d*|\\d*x\\d*x\\d*', description)\n",
    "      price = el.find('span', class_='price_value')\n",
    "      if (price is None): #добавляем условие, тк не везде есть цена и падает с ошибкой\n",
    "        price = 'По запросу'\n",
    "      else:\n",
    "        price = el.find('span', class_='price_value').text\n",
    "      row = {'title': title, 'description': description, 'size': size, 'price': price}\n",
    "      medecinskaya_mebel_safeburg = pd.concat([medecinskaya_mebel_safeburg, pd.DataFrame([row])])\n",
    "    \n",
    "    i +=1\n",
    "  return medecinskaya_mebel_safeburg.reset_index(drop=True)\n",
    "\n",
    "res_full = get_medecinskaya_mebel_safeburg() #записываем сейфы в переменную"
   ]
  },
  {
   "cell_type": "code",
   "execution_count": null,
   "metadata": {},
   "outputs": [],
   "source": [
    "res_full.info()"
   ]
  },
  {
   "cell_type": "code",
   "execution_count": null,
   "metadata": {},
   "outputs": [],
   "source": [
    "res_full.to_csv('medecinskaya_mebel_safeburg-2024-09-22.csv', index=False) #записываем в файл"
   ]
  },
  {
   "cell_type": "markdown",
   "metadata": {},
   "source": [
    "#### [Металлическая мебель (Стеллажи)](https://izhevsk.safeburg.ru/catalog/stellazhi-metallicheskie/ \"Ссылка на категорию\")"
   ]
  },
  {
   "cell_type": "code",
   "execution_count": null,
   "metadata": {},
   "outputs": [],
   "source": [
    "# Категория стеллажи all pages\n",
    "def get_safeburg_stellazhi():\n",
    "  safeburg_stellazhi = pd.DataFrame()\n",
    "  i = 1\n",
    "  while i <= 127:\n",
    "    url = 'https://izhevsk.safeburg.ru/catalog/stellazhi-metallicheskie/?display=list&PAGEN_1'+'='+f'{str(i)}'\n",
    "    req = requests.get(url).text\n",
    "    time.sleep(0.3)\n",
    "    soup = BeautifulSoup(req)\n",
    "\n",
    "    stellazhi = soup.find_all('div', class_='list_item_wrapp item_wrap item')\n",
    "\n",
    "    for el in stellazhi:\n",
    "      title = el.find('a', 'dark_link').text\n",
    "      description = el.find('div', class_='main-text').text\n",
    "      size = re.findall(r'\\d*х\\d*х\\d*|\\d*x\\d*x\\d*', description)\n",
    "      price = el.find('span', class_='price_value')\n",
    "      if (price is None): #добавляем условие, тк не везде есть цена и падает с ошибкой\n",
    "        price = 'По запросу'\n",
    "      else:\n",
    "        price = el.find('span', class_='price_value').text\n",
    "      row = {'title': title, 'description': description, 'size': size, 'price': price}\n",
    "      safeburg_stellazhi = pd.concat([safeburg_stellazhi, pd.DataFrame([row])])\n",
    "    \n",
    "    i +=1\n",
    "  return safeburg_stellazhi.reset_index(drop=True)\n",
    "\n",
    "res_full_stell = get_safeburg_stellazhi()"
   ]
  },
  {
   "cell_type": "code",
   "execution_count": null,
   "metadata": {},
   "outputs": [],
   "source": [
    "res_full_stell.to_csv('Safeburg-stellazhi-2024-09-22.csv', index=False) #записываем в файл"
   ]
  },
  {
   "cell_type": "code",
   "execution_count": null,
   "metadata": {},
   "outputs": [],
   "source": [
    "res_full_stell.info()"
   ]
  },
  {
   "cell_type": "markdown",
   "metadata": {},
   "source": [
    "#### [Металлическая мебель (Шкафы)](https://izhevsk.safeburg.ru/catalog/metallicheskie-shkafy/ \"Ссылка на категорию\")"
   ]
  },
  {
   "cell_type": "code",
   "execution_count": null,
   "metadata": {},
   "outputs": [],
   "source": [
    "# Категория мет шкафы all pages\n",
    "def get_safeburg_shkafy():\n",
    "  safeburg_shkafy = pd.DataFrame()\n",
    "  i = 1\n",
    "  while i <= 82:\n",
    "    url = 'https://izhevsk.safeburg.ru/catalog/metallicheskie-shkafy/?display=list&PAGEN_1'+'='+f'{str(i)}'\n",
    "    req = requests.get(url).text\n",
    "    time.sleep(0.3)\n",
    "    soup = BeautifulSoup(req)\n",
    "\n",
    "    shkafy = soup.find_all('div', class_='list_item_wrapp item_wrap item')\n",
    "\n",
    "    for el in shkafy:\n",
    "      title = el.find('a', 'dark_link').text\n",
    "      description = el.find('div', class_='main-text').text\n",
    "      size = re.findall(r'\\d*х\\d*х\\d*|\\d*x\\d*x\\d*', description)\n",
    "      price = el.find('span', class_='price_value')\n",
    "      if (price is None): #добавляем условие, тк не везде есть цена и падает с ошибкой\n",
    "        price = 'По запросу'\n",
    "      else:\n",
    "        price = el.find('span', class_='price_value').text\n",
    "      row = {'title': title, 'description': description, 'size': size, 'price': price}\n",
    "      safeburg_shkafy = pd.concat([safeburg_shkafy, pd.DataFrame([row])])\n",
    "    \n",
    "    i +=1\n",
    "  return safeburg_shkafy.reset_index(drop=True)\n",
    "\n",
    "res_full_shkafy = get_safeburg_shkafy()"
   ]
  },
  {
   "cell_type": "code",
   "execution_count": null,
   "metadata": {},
   "outputs": [],
   "source": [
    "res_full_shkafy.to_csv('Safeburg-shkafy-2024-09-22.csv', index=False) #записываем в файл"
   ]
  },
  {
   "cell_type": "code",
   "execution_count": null,
   "metadata": {},
   "outputs": [],
   "source": [
    "res_full_shkafy.info()"
   ]
  },
  {
   "cell_type": "markdown",
   "metadata": {},
   "source": [
    "#### [Производственная мебель (Верстаки, столы, тумбы)](https://izhevsk.safeburg.ru/catalog/metallicheskaya-mebel/ \"Ссылка на категорию\")"
   ]
  },
  {
   "cell_type": "code",
   "execution_count": null,
   "metadata": {},
   "outputs": [],
   "source": [
    "# Категория мет мебель all pages\n",
    "def get_safeburg_mebel():\n",
    "  safeburg_mebel = pd.DataFrame()\n",
    "  i = 1\n",
    "  while i <= 112:\n",
    "    url = 'https://izhevsk.safeburg.ru/catalog/metallicheskaya-mebel/?display=list&PAGEN_1'+'='+f'{str(i)}'\n",
    "    req = requests.get(url).text\n",
    "    time.sleep(0.3)\n",
    "    soup = BeautifulSoup(req)\n",
    "\n",
    "    mebel = soup.find_all('div', class_='list_item_wrapp item_wrap item')\n",
    "\n",
    "    for el in mebel:\n",
    "      title = el.find('a', 'dark_link').text\n",
    "      description = el.find('div', class_='main-text').text\n",
    "      size = re.findall(r'\\d*х\\d*х\\d*|\\d*x\\d*x\\d*', description)\n",
    "      price = el.find('span', class_='price_value')\n",
    "      if (price is None): #добавляем условие, тк не везде есть цена и падает с ошибкой\n",
    "        price = 'По запросу'\n",
    "      else:\n",
    "        price = el.find('span', class_='price_value').text\n",
    "      row = {'title': title, 'description': description, 'size': size, 'price': price}\n",
    "      safeburg_mebel = pd.concat([safeburg_mebel, pd.DataFrame([row])])\n",
    "    \n",
    "    i +=1\n",
    "  return safeburg_mebel.reset_index(drop=True)\n",
    "\n",
    "res_full_mebel = get_safeburg_mebel()"
   ]
  },
  {
   "cell_type": "code",
   "execution_count": null,
   "metadata": {},
   "outputs": [],
   "source": [
    "res_full_mebel.to_csv('Safeburg-mebel-2024-09-22.csv', index=False) #записываем в файл"
   ]
  },
  {
   "cell_type": "code",
   "execution_count": null,
   "metadata": {},
   "outputs": [],
   "source": [
    "res_full_mebel.info()"
   ]
  },
  {
   "cell_type": "markdown",
   "metadata": {},
   "source": [
    "#### Первичная обработка данных по конкуренту 5"
   ]
  },
  {
   "cell_type": "markdown",
   "metadata": {},
   "source": [
    "#### Медицинская мебель"
   ]
  },
  {
   "cell_type": "code",
   "execution_count": null,
   "metadata": {},
   "outputs": [],
   "source": [
    "df_medecinskaya_mebel_safeburg = pd.read_csv('medecinskaya_mebel_safeburg-2024-09-22.csv')\n",
    "df_medecinskaya_mebel_safeburg.head()"
   ]
  },
  {
   "cell_type": "code",
   "execution_count": null,
   "metadata": {},
   "outputs": [],
   "source": [
    "df_medecinskaya_mebel_safeburg.info()"
   ]
  },
  {
   "cell_type": "code",
   "execution_count": null,
   "metadata": {},
   "outputs": [],
   "source": [
    "#add category 'Медицинская мебель'\n",
    "df_medecinskaya_mebel_safeburg['category'] = 'Медицинская мебель'"
   ]
  },
  {
   "cell_type": "code",
   "execution_count": null,
   "metadata": {},
   "outputs": [],
   "source": [
    "#add shop 'Safeburg'\n",
    "df_medecinskaya_mebel_safeburg['shop'] = 'Сейфбург'"
   ]
  },
  {
   "cell_type": "code",
   "execution_count": null,
   "metadata": {},
   "outputs": [],
   "source": [
    "#убираем пробелы из цены, а потом переводим в float (если не записано 'По запросу') - иначе NaN\n",
    "def price_to_float(param):\n",
    "    if param != 'По запросу':\n",
    "        param = float(param.replace(' ', ''))\n",
    "    else:\n",
    "        param = np.nan\n",
    "    return param"
   ]
  },
  {
   "cell_type": "code",
   "execution_count": null,
   "metadata": {},
   "outputs": [],
   "source": [
    "df_medecinskaya_mebel_safeburg['price'] = df_medecinskaya_mebel_safeburg['price'].apply(price_to_float)\n",
    "df_medecinskaya_mebel_safeburg.head()"
   ]
  },
  {
   "cell_type": "code",
   "execution_count": null,
   "metadata": {},
   "outputs": [],
   "source": [
    "#height\n",
    "def height(param):\n",
    "    if param != '[]':\n",
    "        param = param.replace('[', '').replace(']', '').replace('\\'', '') #убираем символы []' в исходной строке\n",
    "        h_w_d = re.split('х|x', param) # русская \"х\" или икс\n",
    "        height = h_w_d[0]\n",
    "    else:\n",
    "        height = np.nan\n",
    "    return height"
   ]
  },
  {
   "cell_type": "code",
   "execution_count": null,
   "metadata": {},
   "outputs": [],
   "source": [
    "df_medecinskaya_mebel_safeburg['height'] = df_medecinskaya_mebel_safeburg['size'].apply(height)"
   ]
  },
  {
   "cell_type": "code",
   "execution_count": null,
   "metadata": {},
   "outputs": [],
   "source": [
    "#width\n",
    "def width(param):\n",
    "    if param != '[]':\n",
    "        param = param.replace('[', '').replace(']', '').replace('\\'', '') #убираем символы []' в исходной строке\n",
    "        h_w_d = re.split('х|x', param) # русская \"х\" или икс\n",
    "        width = h_w_d[1]\n",
    "    else:\n",
    "        width = np.nan\n",
    "    return width"
   ]
  },
  {
   "cell_type": "code",
   "execution_count": null,
   "metadata": {},
   "outputs": [],
   "source": [
    "df_medecinskaya_mebel_safeburg['width'] = df_medecinskaya_mebel_safeburg['size'].apply(width)"
   ]
  },
  {
   "cell_type": "code",
   "execution_count": null,
   "metadata": {},
   "outputs": [],
   "source": [
    "#depth\n",
    "def depth(param):\n",
    "    if param != '[]':\n",
    "        param = param.replace('[', '').replace(']', '').replace('\\'', '') #убираем символы []' в исходной строке\n",
    "        h_w_d = re.split('х|x', param) # русская \"х\" или икс\n",
    "        depth = h_w_d[2]\n",
    "    else:\n",
    "        depth = np.nan\n",
    "    return depth"
   ]
  },
  {
   "cell_type": "code",
   "execution_count": null,
   "metadata": {},
   "outputs": [],
   "source": [
    "df_medecinskaya_mebel_safeburg['depth'] = df_medecinskaya_mebel_safeburg['size'].apply(depth)"
   ]
  },
  {
   "cell_type": "code",
   "execution_count": null,
   "metadata": {},
   "outputs": [],
   "source": [
    "#проверяем\n",
    "df_medecinskaya_mebel_safeburg.tail(1000)"
   ]
  },
  {
   "cell_type": "code",
   "execution_count": null,
   "metadata": {},
   "outputs": [],
   "source": [
    "# Производитель: ПРОИЗВОДИТЕЛЬ\\n\\n\n",
    "#re_manuf = r'(?<=Производитель:)([\\s\\S]+?)(?=[\\n\\n])'\n",
    "\n",
    "def manufacturer(param):\n",
    "    manufacturer = re.findall(r'(?<=Производитель:)([\\s\\S]+?)(?=[\\n\\n])', param)\n",
    "    return manufacturer"
   ]
  },
  {
   "cell_type": "code",
   "execution_count": null,
   "metadata": {},
   "outputs": [],
   "source": [
    "df_medecinskaya_mebel_safeburg['manufacturer'] = df_medecinskaya_mebel_safeburg['description'].apply(manufacturer)"
   ]
  },
  {
   "cell_type": "code",
   "execution_count": null,
   "metadata": {},
   "outputs": [],
   "source": [
    "#проверяем\n",
    "df_medecinskaya_mebel_safeburg.tail(1000)"
   ]
  },
  {
   "cell_type": "code",
   "execution_count": null,
   "metadata": {},
   "outputs": [],
   "source": [
    "type(df_medecinskaya_mebel_safeburg['manufacturer'][3051]) #значения в виде списков, ниже переведём в строки"
   ]
  },
  {
   "cell_type": "code",
   "execution_count": null,
   "metadata": {},
   "outputs": [],
   "source": [
    "#переводим в строки знаечния колонки manufacturer\n",
    "def list_man_to_str(param):\n",
    "    if param != []:\n",
    "        str_param = param[0]\n",
    "    else:\n",
    "        str_param = ''\n",
    "    return str_param"
   ]
  },
  {
   "cell_type": "code",
   "execution_count": null,
   "metadata": {},
   "outputs": [],
   "source": [
    "df_medecinskaya_mebel_safeburg['manufacturer'] = df_medecinskaya_mebel_safeburg['manufacturer'].apply(list_man_to_str)"
   ]
  },
  {
   "cell_type": "code",
   "execution_count": null,
   "metadata": {},
   "outputs": [],
   "source": [
    "#проверяем\n",
    "df_medecinskaya_mebel_safeburg.tail(1000)"
   ]
  },
  {
   "cell_type": "code",
   "execution_count": null,
   "metadata": {},
   "outputs": [],
   "source": [
    "df_medecinskaya_mebel_safeburg['manufacturer'].unique() #уникальные производители - всех Промет переименовать в Промет"
   ]
  },
  {
   "cell_type": "code",
   "execution_count": null,
   "metadata": {},
   "outputs": [],
   "source": [
    "df_medecinskaya_mebel_safeburg['description'].loc[3051]"
   ]
  },
  {
   "cell_type": "code",
   "execution_count": null,
   "metadata": {},
   "outputs": [],
   "source": [
    "#убрать \\t\\n и лишние пробулы из описания\n",
    "def beauty_desc(param):\n",
    "    param = param.replace('\\t', '').replace('\\n', '').replace('\\r', '').strip()\n",
    "    return param"
   ]
  },
  {
   "cell_type": "code",
   "execution_count": null,
   "metadata": {},
   "outputs": [],
   "source": [
    "df_medecinskaya_mebel_safeburg['description'] = df_medecinskaya_mebel_safeburg['description'].apply(beauty_desc)"
   ]
  },
  {
   "cell_type": "code",
   "execution_count": null,
   "metadata": {},
   "outputs": [],
   "source": [
    "df_medecinskaya_mebel_safeburg['description'].loc[3051]"
   ]
  },
  {
   "cell_type": "code",
   "execution_count": null,
   "metadata": {},
   "outputs": [],
   "source": [
    "#проверяем\n",
    "df_medecinskaya_mebel_safeburg.tail(1000)"
   ]
  },
  {
   "cell_type": "code",
   "execution_count": null,
   "metadata": {},
   "outputs": [],
   "source": [
    "#удаляем ненужные колонки\n",
    "df_medecinskaya_mebel_safeburg = df_medecinskaya_mebel_safeburg.drop(['description', 'size'], axis=1)\n",
    "df_medecinskaya_mebel_safeburg"
   ]
  },
  {
   "cell_type": "code",
   "execution_count": null,
   "metadata": {},
   "outputs": [],
   "source": [
    "df_medecinskaya_mebel_safeburg['height'] = df_medecinskaya_mebel_safeburg['height'].replace('', np.nan)"
   ]
  },
  {
   "cell_type": "code",
   "execution_count": null,
   "metadata": {},
   "outputs": [],
   "source": [
    "df_medecinskaya_mebel_safeburg['width'] = df_medecinskaya_mebel_safeburg['width'].astype(float)"
   ]
  },
  {
   "cell_type": "code",
   "execution_count": null,
   "metadata": {},
   "outputs": [],
   "source": [
    "df_medecinskaya_mebel_safeburg['height'] = df_medecinskaya_mebel_safeburg['height'].astype(float)"
   ]
  },
  {
   "cell_type": "code",
   "execution_count": null,
   "metadata": {},
   "outputs": [],
   "source": [
    "df_medecinskaya_mebel_safeburg['depth'] = df_medecinskaya_mebel_safeburg['depth'].replace(\n",
    "    '285, 1385', np.nan).replace('440420, ', np.nan).replace('440800, ', np.nan).replace(\n",
    "    '381, ', np.nan).replace('200, 420', np.nan).replace('192, 1000', np.nan).replace(\n",
    "    '195, 1290', np.nan).replace('390, 305', np.nan).replace('500, 450', np.nan).replace(\n",
    "    '250, 1000', np.nan).replace('', np.nan)"
   ]
  },
  {
   "cell_type": "code",
   "execution_count": null,
   "metadata": {},
   "outputs": [],
   "source": [
    "df_medecinskaya_mebel_safeburg['depth'] = df_medecinskaya_mebel_safeburg['depth'].astype(float)"
   ]
  },
  {
   "cell_type": "code",
   "execution_count": null,
   "metadata": {},
   "outputs": [],
   "source": [
    "df_medecinskaya_mebel_safeburg.info()"
   ]
  },
  {
   "cell_type": "code",
   "execution_count": null,
   "metadata": {},
   "outputs": [],
   "source": [
    "df_medecinskaya_mebel_safeburg.tail(1000)"
   ]
  },
  {
   "cell_type": "markdown",
   "metadata": {},
   "source": [
    "#### Металлическая мебель (Стеллажи)"
   ]
  },
  {
   "cell_type": "code",
   "execution_count": null,
   "metadata": {},
   "outputs": [],
   "source": [
    "df_Safeburg_st = pd.read_csv('Safeburg-stellazhi-2024-09-22.csv')\n",
    "df_Safeburg_st.head()"
   ]
  },
  {
   "cell_type": "code",
   "execution_count": null,
   "metadata": {},
   "outputs": [],
   "source": [
    "#add category 'Металлическая мебель (Стеллажи)'\n",
    "df_Safeburg_st['category'] = 'Металлическая мебель (Стеллажи)'"
   ]
  },
  {
   "cell_type": "code",
   "execution_count": null,
   "metadata": {},
   "outputs": [],
   "source": [
    "#add shop 'Safeburg'\n",
    "df_Safeburg_st['shop'] = 'Сейфбург'"
   ]
  },
  {
   "cell_type": "code",
   "execution_count": null,
   "metadata": {},
   "outputs": [],
   "source": [
    "df_Safeburg_st.head()"
   ]
  },
  {
   "cell_type": "code",
   "execution_count": null,
   "metadata": {},
   "outputs": [],
   "source": [
    "#прайс в число\n",
    "df_Safeburg_st['price'] = df_Safeburg_st['price'].apply(price_to_float)\n",
    "df_Safeburg_st.head()"
   ]
  },
  {
   "cell_type": "code",
   "execution_count": null,
   "metadata": {},
   "outputs": [],
   "source": [
    "df_Safeburg_st['width'] = df_Safeburg_st['size'].apply(width)"
   ]
  },
  {
   "cell_type": "code",
   "execution_count": null,
   "metadata": {},
   "outputs": [],
   "source": [
    "df_Safeburg_st['height'] = df_Safeburg_st['size'].apply(height)"
   ]
  },
  {
   "cell_type": "code",
   "execution_count": null,
   "metadata": {},
   "outputs": [],
   "source": [
    "df_Safeburg_st['depth'] = df_Safeburg_st['size'].apply(depth)"
   ]
  },
  {
   "cell_type": "code",
   "execution_count": null,
   "metadata": {},
   "outputs": [],
   "source": [
    "df_Safeburg_st['manufacturer'] = df_Safeburg_st['description'].apply(manufacturer)"
   ]
  },
  {
   "cell_type": "code",
   "execution_count": null,
   "metadata": {},
   "outputs": [],
   "source": [
    "df_Safeburg_st['manufacturer'] = df_Safeburg_st['manufacturer'].apply(list_man_to_str)"
   ]
  },
  {
   "cell_type": "code",
   "execution_count": null,
   "metadata": {},
   "outputs": [],
   "source": [
    "df_Safeburg_st.tail(1000)"
   ]
  },
  {
   "cell_type": "code",
   "execution_count": null,
   "metadata": {},
   "outputs": [],
   "source": [
    "df_Safeburg_st['width'] = df_Safeburg_st['width'].astype(float)"
   ]
  },
  {
   "cell_type": "code",
   "execution_count": null,
   "metadata": {},
   "outputs": [],
   "source": [
    "df_Safeburg_st['height'] = df_Safeburg_st['height'].astype(float)"
   ]
  },
  {
   "cell_type": "code",
   "execution_count": null,
   "metadata": {},
   "outputs": [],
   "source": [
    "df_Safeburg_st['depth'] = df_Safeburg_st['depth'].replace(\n",
    "    '300, 2000', np.nan).replace('500, 2000', np.nan)"
   ]
  },
  {
   "cell_type": "code",
   "execution_count": null,
   "metadata": {},
   "outputs": [],
   "source": [
    "df_Safeburg_st['depth'] = df_Safeburg_st['depth'].astype(float)"
   ]
  },
  {
   "cell_type": "code",
   "execution_count": null,
   "metadata": {},
   "outputs": [],
   "source": [
    "#удаляем ненужные колонки\n",
    "df_Safeburg_st = df_Safeburg_st.drop(['description', 'size'], axis=1)"
   ]
  },
  {
   "cell_type": "code",
   "execution_count": null,
   "metadata": {},
   "outputs": [],
   "source": [
    "# df_Safeburg_st['manufacturer'] = df_Safeburg_st['manufacturer'].apply(promet)"
   ]
  },
  {
   "cell_type": "code",
   "execution_count": null,
   "metadata": {},
   "outputs": [],
   "source": [
    "df_Safeburg_st.head()"
   ]
  },
  {
   "cell_type": "code",
   "execution_count": null,
   "metadata": {},
   "outputs": [],
   "source": [
    "df_Safeburg_st.info()"
   ]
  },
  {
   "cell_type": "markdown",
   "metadata": {},
   "source": [
    "#### Металлическая мебель (Шкафы)"
   ]
  },
  {
   "cell_type": "code",
   "execution_count": null,
   "metadata": {},
   "outputs": [],
   "source": [
    "df_Safeburg_shk = pd.read_csv('Safeburg-shkafy-2024-09-22.csv.csv')\n",
    "df_Safeburg_shk.head()"
   ]
  },
  {
   "cell_type": "code",
   "execution_count": null,
   "metadata": {},
   "outputs": [],
   "source": [
    "#add category 'Металлическая мебель (Шкафы)'\n",
    "df_Safeburg_shk['category'] = 'Металлическая мебель (Шкафы)'"
   ]
  },
  {
   "cell_type": "code",
   "execution_count": null,
   "metadata": {},
   "outputs": [],
   "source": [
    "#add shop 'Safeburg'\n",
    "df_Safeburg_shk['shop'] = 'Сейфбург'"
   ]
  },
  {
   "cell_type": "code",
   "execution_count": null,
   "metadata": {},
   "outputs": [],
   "source": [
    "#прайс в число\n",
    "df_Safeburg_shk['price'] = df_Safeburg_shk['price'].apply(price_to_float)"
   ]
  },
  {
   "cell_type": "code",
   "execution_count": null,
   "metadata": {},
   "outputs": [],
   "source": [
    "df_Safeburg_shk['width'] = df_Safeburg_shk['size'].apply(width)"
   ]
  },
  {
   "cell_type": "code",
   "execution_count": null,
   "metadata": {},
   "outputs": [],
   "source": [
    "df_Safeburg_shk['height'] = df_Safeburg_shk['size'].apply(height)"
   ]
  },
  {
   "cell_type": "code",
   "execution_count": null,
   "metadata": {},
   "outputs": [],
   "source": [
    "df_Safeburg_shk['depth'] = df_Safeburg_shk['size'].apply(depth)"
   ]
  },
  {
   "cell_type": "code",
   "execution_count": null,
   "metadata": {},
   "outputs": [],
   "source": [
    "df_Safeburg_shk['manufacturer'] = df_Safeburg_shk['description'].apply(manufacturer)"
   ]
  },
  {
   "cell_type": "code",
   "execution_count": null,
   "metadata": {},
   "outputs": [],
   "source": [
    "df_Safeburg_shk['manufacturer'] = df_Safeburg_shk['manufacturer'].apply(list_man_to_str)"
   ]
  },
  {
   "cell_type": "code",
   "execution_count": null,
   "metadata": {},
   "outputs": [],
   "source": [
    "df_Safeburg_shk['height'] = df_Safeburg_shk['height'].replace('', np.nan)"
   ]
  },
  {
   "cell_type": "code",
   "execution_count": null,
   "metadata": {},
   "outputs": [],
   "source": [
    "df_Safeburg_shk['width'] = df_Safeburg_shk['width'].astype(float)"
   ]
  },
  {
   "cell_type": "code",
   "execution_count": null,
   "metadata": {},
   "outputs": [],
   "source": [
    "df_Safeburg_shk['height'] = df_Safeburg_shk['height'].astype(float)"
   ]
  },
  {
   "cell_type": "code",
   "execution_count": null,
   "metadata": {},
   "outputs": [],
   "source": [
    "df_Safeburg_shk['depth'] = df_Safeburg_shk['depth'].replace('375, 925', np.nan).replace(\n",
    "    '425, 925', np.nan).replace('40, 160', np.nan).replace('55, 410', np.nan).replace(\n",
    "    '55, 535', np.nan).replace('55, 660', np.nan).replace('350, 1840', np.nan).replace(\n",
    "    '315, 1752', np.nan).replace('350, 1570', np.nan).replace('80, 200', np.nan).replace(\n",
    "    '300, 300', np.nan).replace('300, 240', np.nan)"
   ]
  },
  {
   "cell_type": "code",
   "execution_count": null,
   "metadata": {},
   "outputs": [],
   "source": [
    "df_Safeburg_shk['depth'] = df_Safeburg_shk['depth'].astype(float)"
   ]
  },
  {
   "cell_type": "code",
   "execution_count": null,
   "metadata": {},
   "outputs": [],
   "source": [
    "#удаляем ненужные колонки\n",
    "df_Safeburg_shk = df_Safeburg_shk.drop(['description', 'size'], axis=1)"
   ]
  },
  {
   "cell_type": "code",
   "execution_count": null,
   "metadata": {},
   "outputs": [],
   "source": [
    "# df_Safeburg_shk['manufacturer'] = df_Safeburg_shk['manufacturer'].apply(promet)"
   ]
  },
  {
   "cell_type": "code",
   "execution_count": null,
   "metadata": {},
   "outputs": [],
   "source": [
    "df_Safeburg_shk.head()"
   ]
  },
  {
   "cell_type": "code",
   "execution_count": null,
   "metadata": {},
   "outputs": [],
   "source": [
    "df_Safeburg_shk.info()"
   ]
  },
  {
   "cell_type": "markdown",
   "metadata": {},
   "source": [
    "#### Производственная мебель (Верстаки, столы, тумбы)"
   ]
  },
  {
   "cell_type": "code",
   "execution_count": null,
   "metadata": {},
   "outputs": [],
   "source": [
    "df_Safeburg_meb = pd.read_csv('Safeburg-mebel-2024-09-22.csv')\n",
    "df_Safeburg_meb.head()"
   ]
  },
  {
   "cell_type": "code",
   "execution_count": null,
   "metadata": {},
   "outputs": [],
   "source": [
    "#add category 'Производственная мебель (Верстаки, столы, тумбы)'\n",
    "df_Safeburg_meb['category'] = 'Производственная мебель (Верстаки, столы, тумбы)'"
   ]
  },
  {
   "cell_type": "code",
   "execution_count": null,
   "metadata": {},
   "outputs": [],
   "source": [
    "#add shop 'Safeburg'\n",
    "df_Safeburg_meb['shop'] = 'Сейфбург'"
   ]
  },
  {
   "cell_type": "code",
   "execution_count": null,
   "metadata": {},
   "outputs": [],
   "source": [
    "#прайс в число\n",
    "df_Safeburg_meb['price'] = df_Safeburg_meb['price'].apply(price_to_float)"
   ]
  },
  {
   "cell_type": "code",
   "execution_count": null,
   "metadata": {},
   "outputs": [],
   "source": [
    "df_Safeburg_meb['width'] = df_Safeburg_meb['size'].apply(width)"
   ]
  },
  {
   "cell_type": "code",
   "execution_count": null,
   "metadata": {},
   "outputs": [],
   "source": [
    "df_Safeburg_meb['height'] = df_Safeburg_meb['size'].apply(height)"
   ]
  },
  {
   "cell_type": "code",
   "execution_count": null,
   "metadata": {},
   "outputs": [],
   "source": [
    "df_Safeburg_meb['depth'] = df_Safeburg_meb['size'].apply(depth)"
   ]
  },
  {
   "cell_type": "code",
   "execution_count": null,
   "metadata": {},
   "outputs": [],
   "source": [
    "df_Safeburg_meb['manufacturer'] = df_Safeburg_meb['description'].apply(manufacturer)"
   ]
  },
  {
   "cell_type": "code",
   "execution_count": null,
   "metadata": {},
   "outputs": [],
   "source": [
    "df_Safeburg_meb['manufacturer'] = df_Safeburg_meb['manufacturer'].apply(list_man_to_str)"
   ]
  },
  {
   "cell_type": "code",
   "execution_count": null,
   "metadata": {},
   "outputs": [],
   "source": [
    "df_Safeburg_meb['width'] = df_Safeburg_meb['width'].replace('', np.nan)"
   ]
  },
  {
   "cell_type": "code",
   "execution_count": null,
   "metadata": {},
   "outputs": [],
   "source": [
    "df_Safeburg_meb['width'] = df_Safeburg_meb['width'].astype(float)"
   ]
  },
  {
   "cell_type": "code",
   "execution_count": null,
   "metadata": {},
   "outputs": [],
   "source": [
    "df_Safeburg_meb['height'] = df_Safeburg_meb['height'].replace('', np.nan)"
   ]
  },
  {
   "cell_type": "code",
   "execution_count": null,
   "metadata": {},
   "outputs": [],
   "source": [
    "df_Safeburg_meb['height'] = df_Safeburg_meb['height'].astype(float)"
   ]
  },
  {
   "cell_type": "code",
   "execution_count": null,
   "metadata": {},
   "outputs": [],
   "source": [
    "df_Safeburg_meb['depth'] = df_Safeburg_meb['depth'].replace('1, 930', np.nan).replace(\n",
    "    '1, 560', np.nan).replace('1, 960', np.nan).replace('2, 560', np.nan).replace('550, 100', np.nan).replace(\n",
    "    '352, 40', np.nan).replace('34, 676', np.nan).replace('34, 676', np.nan).replace(\n",
    "    '34, 680', np.nan).replace('500, 1750', np.nan).replace('475, 210', np.nan).replace(\n",
    "    '', np.nan).replace('250, 800', np.nan).replace('930, 700', np.nan).replace(', 2882', np.nan).replace(\n",
    "    ', 450', np.nan).replace('640, 770', np.nan).replace('60, 1220', np.nan).replace('50, 855', np.nan).replace(\n",
    "    '52, 910', np.nan).replace('2, 1780', np.nan)"
   ]
  },
  {
   "cell_type": "code",
   "execution_count": null,
   "metadata": {},
   "outputs": [],
   "source": [
    "df_Safeburg_meb['depth'] = df_Safeburg_meb['depth'].astype(float)"
   ]
  },
  {
   "cell_type": "code",
   "execution_count": null,
   "metadata": {},
   "outputs": [],
   "source": [
    "#удаляем ненужные колонки\n",
    "df_Safeburg_meb = df_Safeburg_meb.drop(['description', 'size'], axis=1)"
   ]
  },
  {
   "cell_type": "code",
   "execution_count": null,
   "metadata": {},
   "outputs": [],
   "source": [
    "# df_Safeburg_meb['manufacturer'] = df_Safeburg_meb['manufacturer'].apply(promet)"
   ]
  },
  {
   "cell_type": "code",
   "execution_count": null,
   "metadata": {},
   "outputs": [],
   "source": [
    "df_Safeburg_meb.head()"
   ]
  },
  {
   "cell_type": "code",
   "execution_count": null,
   "metadata": {},
   "outputs": [],
   "source": [
    "df_Safeburg_meb.info()"
   ]
  },
  {
   "cell_type": "markdown",
   "metadata": {},
   "source": [
    "#### Итоговый DF по конкуренту 5"
   ]
  },
  {
   "cell_type": "code",
   "execution_count": null,
   "metadata": {},
   "outputs": [],
   "source": [
    "safeburg_df = pd.DataFrame() #создаём пустой df"
   ]
  },
  {
   "cell_type": "code",
   "execution_count": null,
   "metadata": {},
   "outputs": [],
   "source": [
    "safeburg_df = pd.concat([safeburg_df, df_medecinskaya_mebel_safeburg]) #добавляем сейфы"
   ]
  },
  {
   "cell_type": "code",
   "execution_count": null,
   "metadata": {},
   "outputs": [],
   "source": [
    "safeburg_df = pd.concat([safeburg_df, df_Safeburg_st]) #добавляем стеллажи"
   ]
  },
  {
   "cell_type": "code",
   "execution_count": null,
   "metadata": {},
   "outputs": [],
   "source": [
    "safeburg_df = pd.concat([safeburg_df, df_Safeburg_shk]) #добавляем мет шкафы"
   ]
  },
  {
   "cell_type": "code",
   "execution_count": null,
   "metadata": {},
   "outputs": [],
   "source": [
    "safeburg_df = pd.concat([safeburg_df, df_Safeburg_meb]) #добавляем мет мебель"
   ]
  },
  {
   "cell_type": "code",
   "execution_count": null,
   "metadata": {},
   "outputs": [],
   "source": [
    "safeburg_df.info()"
   ]
  },
  {
   "cell_type": "code",
   "execution_count": null,
   "metadata": {},
   "outputs": [],
   "source": [
    "safeburg_df.head()"
   ]
  },
  {
   "cell_type": "code",
   "execution_count": null,
   "metadata": {},
   "outputs": [],
   "source": [
    "#кол-во товаров по категории и по каждому производителю\n",
    "manuf = pd.pivot_table(safeburg_df, index = 'manufacturer', columns = 'category', values = 'title', aggfunc = 'count')\n"
   ]
  },
  {
   "cell_type": "code",
   "execution_count": null,
   "metadata": {},
   "outputs": [],
   "source": [
    "manuf[0:50]"
   ]
  },
  {
   "cell_type": "code",
   "execution_count": null,
   "metadata": {},
   "outputs": [],
   "source": [
    "manuf[51:100]"
   ]
  },
  {
   "cell_type": "code",
   "execution_count": null,
   "metadata": {},
   "outputs": [],
   "source": [
    "manuf[101:]"
   ]
  },
  {
   "cell_type": "code",
   "execution_count": null,
   "metadata": {},
   "outputs": [],
   "source": [
    "def manuf_to_upper(param):\n",
    "    param = param.upper()\n",
    "    return param"
   ]
  },
  {
   "cell_type": "code",
   "execution_count": null,
   "metadata": {},
   "outputs": [],
   "source": [
    "safeburg_df['manufacturer'] = safeburg_df['manufacturer'].apply(manuf_to_upper)"
   ]
  },
  {
   "cell_type": "code",
   "execution_count": null,
   "metadata": {},
   "outputs": [],
   "source": [
    "pd.pivot_table(safeburg_df, index = 'manufacturer', columns = 'category', values = 'title', aggfunc = 'count')[0:50]"
   ]
  },
  {
   "cell_type": "code",
   "execution_count": null,
   "metadata": {},
   "outputs": [],
   "source": [
    "pd.pivot_table(safeburg_df, index = 'manufacturer', columns = 'category', values = 'title', aggfunc = 'count')[51:]"
   ]
  },
  {
   "cell_type": "code",
   "execution_count": null,
   "metadata": {},
   "outputs": [],
   "source": [
    "#Дубликаты: AIKO, CROSNA (КРОСНА),ДВК, ДИКОМ, Надежда, ПРОМЕТ, прооборудование, onix оникс\n",
    "\n",
    "def manufacturer_double_name(param):\n",
    "    if 'ПРОМЕТ' in param:\n",
    "        param = 'ПРОМЕТ'\n",
    "    elif 'AIKO' in param:\n",
    "        param = 'AIKO'\n",
    "    elif 'КРОСНА' in param:\n",
    "        param = 'CROSNA'\n",
    "    elif 'CROSNA' in param:\n",
    "        param = 'CROSNA'\n",
    "    elif 'ДВК' in param:\n",
    "        param = 'ДВК'\n",
    "    elif 'ДИКОМ' in param:\n",
    "        param = 'ДИКОМ'\n",
    "    elif 'НАДЕЖДА' in param:\n",
    "        param = 'НАДЕЖДА'\n",
    "    elif 'ПРООБОРУДОВАНИЕ' in param:\n",
    "        param = 'ПРООБОРУДОВАНИЕ'\n",
    "    elif 'ОНИКС' in param:\n",
    "        param = 'ONIX'\n",
    "    elif 'ONIX' in param:\n",
    "        param = 'ONIX'\n",
    "    return param"
   ]
  },
  {
   "cell_type": "code",
   "execution_count": null,
   "metadata": {},
   "outputs": [],
   "source": [
    "safeburg_df['manufacturer'] = safeburg_df['manufacturer'].apply(manufacturer_double_name)"
   ]
  },
  {
   "cell_type": "code",
   "execution_count": null,
   "metadata": {},
   "outputs": [],
   "source": [
    "safeburg_df['manufacturer'].unique()"
   ]
  },
  {
   "cell_type": "code",
   "execution_count": null,
   "metadata": {},
   "outputs": [],
   "source": [
    "# кол-во товаров по категории и по каждому производителю\n",
    "pd.pivot_table(safeburg_df, index = 'manufacturer', columns = 'category', values = 'title', aggfunc = 'count')\n",
    "#сократили до 98 "
   ]
  },
  {
   "cell_type": "code",
   "execution_count": null,
   "metadata": {},
   "outputs": [],
   "source": [
    "safeburg_df.loc[safeburg_df['width'] == safeburg_df['depth']]"
   ]
  },
  {
   "cell_type": "code",
   "execution_count": null,
   "metadata": {},
   "outputs": [],
   "source": [
    "safeburg_df.drop('depth', axis= 1 , inplace= True )"
   ]
  },
  {
   "cell_type": "code",
   "execution_count": null,
   "metadata": {},
   "outputs": [],
   "source": [
    "safeburg_df.sample(10)"
   ]
  },
  {
   "cell_type": "code",
   "execution_count": null,
   "metadata": {},
   "outputs": [],
   "source": [
    "safeburg_df.to_csv('Safeburg.csv', index=False) #записываем в файл"
   ]
  },
  {
   "cell_type": "markdown",
   "metadata": {},
   "source": [
    "#### Обезличивание данных"
   ]
  },
  {
   "cell_type": "code",
   "execution_count": null,
   "metadata": {},
   "outputs": [],
   "source": [
    "df_1 = pd.read_csv('metallicheskaya_mebel_all.csv')\n",
    "df_2 = pd.read_csv('metallicheskaya_mebel_izh.csv')\n",
    "df_3 = pd.read_csv('metallicheskaya_mebel_safes18.csv')\n",
    "df_4 = pd.read_csv('sekretservis.csv')\n",
    "df_5 = pd.read_csv('Safeburg.csv')"
   ]
  },
  {
   "cell_type": "code",
   "execution_count": null,
   "metadata": {},
   "outputs": [],
   "source": [
    "df_1['shop'] = 1 #перезаписываем название организации на номер\n",
    "df_2['shop'] = 2\n",
    "df_3['shop'] = 3\n",
    "df_4['shop'] = 4\n",
    "df_5['shop'] = 5"
   ]
  },
  {
   "cell_type": "code",
   "execution_count": null,
   "metadata": {},
   "outputs": [],
   "source": [
    "df_1.to_csv('1.csv', index=False) #записываем в файл\n",
    "df_2.to_csv('2.csv', index=False)\n",
    "df_3.to_csv('3.csv', index=False)\n",
    "df_4.to_csv('4.csv', index=False)\n",
    "df_5.to_csv('5.csv', index=False)"
   ]
  },
  {
   "cell_type": "markdown",
   "metadata": {},
   "source": [
    "#### Поиск совпадений "
   ]
  },
  {
   "cell_type": "markdown",
   "metadata": {},
   "source": [
    "#### Функции"
   ]
  },
  {
   "cell_type": "code",
   "execution_count": null,
   "metadata": {},
   "outputs": [],
   "source": [
    "def dict_values_abc(param):\n",
    "  #принимает колонку ДФ, разбивает всё на слова по пробелу сортирует по алфавиту\n",
    "  #и оставляет только те, где кол-во больше 10\n",
    "\n",
    "  title_n = param.to_list()\n",
    "\n",
    "  split = [] #create empty list\n",
    "\n",
    "  for el in title_n:\n",
    "    title_splitted = el.split() # split title\n",
    "    for split_el in title_splitted:\n",
    "      split.append(split_el) #add word in list\n",
    "\n",
    "  split_count = {item: split.count(item) for item in split} #create dict{word : count}\n",
    "\n",
    "  sorted_keys = sorted(split_count.keys(), reverse=True) # Sort the keys\n",
    "\n",
    "  sorted_dict = {} #sort dict{word : count}\n",
    "\n",
    "  for i in sorted_keys:\n",
    "      for k in split_count.keys():\n",
    "          if k == i and split_count[k] > 10:\n",
    "              sorted_dict[k] = split_count[k]\n",
    "\n",
    "  return sorted_dict"
   ]
  },
  {
   "cell_type": "code",
   "execution_count": null,
   "metadata": {},
   "outputs": [],
   "source": [
    "def reduced_title(param):\n",
    "  #создаёт колонку с кратким названием, удаляя лишние слова\n",
    "  for i in junk:\n",
    "    param = param.replace(i, '')\n",
    "\n",
    "  return param"
   ]
  },
  {
   "cell_type": "markdown",
   "metadata": {},
   "source": [
    "#### Медицинская мебель"
   ]
  },
  {
   "cell_type": "code",
   "execution_count": null,
   "metadata": {},
   "outputs": [],
   "source": [
    "df_1_saf = df_1[df_1['category'] == 'Медицинская мебель'] #only from shop 1\n",
    "df_2_saf = df_2[df_2['category'] == 'Медицинская мебель'] #only from shop 2\n",
    "df_3_saf = df_3[df_3['category'] == 'Медицинская мебель'] #only from shop 3\n",
    "df_4_saf = df_4[df_4['category'] == 'Медицинская мебель'] #only from shop 4\n",
    "df_5_saf = df_5[df_5['category'] == 'Медицинская мебель'] #only from shop 5"
   ]
  },
  {
   "cell_type": "code",
   "execution_count": null,
   "metadata": {},
   "outputs": [],
   "source": [
    "df_1_saf.info() \n",
    "df_2_saf.info()\n",
    "df_3_saf.info() \n",
    "df_4_saf.info()\n",
    "df_5_saf.info() "
   ]
  },
  {
   "cell_type": "code",
   "execution_count": null,
   "metadata": {},
   "outputs": [],
   "source": [
    "#title to upper\n",
    "df_1_saf['title'] = df_1_saf['title'].str.upper() \n",
    "df_2_saf['title'] = df_2_saf['title'].str.upper()\n",
    "df_3_saf['title'] = df_3_saf['title'].str.upper()\n",
    "df_4_saf['title'] = df_4_saf['title'].str.upper()\n",
    "df_5_saf['title'] = df_5_saf['title'].str.upper()"
   ]
  },
  {
   "cell_type": "code",
   "execution_count": null,
   "metadata": {},
   "outputs": [],
   "source": [
    "dict_values_abc(df_1_saf['title']) #разбиваем на слова и выводим частотность"
   ]
  },
  {
   "cell_type": "code",
   "execution_count": null,
   "metadata": {},
   "outputs": [],
   "source": [
    "dict_values_abc(df_2_saf['title'])"
   ]
  },
  {
   "cell_type": "code",
   "execution_count": null,
   "metadata": {},
   "outputs": [],
   "source": [
    "dict_values_abc(df_3_saf['title'])"
   ]
  },
  {
   "cell_type": "code",
   "execution_count": null,
   "metadata": {},
   "outputs": [],
   "source": [
    "dict_values_abc(df_4_saf['title'])"
   ]
  },
  {
   "cell_type": "code",
   "execution_count": null,
   "metadata": {},
   "outputs": [],
   "source": [
    "dict_values_abc(df_5_saf['title'])"
   ]
  },
  {
   "cell_type": "markdown",
   "metadata": {},
   "source": [
    "Экспертным путём выбираем слова для удаления из названия, опираясь на данные dict_values_abc() и записываем в переменную junk"
   ]
  },
  {
   "cell_type": "code",
   "execution_count": null,
   "metadata": {},
   "outputs": [],
   "source": [
    "junk = ['ЯЩИК', 'ЭЛЕКТРИЧЕСКАЯ', 'ШТАНГА', 'ШКАФ', 'ФУНКЦИОНАЛЬНАЯ', 'УСТРОЙСТВОМ', 'ТУМБА',\n",
    " 'ТУАЛЕТНЫМ', 'ТРЕЙЗЕР', 'ТП-8', 'ТП-7', 'ТП-6', 'СТОЛ', 'СТМ', 'СТЕЛЛАЖ', 'C', 'РУЧНЫХ', 'РАМА', 'ПОДВЕСКИ', 'ОПОР', 'НПВ', \n",
    " 'МЕХАНИЧЕСКАЯ', 'МЕДИЦИНСКИЙ', 'МЕДИЦИНСКАЯ', 'МД', 'МВ223.1.1.5', 'ШМ', 'ШКАФ', 'СТОЛИК', 'СТОЛ', 'ПРОЦЕДУРНЫЙ', 'ПРАКТИК', \n",
    " 'МЕДИЦИНСКИЙ', 'МЕДИЦИНСКАЯ', 'КРОВАТЬ', 'MED', 'ЯЩИКОМ', 'ЯЩИКАМИ', 'ЭКОНОМ', 'ШТАТИВ', 'ШМ-SS', 'ШКАФ', 'ШИРМА', 'ЧЕРНЫЙ)',\n",
    " 'ФУНКЦИОНАЛЬНАЯ', 'УЛЬТРАФИОЛЕТОВЫЙ', 'ТУМБЫ', 'ТУМБОЙ', 'ТУМБАМИ', 'ТУМБА', 'ТРЕХМЕСТНЫЙ', 'ТРЕХМЕСТНАЯ', 'ТЕЛЕЖКА', 'ТАБУРЕТ',\n",
    " 'СТУЛ', 'СТОЛИК', 'СТОЛЕШНИЦА', 'СТОЛ-ТУМБА', 'СТОЛ-МОЙКА', 'СТОЛ', 'СТОЙКА' ]"
   ]
  },
  {
   "cell_type": "code",
   "execution_count": null,
   "metadata": {},
   "outputs": [],
   "source": [
    "df_1_saf['reduced'] = df_1_saf['title'].apply(reduced_title)\n",
    "df_2_saf['reduced'] = df_2_saf['title'].apply(reduced_title)\n",
    "df_3_saf['reduced'] = df_3_saf['title'].apply(reduced_title)\n",
    "df_4_saf['reduced'] = df_4_saf['title'].apply(reduced_title)\n",
    "df_5_saf['reduced'] = df_5_saf['title'].apply(reduced_title)"
   ]
  },
  {
   "cell_type": "code",
   "execution_count": null,
   "metadata": {},
   "outputs": [],
   "source": [
    "df_1_saf.head()"
   ]
  },
  {
   "cell_type": "markdown",
   "metadata": {},
   "source": [
    "#### Металлическая мебель (Стеллажи)"
   ]
  },
  {
   "cell_type": "code",
   "execution_count": null,
   "metadata": {},
   "outputs": [],
   "source": [
    "df_1_st = df_1[df_1['category'] == 'Металлическая мебель (Стеллажи)'] #only from shop 1\n",
    "df_2_st = df_2[df_2['category'] == 'Металлическая мебель (Стеллажи)'] #only from shop 2\n",
    "df_3_st = df_3[df_3['category'] == 'Металлическая мебель (Стеллажи)'] #only from shop 3\n",
    "df_4_st = df_4[df_4['category'] == 'Металлическая мебель (Стеллажи)'] #only from shop 4\n",
    "df_5_st = df_5[df_5['category'] == 'Металлическая мебель (Стеллажи)'] #only from shop 5"
   ]
  },
  {
   "cell_type": "code",
   "execution_count": null,
   "metadata": {},
   "outputs": [],
   "source": [
    "#title to upper\n",
    "df_1_st['title'] = df_1_st['title'].str.upper() \n",
    "df_2_st['title'] = df_2_st['title'].str.upper()\n",
    "df_3_st['title'] = df_3_st['title'].str.upper()\n",
    "df_4_st['title'] = df_4_st['title'].str.upper()\n",
    "df_5_st['title'] = df_5_st['title'].str.upper()"
   ]
  },
  {
   "cell_type": "code",
   "execution_count": null,
   "metadata": {},
   "outputs": [],
   "source": [
    "dict_values_abc(df_1_st['title']) #разбиваем на слова и выводим частотность"
   ]
  },
  {
   "cell_type": "code",
   "execution_count": null,
   "metadata": {},
   "outputs": [],
   "source": [
    "dict_values_abc(df_2_st['title'])"
   ]
  },
  {
   "cell_type": "code",
   "execution_count": null,
   "metadata": {},
   "outputs": [],
   "source": [
    "dict_values_abc(df_3_st['title'])"
   ]
  },
  {
   "cell_type": "code",
   "execution_count": null,
   "metadata": {},
   "outputs": [],
   "source": [
    "dict_values_abc(df_4_st['title'])"
   ]
  },
  {
   "cell_type": "code",
   "execution_count": null,
   "metadata": {},
   "outputs": [],
   "source": [
    "dict_values_abc(df_5_st['title'])"
   ]
  },
  {
   "cell_type": "markdown",
   "metadata": {},
   "source": [
    "Экспертным путём выбираем слова для удаления из названия, опираясь на данные dict_values_abc() и записываем в переменную junk"
   ]
  },
  {
   "cell_type": "code",
   "execution_count": null,
   "metadata": {},
   "outputs": [],
   "source": [
    "junk = ['ЭКОНОМ', 'ЧЕРНЫЙ)', 'ТРЕХМЕСТНЫЙ', 'ТРЕХМЕСТНАЯ', 'СПИНКОЙ', 'СО', 'СВЕТЛО-СЕРЫЙ,', 'ОДНОМЕСТНАЯ', 'МСК-240',\n",
    " 'МСК-239', 'МСК-216', 'МСК-208', 'МСК-207', 'МЕТАЛЛИЧЕСКАЯ', 'МЕДИЦИНСКИЙ', 'МЕДИЦИНСКАЯ', 'МД', 'КОСТЬ)', 'КОРИЧНЕВЫЙ,', 'КАРКАС',\n",
    " 'ДИВАН-КРЕСЛО', 'ДИВАН', 'ДВУХМЕСТНЫЙ', 'ДВУХМЕСТНАЯ', 'Д01', 'СТЕЛЛАЖ', 'СКЛАДСКОЙ', 'ПОЛОК', 'ПОЛКИ', 'ММ,', 'ДЛЯ', 'ШКАФ', 'УСИЛЕННЫЙ',\n",
    " 'СТАНДАРТ', 'РАЗДЕВАЛОК', 'ПРАКТИК', 'ОФИСНЫЙ', 'КАРТОТЕКА', 'ДЛЯ', 'БУХГАЛТЕРСКИЙ', 'ML', 'AMT', 'AIKO' ]"
   ]
  },
  {
   "cell_type": "code",
   "execution_count": null,
   "metadata": {},
   "outputs": [],
   "source": [
    "df_1_st['reduced'] = df_1_st['title'].apply(reduced_title)\n",
    "df_2_st['reduced'] = df_2_st['title'].apply(reduced_title)\n",
    "df_3_st['reduced'] = df_3_st['title'].apply(reduced_title)\n",
    "df_4_st['reduced'] = df_4_st['title'].apply(reduced_title)\n",
    "df_5_st['reduced'] = df_5_st['title'].apply(reduced_title)"
   ]
  },
  {
   "cell_type": "markdown",
   "metadata": {},
   "source": [
    "#### Металлическая мебель (Шкафы)"
   ]
  },
  {
   "cell_type": "code",
   "execution_count": null,
   "metadata": {},
   "outputs": [],
   "source": [
    "df_1_mm = df_1[df_1['category'] == 'Металлическая мебель (Шкафы)'] #only from shop 1\n",
    "df_2_mm = df_2[df_2['category'] == 'Металлическая мебель (Шкафы)'] #only from shop 2\n",
    "df_3_mm = df_3[df_3['category'] == 'Металлическая мебель (Шкафы)'] #only from shop 3\n",
    "df_4_mm = df_4[df_4['category'] == 'Металлическая мебель (Шкафы)'] #only from shop 4\n",
    "df_5_mm = df_5[df_5['category'] == 'Металлическая мебель (Шкафы)'] #only from shop 5"
   ]
  },
  {
   "cell_type": "code",
   "execution_count": null,
   "metadata": {},
   "outputs": [],
   "source": [
    "#title to upper\n",
    "df_1_mm['title'] = df_1_mm['title'].str.upper() \n",
    "df_2_mm['title'] = df_2_mm['title'].str.upper()\n",
    "df_3_mm['title'] = df_3_mm['title'].str.upper()\n",
    "df_4_mm['title'] = df_4_mm['title'].str.upper()\n",
    "df_5_mm['title'] = df_5_mm['title'].str.upper()"
   ]
  },
  {
   "cell_type": "code",
   "execution_count": null,
   "metadata": {},
   "outputs": [],
   "source": [
    "dict_values_abc(df_1_mm['title']) #разбиваем на слова и выводим частотность"
   ]
  },
  {
   "cell_type": "code",
   "execution_count": null,
   "metadata": {},
   "outputs": [],
   "source": [
    "dict_values_abc(df_2_mm['title'])"
   ]
  },
  {
   "cell_type": "code",
   "execution_count": null,
   "metadata": {},
   "outputs": [],
   "source": [
    "dict_values_abc(df_3_mm['title'])"
   ]
  },
  {
   "cell_type": "code",
   "execution_count": null,
   "metadata": {},
   "outputs": [],
   "source": [
    "dict_values_abc(df_4_mm['title'])"
   ]
  },
  {
   "cell_type": "code",
   "execution_count": null,
   "metadata": {},
   "outputs": [],
   "source": [
    "dict_values_abc(df_5_mm['title'])"
   ]
  },
  {
   "cell_type": "markdown",
   "metadata": {},
   "source": [
    "Экспертным путём выбираем слова для удаления из названия, опираясь на данные dict_values_abc() и записываем в переменную junk"
   ]
  },
  {
   "cell_type": "code",
   "execution_count": null,
   "metadata": {},
   "outputs": [],
   "source": [
    "junk = ['ЯЧЕЕК', 'ШКАФ-КУПЕ', 'ШКАФ', 'ШЗКП', 'ШАМ', 'ХРАНЕНИЯ', 'УСИЛЕННЫЙ', 'ТЯЖЕЛЫЙ', 'ТЕЛЕФОНОВ', 'Т', 'СУШИЛЬНЫЙ', 'СУШИЛЬНАЯ',\n",
    " 'СУМОК', 'СТОЙКА', 'СПЛОШНЫЕ', 'СЕКЦИЯ)', 'СЕЙФ', 'С', 'РАСПАШНЫЕ,', 'РАЗДЕВАЛОК', 'РАЗДЕВАЛКИ', 'ПРАКТИК', 'ПОЛКИ)', 'ПАРКИНГА', 'ПАР', 'АПТЕЧКА', 'ШКАФ',\n",
    " 'УСИЛЕННЫЙ', 'СТАНДАРТ', 'РАЗДЕВАЛОК', 'ПРАКТИК', 'ОФИСНЫЙ', 'КАРТОТЕКА', 'ДЛЯ', 'БУХГАЛТЕРСКИЙ', 'ML', 'AIKO', 'ШКАФ', 'ТУМБА', 'ТЕЛЕЖКА', 'СТОЛ', 'СТМ',\n",
    " 'СТЕЛЛАЖ', 'СЕЙФ-ТЕРМОСТАТ', 'ПРОЦЕДУРНЫЙ', 'ПРАКТИК', 'ОДЕЖДЫ', 'ММ600ГЛУБИНА,', 'ММ500ГЛУБИНА,', 'ММ400', 'ММ320', 'ММ1750/1850ШИРИНА,', 'ММ1655/1755ШИРИНА,',\n",
    " 'МЕДИЦИНСКИЙ', 'МЕДИЦИНСКАЯ', 'МД', 'МАНИПУЛЯЦИОННЫЙ', 'КРОВАТЬ', 'КАРТОТЕКА', 'ДЛЯ', 'БАНКЕТКА', 'АРХИВНЫЙ', 'ШКАФ', 'ТС', 'ПРАКТИК', 'ОФИСНЫЙ', \n",
    " 'МЕДИЦИНСКИЙ', 'КАРТОТЕКА', 'ИНСТРУМЕНТАЛЬНЫЙ', 'БУХГАЛТЕРСКИЙ', 'VALBERG' ]"
   ]
  },
  {
   "cell_type": "code",
   "execution_count": null,
   "metadata": {},
   "outputs": [],
   "source": [
    "df_1_mm['reduced'] = df_1_mm['title'].apply(reduced_title)\n",
    "df_2_mm['reduced'] = df_2_mm['title'].apply(reduced_title)\n",
    "df_3_mm['reduced'] = df_3_mm['title'].apply(reduced_title)\n",
    "df_4_mm['reduced'] = df_4_mm['title'].apply(reduced_title)\n",
    "df_5_mm['reduced'] = df_5_mm['title'].apply(reduced_title)"
   ]
  },
  {
   "cell_type": "markdown",
   "metadata": {},
   "source": [
    "#### Производственная мебель (Верстаки, столы, тумбы)"
   ]
  },
  {
   "cell_type": "code",
   "execution_count": null,
   "metadata": {},
   "outputs": [],
   "source": [
    "df_1_v = df_1[df_1['category'] == 'Производственная мебель (Верстаки, столы, тумбы)'] #only from shop 1\n",
    "df_2_v = df_2[df_2['category'] == 'Производственная мебель (Верстаки, столы, тумбы)'] #only from shop 2\n",
    "df_3_v = df_3[df_3['category'] == 'Производственная мебель (Верстаки, столы, тумбы)'] #only from shop 3\n",
    "df_4_v = df_4[df_4['category'] == 'Производственная мебель (Верстаки, столы, тумбы)'] #only from shop 4\n",
    "df_5_v = df_5[df_5['category'] == 'Производственная мебель (Верстаки, столы, тумбы)'] #only from shop 5"
   ]
  },
  {
   "cell_type": "code",
   "execution_count": null,
   "metadata": {},
   "outputs": [],
   "source": [
    "#title to upper\n",
    "df_1_v['title'] = df_1_v['title'].str.upper() \n",
    "df_2_v['title'] = df_2_v['title'].str.upper()\n",
    "df_3_v['title'] = df_3_v['title'].str.upper()\n",
    "df_4_v['title'] = df_4_v['title'].str.upper()\n",
    "df_5_v['title'] = df_5_v['title'].str.upper()"
   ]
  },
  {
   "cell_type": "code",
   "execution_count": null,
   "metadata": {},
   "outputs": [],
   "source": [
    "dict_values_abc(df_1_v['title']) #разбиваем на слова и выводим частотность"
   ]
  },
  {
   "cell_type": "code",
   "execution_count": null,
   "metadata": {},
   "outputs": [],
   "source": [
    "dict_values_abc(df_2_v['title'])"
   ]
  },
  {
   "cell_type": "code",
   "execution_count": null,
   "metadata": {},
   "outputs": [],
   "source": [
    "dict_values_abc(df_3_v['title'])"
   ]
  },
  {
   "cell_type": "code",
   "execution_count": null,
   "metadata": {},
   "outputs": [],
   "source": [
    "dict_values_abc(df_4_v['title'])"
   ]
  },
  {
   "cell_type": "code",
   "execution_count": null,
   "metadata": {},
   "outputs": [],
   "source": [
    "dict_values_abc(df_5_v['title'])"
   ]
  },
  {
   "cell_type": "markdown",
   "metadata": {},
   "source": [
    "Экспертным путём выбираем слова для удаления из названия, опираясь на данные dict_values_abc() и записываем в переменную junk"
   ]
  },
  {
   "cell_type": "code",
   "execution_count": null,
   "metadata": {},
   "outputs": [],
   "source": [
    "junk = ['ТУМБА', 'ТЕЛЕЖКА', 'СТОЛ-ВЕРСТАК', 'СТОЛ', 'СЛЕСАРНЫЙ', 'РАБОЧЕЕ', 'ПРОМЫШЛЕННЫЙ',\n",
    "        'НА', 'МОБИЛЬНЫЙ', 'МЕТАЛЛИЧЕСКИЙ', 'МЕСТО', 'КОМПЛЕКТ', 'ИНСТРУМЕНТАЛЬНАЯ',\n",
    "        'ДЛЯ', 'ВЕРСТАК','ЯЩИК', 'ЭКРАН', 'ШКАФ', 'ПОЛКА', 'КОМПЛЕКТ', 'ИНСТРУМЕНТАЛЬНЫЙ',\n",
    "        'ЯЩИКАМИ', 'ТУМБА', 'ПЕРФОРИРОВАННЫЙ', 'ИНСТРУМЕНТОВ', 'ВЕРСТАКА']"
   ]
  },
  {
   "cell_type": "code",
   "execution_count": null,
   "metadata": {},
   "outputs": [],
   "source": [
    "df_1_v['reduced'] = df_1_v['title'].apply(reduced_title)\n",
    "df_2_v['reduced'] = df_2_v['title'].apply(reduced_title)\n",
    "df_3_v['reduced'] = df_3_v['title'].apply(reduced_title)\n",
    "df_4_v['reduced'] = df_4_v['title'].apply(reduced_title)\n",
    "df_5_v['reduced'] = df_5_v['title'].apply(reduced_title)"
   ]
  },
  {
   "cell_type": "markdown",
   "metadata": {},
   "source": [
    "#### Junk All & save"
   ]
  },
  {
   "cell_type": "code",
   "execution_count": null,
   "metadata": {},
   "outputs": [],
   "source": [
    "#title to upper\n",
    "df_1['title'] = df_1['title'].str.upper() \n",
    "df_2['title'] = df_2['title'].str.upper()\n",
    "df_3['title'] = df_3['title'].str.upper()\n",
    "df_4['title'] = df_4['title'].str.upper()\n",
    "df_5['title'] = df_5['title'].str.upper()"
   ]
  },
  {
   "cell_type": "code",
   "execution_count": null,
   "metadata": {},
   "outputs": [],
   "source": [
    "junk = ['ЯЩИК', 'ЭЛЕКТРИЧЕСКАЯ', 'ШТАНГА', 'ШКАФ', 'ФУНКЦИОНАЛЬНАЯ', 'УСТРОЙСТВОМ', 'ТУМБА',\n",
    "        'ТУАЛЕТНЫМ', 'ТРЕЙЗЕР', 'ТП-8', 'ТП-7', 'ТП-6', 'СТОЛ', 'СТМ', 'СТЕЛЛАЖ', 'C', 'РУЧНЫХ', \n",
    "        'РАМА', 'ПОДВЕСКИ', 'ОПОР', 'НПВ', \n",
    "        'МЕХАНИЧЕСКАЯ', 'МЕДИЦИНСКИЙ', 'МЕДИЦИНСКАЯ', 'МД', 'МВ223.1.1.5', 'ШМ', 'ШКАФ', 'СТОЛИК', 'СТОЛ', 'ПРОЦЕДУРНЫЙ', 'ПРАКТИК', \n",
    "        'МЕДИЦИНСКИЙ', 'МЕДИЦИНСКАЯ', 'КРОВАТЬ', 'MED', 'ЯЩИКОМ', 'ЯЩИКАМИ', 'ЭКОНОМ', 'ШТАТИВ', 'ШМ-SS', 'ШКАФ', 'ШИРМА', 'ЧЕРНЫЙ)',\n",
    "        'ФУНКЦИОНАЛЬНАЯ', 'УЛЬТРАФИОЛЕТОВЫЙ', 'ТУМБЫ', 'ТУМБОЙ', 'ТУМБАМИ', 'ТУМБА', 'ТРЕХМЕСТНЫЙ', 'ТРЕХМЕСТНАЯ', 'ТЕЛЕЖКА', 'ТАБУРЕТ',\n",
    "        'СТУЛ', 'СТОЛИК', 'СТОЛЕШНИЦА', 'СТОЛ-ТУМБА', 'СТОЛ-МОЙКА', 'СТОЛ', 'СТОЙКА' 'ТОРГОВЫЙ', 'СУШКИ', \n",
    "        'СТЕНКА-СЕТКА', 'СТЕЛЛАЖ', 'СПЛОШНЫХ', 'СПЛОШНЫЕ', 'СПЛОШНОЙ', \n",
    "        'СИСТЕМА', 'СЕТЧАТЫМ', 'СЕКЦИОННЫМ', 'ПРИСТЕННЫЙ', 'ПОСУДЫ', 'ПОЛОЧНЫЙ', \n",
    "        'ПОЛОК)',  'ПОЛОК', 'ПОЛКОЙ-РЕШЕТКОЙ', 'ПОЛКОЙ', 'ПОЛКИ)', 'ПОЛКИ', 'ПЛАСТИКОВЫМИ',\n",
    "        'ПЕРФОРИРОВАННЫХ', 'ПЕРФОРИРОВАННЫЕ', 'ПЕРФОРИРОВАННОЙ', 'ОЦИНКОВАННЫХ',\n",
    "        'ОЦИНКОВАННЫМ', 'ОЦИНКОВАННЫЕ', 'ОЦИНК.РАМЫ', 'ОЦИНК.', 'ОДНОСТОРОННИЙ', 'ОДЕЖДЫ',\n",
    "        'НАСТОЛЬНЫЙ', 'НАСТИЛОМ)', 'НАСТИЛОМ', 'НАСТИЛА)', 'НАСТИЛ', 'НАСТЕННЫЙ', 'НАПОЛЬНАЯ',\n",
    "        'МОДУЛЬНЫЙ', 'МОБИЛЬНЫЙ', 'МЕТАЛЛИЧЕСКИХ', 'МЕТАЛЛИЧЕСКИЙ', 'МЕТАЛЛИЧЕСКИЕ',\n",
    "        'МЕТАЛЛ)', 'МЕТ.', 'МЕДИЦИНСКИЙ', 'ИЗ', 'ДЛЯ', 'ДВУСТОРОННИЙ', 'ГРУЗОВОЙ',\n",
    "        'БУТЫЛЕЙ', 'БОНЕТНЫЙ/КОМБИНИРОВАННЫЙ', 'БОНЕТНЫЙ', 'БЕЗ', 'СТЕНКА', 'СКЛАДСКОЙ',\n",
    "        'УГЛОВОЙ', 'СРЕДНЕГРУЗОВОЙ', 'СКЛАДА', 'ПОЛКАМИ', 'НАГРУЗКА)', 'НАГРУЗКА', 'КОНСОЛЬНЫЙ',\n",
    "        'КОНСОЛЕЙ)', 'КОЛЕС', 'ДИСКОВ', 'ГРУЗА', 'АРХИВНЫЙ', 'АРХИВА', 'АВТОШИН', \n",
    "        'ШКАФ', 'СТАНДАРТ', 'РАЗДЕВАЛОК', 'ОФИСНЫЙ', 'КАРТОТЕКА', 'ДЛЯ', 'БУХГАЛТЕРСКИЙ',\n",
    "        'УСИЛЕННЫЙ', 'ШКАФ-КУПЕ', 'СУШИЛЬНЫЙ', 'СУМОК', 'МЕДИЦИНСКИЙ', 'ИНСТРУМЕНТАЛЬНЫЙ', \n",
    "        'ЯЩИКОМ', 'ЯЩИКАМИ', 'ЯЩИК', 'ЭЛЕКТРОПОДЪЕМОМ', 'ЭЛЕКТРИЧЕСКИЙ', 'ЭЛЕКТРИЧЕСКАЯ',\n",
    "        'ЭКРАНОМ,', 'ЭКРАН', 'ШТАБЕЛЕР-БОЧКОКАНТОВАТЕЛЬ', 'ШТАБЕЛЕР','ШИРМА', 'ХРАНЕНИЯ',\n",
    "        'ФУНКЦИОНАЛЬНАЯ', 'ТУМБОЙ,', 'ТУМБОЙ', 'ТУМБА', 'ТУМБ', 'ТЕЛЕЖКА', 'СЪЕМНЫМИ', 'СТУЛ',\n",
    "        'СТОЛИК', 'СТОЛЕШНИЦЕЙ', 'СТОЛ', 'СТАЛИ,', 'СТАЛИ', 'СОПРОВОЖДАЕМЫЙ', 'СЛЕСАРНЫЙ',\n",
    "        'СИСТЕМА', 'СЕКЦИЯ', 'СЕКЦИЙ', 'СЕКЦИИ', 'САМОХОДНЫЙ', 'САМОХОДНАЯ', 'РУЧНОЙ',\n",
    "        'РУЧКОЙ', 'РУЧКАМИ', 'РЕГУЛИРУЕМАЯ', 'РЕГУЛИРОВКОЙ', 'РАБОЧИЙ', 'РАБОТ', 'ПРОЦЕДУРНЫЙ',\n",
    "        'ПРОТИВОВЕСОМ', 'ПРЕДПРИЯТИЙ', 'ПОЧТЫ', 'ПОЧТОВЫЙ', 'ПОЛКОЙ', 'ПОЛКАМИ', 'ПОГРУЗЧИК',\n",
    "         'ПЛОЩАДКОЙ', 'ПЛАТФОРМОЙ)', 'ПЛАТФОРМОЙ', 'ПЛАСТИКОВЫМИ', 'ПЕРЕДВИЖНОЙ', 'ПЕРЕВОЗКИ',\n",
    "        'ОПОР', 'ОПЕРАТОРА', 'ОДНОТУМБОВЫЙ', 'ОГРАЖДЕНИЯМИ', 'ОБЩЕБОЛЬНИЧНАЯ', 'НИЖНЯЯ', 'НЕРЖАВЕЮЩЕЙ',\n",
    "        'МОНТАЖНЫЙ', 'МНОГОФУНКЦИОНАЛЬНЫЙ', 'МЕТАЛЛИЧЕСКОМ', 'МЕТАЛЛИЧЕСКИЙ', 'МЕТАЛЛ', 'МЕЖКОРПУСНАЯ',\n",
    "        'МЕДИЦИНСКИХ', 'МЕДИЦИНСКИЙ', 'МЕДИЦИНСКАЯ', 'МАЧТОЙ','МАНИПУЛЯЦИОННЫЙ', 'ЛОТКОМ,', 'ЛОТКОМ',\n",
    "        'ЛОЖЕМ', 'ЛАБОРАТОРНЫЙ', 'КРОВАТЬ', 'КОМПЛЕКТЕ', 'КОМПАКТНЫЙ', 'КОЛЕСАХ,', 'КОЛЕСАМИ,',\n",
    "        'КОЛЕСАМИ', 'КОЛЕСА)', 'КАРКАСЕ', 'ИНСТРУМЕНТОВ', 'ИНСТРУМЕНТАЛЬНЫЙ', 'ИНСТРУМЕНТАЛЬНАЯ',\n",
    "        'ИНСТРУМЕНТА', 'ИЗ', 'ДЛЯ', 'ДВУХТУМБОВЫЙ', 'ДВУХСЕКЦИОННЫЙ,', 'ДВУМЯ', 'ДВЕРКОЙ,',\n",
    "        'ДВЕРКОЙ', 'ГРУЗОВ', 'ГИДРАВЛИЧЕСКИЙ', 'ГИДРАВЛИЧЕСКАЯ', 'ВЫТЯЖНОЙ', 'ВЫСОТЫ',\n",
    "        'ВЫДВИЖНЫМИ', 'ВЫДВИЖНЫМ', 'ВЫДВИЖНОЙ', 'ВИЛОЧНЫЙ', 'ВИЛАМИ', 'ВИЛ', 'ВЕШАЛКА',\n",
    "        'ВЕСАМИ', 'ВЕРХНЯЯ', 'ВЕРСТАК', 'БОКОВЫМИ', 'БОКОВОЙ', 'АПТЕЧКА', \n",
    "        'ТУМБА', 'ТЕЛЕЖКА', 'СТОЛ-ВЕРСТАК', 'СТОЛ', 'СЛЕСАРНЫЙ', 'РАБОЧЕЕ', 'ПРОМЫШЛЕННЫЙ',\n",
    "        'НА', 'МОБИЛЬНЫЙ', 'МЕТАЛЛИЧЕСКИЙ', 'МЕСТО', 'КОМПЛЕКТ', 'ИНСТРУМЕНТАЛЬНАЯ',\n",
    "        'ДЛЯ', 'ВЕРСТАК','ЯЩИК', 'ЭКРАН', 'ШКАФ', 'ПОЛКА', 'КОМПЛЕКТ', 'ИНСТРУМЕНТАЛЬНЫЙ',\n",
    "        'ЯЩИКАМИ', 'ТУМБА', 'ПЕРФОРИРОВАННЫЙ', 'ИНСТРУМЕНТОВ', 'ВЕРСТАКА']"
   ]
  },
  {
   "cell_type": "code",
   "execution_count": null,
   "metadata": {},
   "outputs": [],
   "source": [
    "df_1['reduced'] = df_1['title'].apply(reduced_title)\n",
    "df_2['reduced'] = df_2['title'].apply(reduced_title)\n",
    "df_3['reduced'] = df_3['title'].apply(reduced_title)\n",
    "df_4['reduced'] = df_4['title'].apply(reduced_title)\n",
    "df_5['reduced'] = df_5['title'].apply(reduced_title)"
   ]
  },
  {
   "cell_type": "markdown",
   "metadata": {},
   "source": [
    "##### join ver.2"
   ]
  },
  {
   "cell_type": "code",
   "execution_count": null,
   "metadata": {},
   "outputs": [],
   "source": [
    "df_all = pd.DataFrame() #create a new df for join"
   ]
  },
  {
   "cell_type": "code",
   "execution_count": null,
   "metadata": {},
   "outputs": [],
   "source": [
    "df_all = pd.concat([df_all, df_1[['title', 'reduced', 'price']]]) #add df_1"
   ]
  },
  {
   "cell_type": "code",
   "execution_count": null,
   "metadata": {},
   "outputs": [],
   "source": [
    "df_all = df_all.merge(df_2[['title', 'reduced', 'price']], on = 'reduced', how='outer')"
   ]
  },
  {
   "cell_type": "code",
   "execution_count": null,
   "metadata": {},
   "outputs": [],
   "source": [
    "df_all = df_all.merge(df_3[['title', 'reduced', 'price']], on = 'reduced', how='outer')"
   ]
  },
  {
   "cell_type": "code",
   "execution_count": null,
   "metadata": {},
   "outputs": [],
   "source": [
    "df_all = df_all.merge(df_4[['title', 'reduced', 'price']], on = 'reduced', how='outer')"
   ]
  },
  {
   "cell_type": "code",
   "execution_count": null,
   "metadata": {},
   "outputs": [],
   "source": [
    "df_all = df_all.merge(df_5[['title', 'reduced', 'price']], on = 'reduced', how='outer')"
   ]
  },
  {
   "cell_type": "code",
   "execution_count": null,
   "metadata": {},
   "outputs": [],
   "source": [
    "df_all"
   ]
  },
  {
   "cell_type": "code",
   "execution_count": null,
   "metadata": {},
   "outputs": [],
   "source": [
    "df_all.columns = ['title_1', 'reduced', 'price_1', 'title_2', 'price_2', 'title_3', \n",
    "              'price_3', 'title_4', 'price_4', 'title_5', 'price_5'] #rename"
   ]
  },
  {
   "cell_type": "code",
   "execution_count": null,
   "metadata": {},
   "outputs": [],
   "source": [
    "df_all.info()"
   ]
  },
  {
   "cell_type": "code",
   "execution_count": null,
   "metadata": {},
   "outputs": [],
   "source": [
    "df_match_all = df_all.dropna(thresh = 4) #delet rows without match"
   ]
  },
  {
   "cell_type": "code",
   "execution_count": null,
   "metadata": {},
   "outputs": [],
   "source": [
    "df_match_all"
   ]
  },
  {
   "cell_type": "markdown",
   "metadata": {},
   "source": [
    "#### Save to csv"
   ]
  },
  {
   "cell_type": "code",
   "execution_count": null,
   "metadata": {},
   "outputs": [],
   "source": [
    "# save\n",
    "df_all.to_csv('all_only_price.csv', index=False)\n",
    "df_match_all.to_csv('all_only_match.csv', index=False)"
   ]
  }
 ],
 "metadata": {
  "kernelspec": {
   "display_name": "Python 3 (ipykernel)",
   "language": "python",
   "name": "python3"
  },
  "language_info": {
   "codemirror_mode": {
    "name": "ipython",
    "version": 3
   },
   "file_extension": ".py",
   "mimetype": "text/x-python",
   "name": "python",
   "nbconvert_exporter": "python",
   "pygments_lexer": "ipython3",
   "version": "3.9.13"
  },
  "vscode": {
   "interpreter": {
    "hash": "a077222d77dfe082b8f1dd562ad70e458ac2ab76993a0b248ab0476e32e9e8dd"
   }
  }
 },
 "nbformat": 4,
 "nbformat_minor": 2
}
